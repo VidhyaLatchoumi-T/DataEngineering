{
  "nbformat": 4,
  "nbformat_minor": 0,
  "metadata": {
    "colab": {
      "provenance": []
    },
    "kernelspec": {
      "name": "python3",
      "display_name": "Python 3"
    },
    "language_info": {
      "name": "python"
    }
  },
  "cells": [
    {
      "cell_type": "code",
      "source": [
        "! pip install pyspark"
      ],
      "metadata": {
        "colab": {
          "base_uri": "https://localhost:8080/"
        },
        "id": "Y_S6LJwNC2cK",
        "outputId": "b22e8cc8-6e8a-445b-8aab-f1763ff208ac"
      },
      "execution_count": null,
      "outputs": [
        {
          "output_type": "stream",
          "name": "stdout",
          "text": [
            "Collecting pyspark\n",
            "  Downloading pyspark-3.5.3.tar.gz (317.3 MB)\n",
            "\u001b[2K     \u001b[90m━━━━━━━━━━━━━━━━━━━━━━━━━━━━━━━━━━━━━━━━\u001b[0m \u001b[32m317.3/317.3 MB\u001b[0m \u001b[31m4.8 MB/s\u001b[0m eta \u001b[36m0:00:00\u001b[0m\n",
            "\u001b[?25h  Preparing metadata (setup.py) ... \u001b[?25l\u001b[?25hdone\n",
            "Requirement already satisfied: py4j==0.10.9.7 in /usr/local/lib/python3.10/dist-packages (from pyspark) (0.10.9.7)\n",
            "Building wheels for collected packages: pyspark\n",
            "  Building wheel for pyspark (setup.py) ... \u001b[?25l\u001b[?25hdone\n",
            "  Created wheel for pyspark: filename=pyspark-3.5.3-py2.py3-none-any.whl size=317840625 sha256=96c381ea40d79616e4fe96e24243c34cd6ab3b72c3e9db111231dff02cca285d\n",
            "  Stored in directory: /root/.cache/pip/wheels/1b/3a/92/28b93e2fbfdbb07509ca4d6f50c5e407f48dce4ddbda69a4ab\n",
            "Successfully built pyspark\n",
            "Installing collected packages: pyspark\n",
            "Successfully installed pyspark-3.5.3\n"
          ]
        }
      ]
    },
    {
      "cell_type": "code",
      "source": [
        "from pyspark.sql import SparkSession\n",
        "from pyspark.sql.types import StructType, StructField, StringType, FloatType, TimestampType\n",
        "from pyspark.sql.functions import col, window, avg, count, stddev, unix_timestamp, lag, dayofmonth, month, hour, when\n",
        "\n",
        "# Create Spark session\n",
        "spark = SparkSession.builder.appName(\"FraudDetection\").getOrCreate()\n",
        "\n",
        "# Define the schema for transaction data\n",
        "transaction_schema = StructType([\n",
        "    StructField(\"transaction_id\", StringType(), True),\n",
        "    StructField(\"user_id\", StringType(), True),\n",
        "    StructField(\"transaction_amount\", FloatType(), True),\n",
        "    StructField(\"transaction_time\", TimestampType(), True),\n",
        "    StructField(\"payment_method\", StringType(), True),\n",
        "    StructField(\"location\", StringType(), True),\n",
        "    StructField(\"fraud_label\", StringType(), True)\n",
        "])\n",
        "\n",
        "# Define the schema for user data\n",
        "user_schema = StructType([\n",
        "    StructField(\"user_id\", StringType(), True),\n",
        "    StructField(\"user_name\", StringType(), True),\n",
        "    StructField(\"user_location\", StringType(), True)\n",
        "])\n",
        "\n",
        "# Read transaction data from CSV as a static DataFrame\n",
        "transaction_df = spark.read.schema(transaction_schema).csv(\"/content/sample_data/transaction_fact.csv\", header=True)\n",
        "\n",
        "# Read user data from CSV as a static DataFrame\n",
        "user_dim = spark.read.schema(user_schema).csv(\"/content/sample_data/user_dim.csv\", header=True)\n",
        "user_dim = user_dim.withColumnRenamed(\"location\", \"user_location\")\n",
        "\n",
        "# Data Cleaning\n",
        "transaction_df = transaction_df.dropDuplicates().na.fill({\n",
        "    \"user_id\": \"unknown\",\n",
        "    \"transaction_amount\": 0.0,\n",
        "    \"transaction_time\": \"1970-01-01 00:00:00\"\n",
        "})\n",
        "\n",
        "# Feature Engineering\n",
        "transaction_df = transaction_df.withColumn(\"transaction_day\", dayofmonth(col(\"transaction_time\"))) \\\n",
        "                                 .withColumn(\"transaction_month\", month(col(\"transaction_time\"))) \\\n",
        "                                 .withColumn(\"transaction_hour\", hour(col(\"transaction_time\")))\n",
        "\n",
        "# Join transaction data with user data\n",
        "joined_data = transaction_df.join(user_dim, \"user_id\")\n",
        "\n",
        "# Detect anomalies: flag large transactions or mismatched locations\n",
        "anomalies = joined_data.filter(\n",
        "    (col(\"transaction_amount\") > 1000) |\n",
        "    (col(\"location\") != col(\"user_location\"))\n",
        ")\n",
        "\n",
        "# Feature 1: Calculate the average transaction amount per user\n",
        "average_transaction = transaction_df.groupBy(\"user_id\").agg(\n",
        "    avg(\"transaction_amount\").alias(\"avg_transaction_amount\"),\n",
        "    stddev(\"transaction_amount\").alias(\"stddev_transaction_amount\")\n",
        ")\n",
        "\n",
        "# Feature 2: Calculate transaction frequency\n",
        "transaction_frequency = transaction_df.groupBy(\n",
        "    \"user_id\", window(\"transaction_time\", \"1 hour\")\n",
        ").agg(count(\"transaction_id\").alias(\"transaction_count\"))\n",
        "\n",
        "# Feature 3: Flag multiple transactions from different locations within a short time window\n",
        "suspicious_location_changes = transaction_df.groupBy(\n",
        "    \"user_id\", window(\"transaction_time\", \"30 minutes\"), \"location\"\n",
        ").agg(count(\"transaction_id\").alias(\"location_transaction_count\")).filter(\n",
        "    col(\"location_transaction_count\") > 1\n",
        ")\n",
        "\n",
        "# Feature 4: Total transactions\n",
        "user_transaction_count = transaction_df.groupBy(\"user_id\").agg(count(\"transaction_id\").alias(\"total_transactions\"))\n",
        "\n",
        "transaction_df = joined_data.withColumn(\n",
        "    \"fraud_label\",\n",
        "    when((col(\"transaction_amount\") > 1000) |\n",
        "         (col(\"location\") != col(\"user_location\")) |\n",
        "         (col(\"user_id\").isin([row[\"user_id\"] for row in suspicious_location_changes.collect()])), 1\n",
        "    ).otherwise(col(\"fraud_label\"))\n",
        ")\n",
        "\n",
        "# Output\n",
        "transaction_df.show(truncate=False)\n"
      ],
      "metadata": {
        "colab": {
          "base_uri": "https://localhost:8080/"
        },
        "id": "4fA2toT09FWC",
        "outputId": "85e53574-1b1f-4438-be8e-624ce212170b"
      },
      "execution_count": 9,
      "outputs": [
        {
          "output_type": "stream",
          "name": "stdout",
          "text": [
            "+-------+--------------+------------------+-------------------+--------------+-------------+-----------+---------------+-----------------+----------------+-------------+-------------+\n",
            "|user_id|transaction_id|transaction_amount|transaction_time   |payment_method|location     |fraud_label|transaction_day|transaction_month|transaction_hour|user_name    |user_location|\n",
            "+-------+--------------+------------------+-------------------+--------------+-------------+-----------+---------------+-----------------+----------------+-------------+-------------+\n",
            "|7      |207           |700.0             |2024-08-21 13:50:00|Debit Card    |Seattle      |0          |21             |8                |13              |Grace Green  |Seattle      |\n",
            "|3      |212           |1200.0            |2024-08-26 11:30:00|Credit Card   |Chicago      |1          |26             |8                |11              |Charlie Brown|Chicago      |\n",
            "|4      |213           |75.0              |2024-08-27 14:50:00|Debit Card    |Houston      |0          |27             |8                |14              |Diana Prince |Houston      |\n",
            "|6      |215           |500.0             |2024-08-29 09:40:00|Credit Card   |Miami        |0          |29             |8                |9               |Frank White  |Miami        |\n",
            "|8      |208           |1800.0            |2024-08-22 10:10:00|PayPal        |Denver       |1          |22             |8                |10              |Henry Adams  |Denver       |\n",
            "|10     |210           |2500.0            |2024-08-24 17:20:00|Bank Transfer |Atlanta      |1          |24             |8                |17              |Jack Grey    |Atlanta      |\n",
            "|2      |214           |300.0             |2024-08-28 13:15:00|Bank Transfer |Los Angeles  |0          |28             |8                |13              |Bob Smith    |Los Angeles  |\n",
            "|3      |203           |450.0             |2024-08-17 09:20:00|Debit Card    |Chicago      |0          |17             |8                |9               |Charlie Brown|Chicago      |\n",
            "|9      |209           |80.0              |2024-08-23 15:00:00|Credit Card   |Boston       |0          |23             |8                |15              |Ivy Blue     |Boston       |\n",
            "|1      |211           |600.0             |2024-08-25 10:00:00|Credit Card   |New York     |0          |25             |8                |10              |Alice Johnson|New York     |\n",
            "|2      |202           |1500.0            |2024-08-16 12:45:00|PayPal        |Los Angeles  |1          |16             |8                |12              |Bob Smith    |Los Angeles  |\n",
            "|8      |219           |1700.0            |2024-08-29 15:45:00|Bank Transfer |Denver       |1          |29             |8                |15              |Henry Adams  |Denver       |\n",
            "|4      |204           |2200.0            |2024-08-18 14:00:00|Credit Card   |Houston      |1          |18             |8                |14              |Diana Prince |Houston      |\n",
            "|10     |217           |150.0             |2024-08-29 13:30:00|Debit Card    |Atlanta      |0          |29             |8                |13              |Jack Grey    |Atlanta      |\n",
            "|6      |206           |900.0             |2024-08-20 11:30:00|Bank Transfer |Miami        |0          |20             |8                |11              |Frank White  |Miami        |\n",
            "|1      |201           |300.0             |2024-08-15 10:30:00|Credit Card   |New York     |0          |15             |8                |10              |Alice Johnson|New York     |\n",
            "|5      |205           |50.0              |2024-08-19 16:10:00|Credit Card   |San Francisco|0          |19             |8                |16              |Eve Black    |San Francisco|\n",
            "|7      |218           |220.0             |2024-08-29 14:10:00|Credit Card   |Seattle      |0          |29             |8                |14              |Grace Green  |Seattle      |\n",
            "|9      |216           |1000.0            |2024-08-29 12:00:00|PayPal        |Boston       |0          |29             |8                |12              |Ivy Blue     |Boston       |\n",
            "|5      |220           |200.0             |2024-08-29 16:20:00|Debit Card    |San Francisco|0          |29             |8                |16              |Eve Black    |San Francisco|\n",
            "+-------+--------------+------------------+-------------------+--------------+-------------+-----------+---------------+-----------------+----------------+-------------+-------------+\n",
            "\n"
          ]
        }
      ]
    }
  ]
}