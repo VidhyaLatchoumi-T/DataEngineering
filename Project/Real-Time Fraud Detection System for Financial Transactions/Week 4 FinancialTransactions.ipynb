{
  "cells": [
    {
      "cell_type": "code",
      "source": [
        "! pip install pyspark"
      ],
      "metadata": {
        "colab": {
          "base_uri": "https://localhost:8080/"
        },
        "id": "pq9AMtzTe99x",
        "outputId": "486fd599-e53d-4cc8-b3cc-9ab849c92def"
      },
      "execution_count": 1,
      "outputs": [
        {
          "output_type": "stream",
          "name": "stdout",
          "text": [
            "Collecting pyspark\n",
            "  Downloading pyspark-3.5.3.tar.gz (317.3 MB)\n",
            "\u001b[2K     \u001b[90m━━━━━━━━━━━━━━━━━━━━━━━━━━━━━━━━━━━━━━━━\u001b[0m \u001b[32m317.3/317.3 MB\u001b[0m \u001b[31m4.2 MB/s\u001b[0m eta \u001b[36m0:00:00\u001b[0m\n",
            "\u001b[?25h  Preparing metadata (setup.py) ... \u001b[?25l\u001b[?25hdone\n",
            "Requirement already satisfied: py4j==0.10.9.7 in /usr/local/lib/python3.10/dist-packages (from pyspark) (0.10.9.7)\n",
            "Building wheels for collected packages: pyspark\n",
            "  Building wheel for pyspark (setup.py) ... \u001b[?25l\u001b[?25hdone\n",
            "  Created wheel for pyspark: filename=pyspark-3.5.3-py2.py3-none-any.whl size=317840625 sha256=df278bb5a977006f14ba34e4c2503d6c3f55305305f09f97e3cf4eef78026af0\n",
            "  Stored in directory: /root/.cache/pip/wheels/1b/3a/92/28b93e2fbfdbb07509ca4d6f50c5e407f48dce4ddbda69a4ab\n",
            "Successfully built pyspark\n",
            "Installing collected packages: pyspark\n",
            "Successfully installed pyspark-3.5.3\n"
          ]
        }
      ]
    },
    {
      "cell_type": "code",
      "execution_count": 8,
      "metadata": {
        "application/vnd.databricks.v1+cell": {
          "cellMetadata": {
            "byteLimit": 2048000,
            "rowLimit": 10000
          },
          "inputWidgets": {},
          "nuid": "13d5f9bb-282f-488a-bf16-2d9effdfbb7b",
          "showTitle": false,
          "title": ""
        },
        "colab": {
          "base_uri": "https://localhost:8080/"
        },
        "id": "RsydwPFJerSX",
        "outputId": "28d399f1-635b-4ca8-e9da-3c8ef288b1b1"
      },
      "outputs": [
        {
          "output_type": "stream",
          "name": "stdout",
          "text": [
            "root\n",
            " |-- transaction_id: integer (nullable = true)\n",
            " |-- user_id: integer (nullable = true)\n",
            " |-- amount: double (nullable = true)\n",
            " |-- time_diff: double (nullable = true)\n",
            " |-- location_diff: double (nullable = true)\n",
            " |-- fraud_label: integer (nullable = true)\n",
            " |-- transaction_time: timestamp (nullable = true)\n",
            "\n",
            "+--------------+-------+------------------+------------------+------------------+-----------+--------------------+\n",
            "|transaction_id|user_id|            amount|         time_diff|     location_diff|fraud_label|    transaction_time|\n",
            "+--------------+-------+------------------+------------------+------------------+-----------+--------------------+\n",
            "|             1|      7| 278.3481840251138|1860.3725726843804|  98.1840888310531|          1|2023-11-03 05:34:...|\n",
            "|             2|     15| 563.4372087184627|  939.724200214642| 83.89335020693633|          1|2024-02-17 05:49:...|\n",
            "|             3|     11| 386.0122403800209|3586.5170654287695| 86.04046183116752|          1|2023-12-31 05:05:...|\n",
            "|             4|      8| 971.8535349121582| 3475.544245288368|25.025136051586404|          0|2023-10-06 05:07:...|\n",
            "|             5|      7| 849.6692551447535|2010.2981395319441|  3.88347344294232|          0|2024-04-25 05:31:...|\n",
            "|             6|     19| 723.1208735590488|3177.6081991384335|30.326551467322282|          0|2024-09-20 05:12:...|\n",
            "|             7|     11|239.80499515021097| 680.1568829206244| 53.70824271966554|          0|2024-05-29 05:54:...|\n",
            "|             8|     11|259.78798114751737|1004.6579979792625|32.665124179604085|          0|2023-10-16 05:48:...|\n",
            "|             9|      4| 45.23142159073919|2521.5878300720037| 82.78690037875887|          1|2024-04-17 05:23:...|\n",
            "|            10|      8| 712.1095752373584| 3048.133450915663| 27.15429158197419|          0|2024-06-30 05:14:...|\n",
            "|            11|      3|115.33636670777217|3082.9111264692547| 96.52518303907698|          1|2024-05-15 05:14:...|\n",
            "|            12|      2|442.13981935644125| 1456.824749512762| 45.72651616137286|          0|2024-03-26 05:41:...|\n",
            "|            13|     12|205.71060632371922|3196.0845854406944| 84.20230750119813|          1|2023-11-17 05:12:...|\n",
            "|            14|      6| 896.2847776951518|3063.4914871142782|19.438003399487304|          0|2024-04-03 05:14:...|\n",
            "|            15|      2| 477.9933720662012|  3368.35034420119| 41.13539050566786|          0|2024-08-31 05:09:...|\n",
            "|            16|      1| 565.4591941165017| 2827.441003359083| 69.95122107671938|          0|2024-02-21 05:18:...|\n",
            "|            17|     12| 697.0385059939969|2408.6887287165086|13.835309241780136|          0|2023-10-07 05:25:...|\n",
            "|            18|     12|143.63479713384632|2090.8911505498004|13.274542224296981|          0|2024-08-18 05:30:...|\n",
            "|            19|     17| 606.3952923814281|1340.8456768557135|  96.9536867114159|          1|2024-02-13 05:43:...|\n",
            "|            20|     10| 542.1418858451648|3384.5402594055445|  71.4595104179952|          0|2024-03-20 05:09:...|\n",
            "+--------------+-------+------------------+------------------+------------------+-----------+--------------------+\n",
            "only showing top 20 rows\n",
            "\n",
            "+--------------+-------+------------------+------------------+-----------+----------+\n",
            "|transaction_id|user_id|amount            |location_diff     |fraud_label|prediction|\n",
            "+--------------+-------+------------------+------------------+-----------+----------+\n",
            "|1             |7      |278.3481840251138 |98.1840888310531  |1          |1.0       |\n",
            "|2             |15     |563.4372087184627 |83.89335020693633 |1          |1.0       |\n",
            "|3             |11     |386.0122403800209 |86.04046183116752 |1          |1.0       |\n",
            "|4             |8      |971.8535349121582 |25.025136051586404|0          |0.0       |\n",
            "|5             |7      |849.6692551447535 |3.88347344294232  |0          |0.0       |\n",
            "|6             |19     |723.1208735590488 |30.326551467322282|0          |0.0       |\n",
            "|7             |11     |239.80499515021097|53.70824271966554 |0          |0.0       |\n",
            "|8             |11     |259.78798114751737|32.665124179604085|0          |0.0       |\n",
            "|9             |4      |45.23142159073919 |82.78690037875887 |1          |1.0       |\n",
            "|10            |8      |712.1095752373584 |27.15429158197419 |0          |0.0       |\n",
            "|11            |3      |115.33636670777217|96.52518303907698 |1          |1.0       |\n",
            "|12            |2      |442.13981935644125|45.72651616137286 |0          |0.0       |\n",
            "|13            |12     |205.71060632371922|84.20230750119813 |1          |1.0       |\n",
            "|14            |6      |896.2847776951518 |19.438003399487304|0          |0.0       |\n",
            "|15            |2      |477.9933720662012 |41.13539050566786 |0          |0.0       |\n",
            "|16            |1      |565.4591941165017 |69.95122107671938 |0          |0.0       |\n",
            "|17            |12     |697.0385059939969 |13.835309241780136|0          |0.0       |\n",
            "|18            |12     |143.63479713384632|13.274542224296981|0          |0.0       |\n",
            "|19            |17     |606.3952923814281 |96.9536867114159  |1          |1.0       |\n",
            "|20            |10     |542.1418858451648 |71.4595104179952  |0          |0.0       |\n",
            "+--------------+-------+------------------+------------------+-----------+----------+\n",
            "only showing top 20 rows\n",
            "\n"
          ]
        }
      ],
      "source": [
        "from pyspark.sql import SparkSession\n",
        "from pyspark.sql import functions as F\n",
        "from pyspark.ml.classification import LogisticRegression\n",
        "from pyspark.ml.feature import VectorAssembler\n",
        "from pyspark.sql.types import StructType, StructField, IntegerType, DoubleType, StringType, TimestampType\n",
        "\n",
        "# Initialize SparkSession\n",
        "spark = SparkSession.builder.appName(\"FraudDetectionModel\").getOrCreate()\n",
        "\n",
        "# Define schema\n",
        "schema = StructType([\n",
        "    StructField(\"transaction_id\", IntegerType(), True),\n",
        "    StructField(\"user_id\", IntegerType(), True),\n",
        "    StructField(\"amount\", DoubleType(), True),\n",
        "    StructField(\"time_diff\", DoubleType(), True),  # Time difference between transactions\n",
        "    StructField(\"location_diff\", DoubleType(), True),\n",
        "    StructField(\"fraud_label\", IntegerType(), True),\n",
        "    StructField(\"transaction_time\", TimestampType(), True)\n",
        "])\n",
        "\n",
        "# Load historical transaction data\n",
        "transaction_df = spark.read.csv('/content/sample_data/fin_transaction_data.csv',header=True,schema=schema)\n",
        "\n",
        "# Display schema and initial data for verification\n",
        "transaction_df.printSchema()\n",
        "transaction_df.show()\n",
        "\n",
        "# Data Cleaning\n",
        "transaction_df = transaction_df.na.drop(subset=[\"amount\", \"time_diff\", \"location_diff\", \"fraud_label\"])\n",
        "transaction_df = transaction_df.filter(F.col(\"amount\") >= 0)\n",
        "\n",
        "# Feature Engineering\n",
        "# Extract time-based features\n",
        "transaction_df = transaction_df.withColumn(\"transaction_hour\", F.hour(F.col(\"transaction_time\"))) \\\n",
        "                                 .withColumn(\"transaction_day\", F.dayofweek(F.col(\"transaction_time\"))) \\\n",
        "                                 .withColumn(\"transaction_month\", F.month(F.col(\"transaction_time\")))\n",
        "\n",
        "# Count the number of transactions for each user\n",
        "user_transaction_count = transaction_df.groupBy(\"user_id\").count().withColumnRenamed(\"count\", \"user_transaction_count\")\n",
        "transaction_df = transaction_df.join(user_transaction_count, on=\"user_id\", how=\"left\")\n",
        "\n",
        "# Calculate user statistics (Mean and standard deviation of the transaction amounts)\n",
        "user_stats = transaction_df.groupBy(\"user_id\").agg(\n",
        "    F.mean(\"amount\").alias(\"user_mean_amount\"),\n",
        "    F.stddev(\"amount\").alias(\"user_stddev_amount\")\n",
        ")\n",
        "\n",
        "# Join user statistics\n",
        "transaction_df = transaction_df.join(user_stats, on=\"user_id\", how=\"left\")\n",
        "\n",
        "# Calculate the Z-score\n",
        "transaction_df = transaction_df.withColumn(\"amount_z_score\",\n",
        "    (F.col(\"amount\") - F.col(\"user_mean_amount\")) / F.col(\"user_stddev_amount\"))\n",
        "\n",
        "# Assemble features into a single vector\n",
        "assembler = VectorAssembler(\n",
        "    inputCols=[\"amount\", \"location_diff\", \"transaction_hour\", \"amount_z_score\"],\n",
        "    outputCol=\"features\",\n",
        "    handleInvalid=\"skip\"  # Skip rows with invalid data\n",
        ")\n",
        "transaction_df = assembler.transform(transaction_df)\n",
        "\n",
        "# Check for valid data before training\n",
        "if transaction_df.rdd.isEmpty() or transaction_df.filter(F.col(\"features\").isNull()).count() > 0:\n",
        "    print(\"Error: No valid data available for model training.\")\n",
        "else:\n",
        "    # Train a logistic regression model for fraud detection\n",
        "    lr = LogisticRegression(featuresCol=\"features\", labelCol=\"fraud_label\")\n",
        "    model = lr.fit(transaction_df)\n",
        "\n",
        "    # Make predictions on the same historical transaction data\n",
        "    predictions = model.transform(transaction_df)\n",
        "\n",
        "    # Show the predictions with transaction details\n",
        "    predictions.select(\"transaction_id\", \"user_id\", \"amount\", \"location_diff\", \"fraud_label\", \"prediction\").show(truncate=False)\n"
      ]
    }
  ],
  "metadata": {
    "application/vnd.databricks.v1+notebook": {
      "dashboards": [],
      "environmentMetadata": null,
      "language": "python",
      "notebookMetadata": {
        "pythonIndentUnit": 4
      },
      "notebookName": "Week 4 FinancialTransactions",
      "widgets": {}
    },
    "colab": {
      "provenance": []
    },
    "language_info": {
      "name": "python"
    },
    "kernelspec": {
      "name": "python3",
      "display_name": "Python 3"
    }
  },
  "nbformat": 4,
  "nbformat_minor": 0
}