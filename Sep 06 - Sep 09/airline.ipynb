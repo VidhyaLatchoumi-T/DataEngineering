{
  "nbformat": 4,
  "nbformat_minor": 0,
  "metadata": {
    "colab": {
      "provenance": []
    },
    "kernelspec": {
      "name": "python3",
      "display_name": "Python 3"
    },
    "language_info": {
      "name": "python"
    }
  },
  "cells": [
    {
      "cell_type": "code",
      "execution_count": 25,
      "metadata": {
        "colab": {
          "base_uri": "https://localhost:8080/"
        },
        "id": "-lVfslcVEG90",
        "outputId": "122318a9-7ef4-44a9-c85f-1c7e81eb892f"
      },
      "outputs": [
        {
          "output_type": "stream",
          "name": "stdout",
          "text": [
            "Requirement already satisfied: pyspark in /usr/local/lib/python3.10/dist-packages (3.5.2)\n",
            "Requirement already satisfied: py4j==0.10.9.7 in /usr/local/lib/python3.10/dist-packages (from pyspark) (0.10.9.7)\n"
          ]
        }
      ],
      "source": [
        "!pip install pyspark"
      ]
    },
    {
      "cell_type": "code",
      "source": [
        "from pyspark.sql import SparkSession\n",
        "from pyspark.sql.functions import avg,sum,max\n",
        "\n",
        "spark=SparkSession.builder.appName('airline_flight_data').getOrCreate()\n",
        "\n",
        "airline_df=spark.read.csv(\"/content/airline_data.csv\", header=True, inferSchema=True)"
      ],
      "metadata": {
        "id": "8PobZe3SE6EO"
      },
      "execution_count": 26,
      "outputs": []
    },
    {
      "cell_type": "code",
      "source": [
        "# 1.Find the Total Distance Traveled by Each Airline\n",
        "total_distance_travelled = airline_df.groupBy(\"airline\").agg(sum(\"distance\").alias(\"total_distance\"))\n",
        "print(\"Total Distance Traveled by Each Airline: \")\n",
        "total_distance_travelled.show()"
      ],
      "metadata": {
        "colab": {
          "base_uri": "https://localhost:8080/"
        },
        "id": "IOTpoAoDFbE1",
        "outputId": "a10053b4-e273-4b97-8957-74a9c851a5c2"
      },
      "execution_count": 27,
      "outputs": [
        {
          "output_type": "stream",
          "name": "stdout",
          "text": [
            "Total Distance Traveled by Each Airline: \n",
            "+---------+--------------+\n",
            "|  airline|total_distance|\n",
            "+---------+--------------+\n",
            "|    Delta|         11840|\n",
            "|   United|          5920|\n",
            "|  JetBlue|          4180|\n",
            "|Southwest|          2300|\n",
            "| American|          5540|\n",
            "+---------+--------------+\n",
            "\n"
          ]
        }
      ]
    },
    {
      "cell_type": "code",
      "source": [
        "# 2. Filter Flights with Delays Greater than 30 Minutes\n",
        "delayed_flights = airline_df.filter(airline_df[\"delay_min\"] > 30)\n",
        "print(\"Flights with Delays Greater than 30 Minutes: \")\n",
        "delayed_flights.show()"
      ],
      "metadata": {
        "colab": {
          "base_uri": "https://localhost:8080/"
        },
        "id": "yN4YubpfOMXi",
        "outputId": "dc0013d2-c06d-4be1-b9ba-535f8ba62e67"
      },
      "execution_count": 28,
      "outputs": [
        {
          "output_type": "stream",
          "name": "stdout",
          "text": [
            "Flights with Delays Greater than 30 Minutes: \n",
            "+---------+-------+-------------+------+-----------+-------------------+-------------------+---------+--------+----------+\n",
            "|flight_id|airline|flight_number|origin|destination|     departure_time|       arrival_time|delay_min|distance|      date|\n",
            "+---------+-------+-------------+------+-----------+-------------------+-------------------+---------+--------+----------+\n",
            "|        2| United|        UA456|   SFO|        ORD|2024-09-09 09:30:00|2024-09-09 15:00:00|       45|    2960|2023-07-01|\n",
            "+---------+-------+-------------+------+-----------+-------------------+-------------------+---------+--------+----------+\n",
            "\n"
          ]
        }
      ]
    },
    {
      "cell_type": "code",
      "source": [
        "# 3. Find the Flight with the Longest Distance\n",
        "longest_flight = airline_df.orderBy(airline_df[\"distance\"].desc()).limit(1)\n",
        "print(\"Flight with the Longest Distance: \")\n",
        "longest_flight.show()"
      ],
      "metadata": {
        "colab": {
          "base_uri": "https://localhost:8080/"
        },
        "id": "IjJu0iHxOOgw",
        "outputId": "9b7b3df2-d16b-41f8-8afe-bba5a0ad8c3c"
      },
      "execution_count": 29,
      "outputs": [
        {
          "output_type": "stream",
          "name": "stdout",
          "text": [
            "Flight with the Longest Distance: \n",
            "+---------+-------+-------------+------+-----------+-------------------+-------------------+---------+--------+----------+\n",
            "|flight_id|airline|flight_number|origin|destination|     departure_time|       arrival_time|delay_min|distance|      date|\n",
            "+---------+-------+-------------+------+-----------+-------------------+-------------------+---------+--------+----------+\n",
            "|        7|JetBlue|        JB302|   BOS|        LAX|2024-09-09 06:30:00|2024-09-09 09:45:00|       10|    4180|2023-07-03|\n",
            "+---------+-------+-------------+------+-----------+-------------------+-------------------+---------+--------+----------+\n",
            "\n"
          ]
        }
      ]
    },
    {
      "cell_type": "code",
      "source": [
        "# 4. Calculate the Average Delay Time for Each Airline\n",
        "average_delay = airline_df.groupBy(\"airline\").agg(avg(\"delay_min\").alias(\"average_delay\"))\n",
        "print(\"Average Delay Time for Each Airline: \")\n",
        "average_delay.show()"
      ],
      "metadata": {
        "colab": {
          "base_uri": "https://localhost:8080/"
        },
        "id": "w_Bbf9gvOST-",
        "outputId": "b0bdcb42-a477-402d-9545-04a99d6b4aa8"
      },
      "execution_count": 30,
      "outputs": [
        {
          "output_type": "stream",
          "name": "stdout",
          "text": [
            "Average Delay Time for Each Airline: \n",
            "+---------+------------------+\n",
            "|  airline|     average_delay|\n",
            "+---------+------------------+\n",
            "|    Delta|16.666666666666668|\n",
            "|   United|              22.5|\n",
            "|  JetBlue|              10.0|\n",
            "|Southwest|               2.5|\n",
            "| American|              20.0|\n",
            "+---------+------------------+\n",
            "\n"
          ]
        }
      ]
    },
    {
      "cell_type": "code",
      "source": [
        "# 5. Identify Flights That Were Not Delayed\n",
        "not_delayed_flights = airline_df.filter(airline_df[\"delay_min\"] == 0)\n",
        "print(\"Flights That Were Not Delayed: \")\n",
        "not_delayed_flights.show()"
      ],
      "metadata": {
        "colab": {
          "base_uri": "https://localhost:8080/"
        },
        "id": "cLPOIGYbOT83",
        "outputId": "88e9a123-2545-4254-cd26-76d576aae813"
      },
      "execution_count": 31,
      "outputs": [
        {
          "output_type": "stream",
          "name": "stdout",
          "text": [
            "Flights That Were Not Delayed: \n",
            "+---------+---------+-------------+------+-----------+-------------------+-------------------+---------+--------+----------+\n",
            "|flight_id|  airline|flight_number|origin|destination|     departure_time|       arrival_time|delay_min|distance|      date|\n",
            "+---------+---------+-------------+------+-----------+-------------------+-------------------+---------+--------+----------+\n",
            "|        3|Southwest|        SW789|   DAL|        ATL|2024-09-09 06:00:00|2024-09-09 08:30:00|        0|    1150|2023-07-01|\n",
            "|        6|   United|        UA457|   ORD|        SFO|2024-09-09 11:00:00|2024-09-09 14:30:00|        0|    2960|2023-07-02|\n",
            "|       10|    Delta|        DL125|   JFK|        SEA|2024-09-09 13:00:00|2024-09-09 17:00:00|        0|    3900|2023-07-04|\n",
            "+---------+---------+-------------+------+-----------+-------------------+-------------------+---------+--------+----------+\n",
            "\n"
          ]
        }
      ]
    },
    {
      "cell_type": "code",
      "source": [
        "# 6. Find the Top 3 Most Frequent Routes\n",
        "top_3_routes = airline_df.groupBy(\"origin\", \"destination\").count().orderBy(\"count\", ascending=False).limit(3)\n",
        "print(\"Top 3 Most Frequent Routes: \")\n",
        "top_3_routes.show()"
      ],
      "metadata": {
        "colab": {
          "base_uri": "https://localhost:8080/"
        },
        "id": "lFT-Zf2NOVpD",
        "outputId": "6c4ff322-ef92-4449-8c84-5eafb19d6c0e"
      },
      "execution_count": 32,
      "outputs": [
        {
          "output_type": "stream",
          "name": "stdout",
          "text": [
            "Top 3 Most Frequent Routes: \n",
            "+------+-----------+-----+\n",
            "|origin|destination|count|\n",
            "+------+-----------+-----+\n",
            "|   SFO|        ORD|    1|\n",
            "|   LAX|        JFK|    1|\n",
            "|   DEN|        MIA|    1|\n",
            "+------+-----------+-----+\n",
            "\n"
          ]
        }
      ]
    },
    {
      "cell_type": "code",
      "source": [
        "# 7. Calculate the Total Number of Flights per Day\n",
        "flights_per_day = airline_df.groupBy(\"date\").count()\n",
        "print(\"Total Number of Flights per Day: \")\n",
        "flights_per_day.show()"
      ],
      "metadata": {
        "colab": {
          "base_uri": "https://localhost:8080/"
        },
        "id": "irYcfn6ROXK_",
        "outputId": "3558472c-0bcd-4e03-f98e-9b14d237f537"
      },
      "execution_count": 34,
      "outputs": [
        {
          "output_type": "stream",
          "name": "stdout",
          "text": [
            "Total Number of Flights per Day: \n",
            "+----------+-----+\n",
            "|      date|count|\n",
            "+----------+-----+\n",
            "|2023-07-04|    1|\n",
            "|2023-07-02|    3|\n",
            "|2023-07-03|    3|\n",
            "|2023-07-01|    3|\n",
            "+----------+-----+\n",
            "\n"
          ]
        }
      ]
    },
    {
      "cell_type": "code",
      "source": [
        "# 8. Find the Airline with the Most Flights\n",
        "most_flights_airline = airline_df.groupBy(\"airline\").count().orderBy(\"count\", ascending=False).limit(1)\n",
        "print(\"Airline with the Most Flights: \")\n",
        "most_flights_airline.show()"
      ],
      "metadata": {
        "colab": {
          "base_uri": "https://localhost:8080/"
        },
        "id": "2g9a17VhOYxV",
        "outputId": "c0cc45ff-6c29-4550-812d-cd2ee8d2598d"
      },
      "execution_count": 35,
      "outputs": [
        {
          "output_type": "stream",
          "name": "stdout",
          "text": [
            "Airline with the Most Flights: \n",
            "+-------+-----+\n",
            "|airline|count|\n",
            "+-------+-----+\n",
            "|  Delta|    3|\n",
            "+-------+-----+\n",
            "\n"
          ]
        }
      ]
    },
    {
      "cell_type": "code",
      "source": [
        "# 9. Calculate the Average Flight Distance per Day\n",
        "average_distance_per_day = airline_df.groupBy(\"date\").agg(avg(\"distance\").alias(\"average_distance\"))\n",
        "print(\"Average Flight Distance per Day: \")\n",
        "average_distance_per_day.show()"
      ],
      "metadata": {
        "colab": {
          "base_uri": "https://localhost:8080/"
        },
        "id": "pRJOrBOwOaWb",
        "outputId": "202f570b-b865-49f8-f141-c0470327adc4"
      },
      "execution_count": 36,
      "outputs": [
        {
          "output_type": "stream",
          "name": "stdout",
          "text": [
            "Average Flight Distance per Day: \n",
            "+----------+------------------+\n",
            "|      date|  average_distance|\n",
            "+----------+------------------+\n",
            "|2023-07-04|            3900.0|\n",
            "|2023-07-02|3233.3333333333335|\n",
            "|2023-07-03|            2700.0|\n",
            "|2023-07-01|2693.3333333333335|\n",
            "+----------+------------------+\n",
            "\n"
          ]
        }
      ]
    },
    {
      "cell_type": "code",
      "source": [
        "# 10. Create a New Column for On-Time Status\n",
        "from pyspark.sql.functions import when\n",
        "data_with_on_time = airline_df.withColumn(\"on_time\", when(airline_df[\"delay_min\"] == 0, True).otherwise(False))\n",
        "print(\" added colum on-time status: \")\n",
        "data_with_on_time.show()"
      ],
      "metadata": {
        "colab": {
          "base_uri": "https://localhost:8080/"
        },
        "id": "BNKRgt50ObyT",
        "outputId": "19af0ed1-93fb-42f5-8c2f-db57a8c76d27"
      },
      "execution_count": 37,
      "outputs": [
        {
          "output_type": "stream",
          "name": "stdout",
          "text": [
            " added colum on-time status: \n",
            "+---------+---------+-------------+------+-----------+-------------------+-------------------+---------+--------+----------+-------+\n",
            "|flight_id|  airline|flight_number|origin|destination|     departure_time|       arrival_time|delay_min|distance|      date|on_time|\n",
            "+---------+---------+-------------+------+-----------+-------------------+-------------------+---------+--------+----------+-------+\n",
            "|        1|    Delta|        DL123|   JFK|        LAX|2024-09-09 08:00:00|2024-09-09 11:00:00|       30|    3970|2023-07-01|  false|\n",
            "|        2|   United|        UA456|   SFO|        ORD|2024-09-09 09:30:00|2024-09-09 15:00:00|       45|    2960|2023-07-01|  false|\n",
            "|        3|Southwest|        SW789|   DAL|        ATL|2024-09-09 06:00:00|2024-09-09 08:30:00|        0|    1150|2023-07-01|   true|\n",
            "|        4|    Delta|        DL124|   LAX|        JFK|2024-09-09 12:00:00|2024-09-09 20:00:00|       20|    3970|2023-07-02|  false|\n",
            "|        5| American|        AA101|   MIA|        DEN|2024-09-09 07:00:00|2024-09-09 10:00:00|       15|    2770|2023-07-02|  false|\n",
            "|        6|   United|        UA457|   ORD|        SFO|2024-09-09 11:00:00|2024-09-09 14:30:00|        0|    2960|2023-07-02|   true|\n",
            "|        7|  JetBlue|        JB302|   BOS|        LAX|2024-09-09 06:30:00|2024-09-09 09:45:00|       10|    4180|2023-07-03|  false|\n",
            "|        8| American|        AA102|   DEN|        MIA|2024-09-09 11:00:00|2024-09-09 14:00:00|       25|    2770|2023-07-03|  false|\n",
            "|        9|Southwest|        SW790|   ATL|        DAL|2024-09-09 09:00:00|2024-09-09 11:00:00|        5|    1150|2023-07-03|  false|\n",
            "|       10|    Delta|        DL125|   JFK|        SEA|2024-09-09 13:00:00|2024-09-09 17:00:00|        0|    3900|2023-07-04|   true|\n",
            "+---------+---------+-------------+------+-----------+-------------------+-------------------+---------+--------+----------+-------+\n",
            "\n"
          ]
        }
      ]
    }
  ]
}