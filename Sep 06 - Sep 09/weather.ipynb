{
  "nbformat": 4,
  "nbformat_minor": 0,
  "metadata": {
    "colab": {
      "provenance": []
    },
    "kernelspec": {
      "name": "python3",
      "display_name": "Python 3"
    },
    "language_info": {
      "name": "python"
    }
  },
  "cells": [
    {
      "cell_type": "code",
      "execution_count": 3,
      "metadata": {
        "colab": {
          "base_uri": "https://localhost:8080/"
        },
        "id": "ZfCnRQXD_Nb1",
        "outputId": "4d1e052b-fd2d-41ac-87ef-ce2fbdccbd10"
      },
      "outputs": [
        {
          "output_type": "stream",
          "name": "stdout",
          "text": [
            "Requirement already satisfied: pyspark in /usr/local/lib/python3.10/dist-packages (3.5.2)\n",
            "Requirement already satisfied: py4j==0.10.9.7 in /usr/local/lib/python3.10/dist-packages (from pyspark) (0.10.9.7)\n"
          ]
        }
      ],
      "source": [
        "! pip install pyspark"
      ]
    },
    {
      "cell_type": "code",
      "source": [
        "from pyspark.sql import SparkSession\n",
        "from pyspark.sql.functions import avg,sum,col,pow\n",
        "\n",
        "spark=SparkSession.builder.appName(\"weather_data\").getOrCreate()\n",
        "\n",
        "weather_df=spark.read.csv(\"/content/weather_data.csv\", header=True, inferSchema=True)"
      ],
      "metadata": {
        "id": "1B2ALpLb_nug"
      },
      "execution_count": 5,
      "outputs": []
    },
    {
      "cell_type": "code",
      "source": [
        "# 1. Find the Average Temperature for Each City\n",
        "avg_temperature=weather_df.groupBy(\"city\").agg(avg(\"temperature_c\").alias(\"avg_temperature\"))\n",
        "print(\"Average temperature for each city: \")\n",
        "avg_temperature.show()"
      ],
      "metadata": {
        "colab": {
          "base_uri": "https://localhost:8080/"
        },
        "id": "yNyuQLZ5_r1A",
        "outputId": "5ea21ab9-f9ea-4201-cae2-5d548378edc9"
      },
      "execution_count": 6,
      "outputs": [
        {
          "output_type": "stream",
          "name": "stdout",
          "text": [
            "Average temperature for each city: \n",
            "+-----------+-------------------+\n",
            "|       city|    avg_temperature|\n",
            "+-----------+-------------------+\n",
            "|Los Angeles| 17.666666666666668|\n",
            "|    Chicago|-2.6666666666666665|\n",
            "|   New York|  4.666666666666667|\n",
            "+-----------+-------------------+\n",
            "\n"
          ]
        }
      ]
    },
    {
      "cell_type": "code",
      "source": [
        "# 2.Filter Days with Temperature Below Freezing\n",
        "freezing_days=weather_df.filter(col(\"temperature_c\")<0)\n",
        "print(\"Days with temperature below freezing: \")\n",
        "freezing_days.show()"
      ],
      "metadata": {
        "colab": {
          "base_uri": "https://localhost:8080/"
        },
        "id": "QehQHBuBIIfP",
        "outputId": "37a4db19-e2ab-4001-9859-6e959eca3503"
      },
      "execution_count": 7,
      "outputs": [
        {
          "output_type": "stream",
          "name": "stdout",
          "text": [
            "Days with temperature below freezing: \n",
            "+----------+-------+-------------+--------+--------------+---------+\n",
            "|      date|   city|temperature_c|humidity|wind_speed_kph|condition|\n",
            "+----------+-------+-------------+--------+--------------+---------+\n",
            "|2023-01-01|Chicago|           -2|      75|            25|     Snow|\n",
            "|2023-01-02|Chicago|           -5|      80|            30|     Snow|\n",
            "|2023-01-03|Chicago|           -1|      70|            18|   Cloudy|\n",
            "+----------+-------+-------------+--------+--------------+---------+\n",
            "\n"
          ]
        }
      ]
    },
    {
      "cell_type": "code",
      "source": [
        "# 3.Find the City with the Highest Wind Speed on a Specific Day\n",
        "highest_wind_speed=weather_df.orderBy(col(\"wind_speed_kph\").desc()).limit(1)\n",
        "print(\"City with the highest wind speed on a specific day: \")\n",
        "highest_wind_speed.show()"
      ],
      "metadata": {
        "colab": {
          "base_uri": "https://localhost:8080/"
        },
        "id": "XYG4xJf_INOY",
        "outputId": "67ec3634-4eb5-4bb5-a91a-1302211a81f9"
      },
      "execution_count": 8,
      "outputs": [
        {
          "output_type": "stream",
          "name": "stdout",
          "text": [
            "City with the highest wind speed on a specific day: \n",
            "+----------+-------+-------------+--------+--------------+---------+\n",
            "|      date|   city|temperature_c|humidity|wind_speed_kph|condition|\n",
            "+----------+-------+-------------+--------+--------------+---------+\n",
            "|2023-01-02|Chicago|           -5|      80|            30|     Snow|\n",
            "+----------+-------+-------------+--------+--------------+---------+\n",
            "\n"
          ]
        }
      ]
    },
    {
      "cell_type": "code",
      "source": [
        "# 4. Calculate the Total Number of Days with Rainy Weather\n",
        "rainy_days_count = weather_df.filter(weather_df[\"condition\"] == \"Rain\").count()\n",
        "print(f\"Total number of rainy days: {rainy_days_count}\")"
      ],
      "metadata": {
        "colab": {
          "base_uri": "https://localhost:8080/"
        },
        "id": "tnYIo1bYISnc",
        "outputId": "d123d320-2bbf-4183-f7a6-b262abea27ef"
      },
      "execution_count": 9,
      "outputs": [
        {
          "output_type": "stream",
          "name": "stdout",
          "text": [
            "Total number of rainy days: 1\n"
          ]
        }
      ]
    },
    {
      "cell_type": "code",
      "source": [
        "# 5. Calculate the Average Humidity for Each Weather Condition\n",
        "avg_humidity=weather_df.groupBy(\"condition\").agg(avg(\"humidity\").alias(\"avg_humidity\"))\n",
        "print(\"Average humidity for each weather condition: \")\n",
        "avg_humidity.show()"
      ],
      "metadata": {
        "colab": {
          "base_uri": "https://localhost:8080/"
        },
        "id": "Ut3HK3l3IUxM",
        "outputId": "53249ce3-23e4-4c0a-93b2-7b5504476a56"
      },
      "execution_count": 11,
      "outputs": [
        {
          "output_type": "stream",
          "name": "stdout",
          "text": [
            "Average humidity for each weather condition: \n",
            "+---------+------------+\n",
            "|condition|avg_humidity|\n",
            "+---------+------------+\n",
            "|   Cloudy|        65.0|\n",
            "|    Sunny|        42.0|\n",
            "|     Snow|        77.5|\n",
            "|     Rain|        65.0|\n",
            "+---------+------------+\n",
            "\n"
          ]
        }
      ]
    },
    {
      "cell_type": "code",
      "source": [
        "# 6. Find the Hottest Day in Each City\n",
        "hottest_day=weather_df.orderBy(col(\"temperature_c\").desc()).limit(1)\n",
        "print(\"Hottest day in each city: \")\n",
        "hottest_day.show()"
      ],
      "metadata": {
        "colab": {
          "base_uri": "https://localhost:8080/"
        },
        "id": "f8eoD9XgIXvT",
        "outputId": "d0059e24-5cd9-408f-8e06-4488f468bc2d"
      },
      "execution_count": 10,
      "outputs": [
        {
          "output_type": "stream",
          "name": "stdout",
          "text": [
            "Hottest day in each city: \n",
            "+----------+-----------+-------------+--------+--------------+---------+\n",
            "|      date|       city|temperature_c|humidity|wind_speed_kph|condition|\n",
            "+----------+-----------+-------------+--------+--------------+---------+\n",
            "|2023-01-03|Los Angeles|           20|      38|            12|    Sunny|\n",
            "+----------+-----------+-------------+--------+--------------+---------+\n",
            "\n"
          ]
        }
      ]
    },
    {
      "cell_type": "code",
      "source": [
        "# 7. Identify Cities That Experienced Snow\n",
        "snow_cities=weather_df.filter(weather_df[\"condition\"]==\"Snow\").select(\"city\").distinct()\n",
        "print(\"Cities that experienced snow: \")\n",
        "snow_cities.show()"
      ],
      "metadata": {
        "colab": {
          "base_uri": "https://localhost:8080/"
        },
        "id": "aGQnOL1cIahU",
        "outputId": "02162ff5-bbb5-4fa5-9a59-4a156df5a697"
      },
      "execution_count": 15,
      "outputs": [
        {
          "output_type": "stream",
          "name": "stdout",
          "text": [
            "Cities that experienced snow: \n",
            "+-------+\n",
            "|   city|\n",
            "+-------+\n",
            "|Chicago|\n",
            "+-------+\n",
            "\n"
          ]
        }
      ]
    },
    {
      "cell_type": "code",
      "source": [
        "# 8. Calculate the Average Wind Speed for Days When the Condition was Sunny\n",
        "avg_wind_speed=weather_df.filter(weather_df[\"condition\"]==\"Sunny\").agg(avg(\"wind_speed_kph\").alias(\"avg_wind_speed\"))\n",
        "print(\"Average wind speed for days when the condition was sunny: \")\n",
        "avg_wind_speed.show()"
      ],
      "metadata": {
        "colab": {
          "base_uri": "https://localhost:8080/"
        },
        "id": "IQfab-KGIcFZ",
        "outputId": "48f281a8-45a3-4291-e10c-4eb9e672ed6f"
      },
      "execution_count": 14,
      "outputs": [
        {
          "output_type": "stream",
          "name": "stdout",
          "text": [
            "Average wind speed for days when the condition was sunny: \n",
            "+--------------+\n",
            "|avg_wind_speed|\n",
            "+--------------+\n",
            "|          13.0|\n",
            "+--------------+\n",
            "\n"
          ]
        }
      ]
    },
    {
      "cell_type": "code",
      "source": [
        "# 9. Find the Coldest Day Across All Cities\n",
        "coldest_day=weather_df.orderBy(col(\"temperature_c\").asc()).limit(1)\n",
        "print(\"Coldest day across all cities: \")\n",
        "coldest_day.show()"
      ],
      "metadata": {
        "colab": {
          "base_uri": "https://localhost:8080/"
        },
        "id": "6iIcnpMLIeVI",
        "outputId": "4bff31fa-92cf-419a-f2e8-4069e8fd9e3a"
      },
      "execution_count": 13,
      "outputs": [
        {
          "output_type": "stream",
          "name": "stdout",
          "text": [
            "Coldest day across all cities: \n",
            "+----------+-------+-------------+--------+--------------+---------+\n",
            "|      date|   city|temperature_c|humidity|wind_speed_kph|condition|\n",
            "+----------+-------+-------------+--------+--------------+---------+\n",
            "|2023-01-02|Chicago|           -5|      80|            30|     Snow|\n",
            "+----------+-------+-------------+--------+--------------+---------+\n",
            "\n"
          ]
        }
      ]
    },
    {
      "cell_type": "code",
      "source": [
        "# 10. Create a New Column for Wind Chill\n",
        "data_with_wind_chill = weather_df.withColumn(\"wind_chill\",\n",
        "    13.12 + 0.6215 * col(\"temperature_c\") - 11.37 * pow(col(\"wind_speed_kph\"), 0.16) +\n",
        "    0.3965 * col(\"temperature_c\") * pow(col(\"wind_speed_kph\"), 0.16))\n",
        "print(\"New dataset after adding column\")\n",
        "data_with_wind_chill.show()"
      ],
      "metadata": {
        "colab": {
          "base_uri": "https://localhost:8080/"
        },
        "id": "LS3PnKxJIg2K",
        "outputId": "bf4fd7f5-399d-42b6-acda-9192cfa7fdae"
      },
      "execution_count": 12,
      "outputs": [
        {
          "output_type": "stream",
          "name": "stdout",
          "text": [
            "New dataset after adding column\n",
            "+----------+-----------+-------------+--------+--------------+---------+-------------------+\n",
            "|      date|       city|temperature_c|humidity|wind_speed_kph|condition|         wind_chill|\n",
            "+----------+-----------+-------------+--------+--------------+---------+-------------------+\n",
            "|2023-01-01|   New York|            5|      60|            20|   Cloudy| 1.0669572525115663|\n",
            "|2023-01-01|Los Angeles|           15|      40|            10|    Sunny| 14.604602843130213|\n",
            "|2023-01-01|    Chicago|           -2|      75|            25|     Snow| -8.479874917414646|\n",
            "|2023-01-02|   New York|            3|      65|            15|     Rain|-0.7170927775232809|\n",
            "|2023-01-02|Los Angeles|           18|      35|             8|    Sunny| 18.403050060338735|\n",
            "|2023-01-02|    Chicago|           -5|      80|            30|     Snow|-12.996724811921073|\n",
            "|2023-01-03|   New York|            6|      55|            22|    Sunny| 2.1056686374397366|\n",
            "|2023-01-03|Los Angeles|           20|      38|            12|    Sunny|  20.43050124240701|\n",
            "|2023-01-03|    Chicago|           -1|      70|            18|   Cloudy| -6.186405252170635|\n",
            "+----------+-----------+-------------+--------+--------------+---------+-------------------+\n",
            "\n"
          ]
        }
      ]
    }
  ]
}