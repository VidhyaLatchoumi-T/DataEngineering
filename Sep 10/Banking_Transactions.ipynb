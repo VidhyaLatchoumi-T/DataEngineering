{
  "cells": [
    {
      "cell_type": "code",
      "execution_count": 1,
      "metadata": {
        "colab": {
          "base_uri": "https://localhost:8080/"
        },
        "id": "jl1gVDSCN36N",
        "outputId": "3a57929f-68d6-4312-e145-88c08e991cbe"
      },
      "outputs": [
        {
          "name": "stdout",
          "output_type": "stream",
          "text": [
            "Collecting pyspark\n",
            "  Downloading pyspark-3.5.2.tar.gz (317.3 MB)\n",
            "\u001b[2K     \u001b[90m━━━━━━━━━━━━━━━━━━━━━━━━━━━━━━━━━━━━━━━━\u001b[0m \u001b[32m317.3/317.3 MB\u001b[0m \u001b[31m4.3 MB/s\u001b[0m eta \u001b[36m0:00:00\u001b[0m\n",
            "\u001b[?25h  Preparing metadata (setup.py) ... \u001b[?25l\u001b[?25hdone\n",
            "Requirement already satisfied: py4j==0.10.9.7 in /usr/local/lib/python3.10/dist-packages (from pyspark) (0.10.9.7)\n",
            "Building wheels for collected packages: pyspark\n",
            "  Building wheel for pyspark (setup.py) ... \u001b[?25l\u001b[?25hdone\n",
            "  Created wheel for pyspark: filename=pyspark-3.5.2-py2.py3-none-any.whl size=317812365 sha256=63400b1a2ad96bc8db0c34ce948b362a6c73729cd43ecc86a40b4ebc06adabe4\n",
            "  Stored in directory: /root/.cache/pip/wheels/34/34/bd/03944534c44b677cd5859f248090daa9fb27b3c8f8e5f49574\n",
            "Successfully built pyspark\n",
            "Installing collected packages: pyspark\n",
            "Successfully installed pyspark-3.5.2\n"
          ]
        }
      ],
      "source": [
        "! pip install pyspark"
      ]
    },
    {
      "cell_type": "code",
      "execution_count": 2,
      "metadata": {
        "id": "aeTIGLLxOkOe"
      },
      "outputs": [],
      "source": [
        "from pyspark.sql import SparkSession\n",
        "spark = SparkSession.builder\\\n",
        "  .appName(\"BankingTransactions\")\\\n",
        "  .getOrCreate() "
      ]
    },
    {
      "cell_type": "code",
      "execution_count": 4,
      "metadata": {
        "colab": {
          "base_uri": "https://localhost:8080/"
        },
        "id": "EXqrwURvO2Bp",
        "outputId": "be9e6d11-512b-4b27-fa65-3d71fd8c1c0b"
      },
      "outputs": [
        {
          "name": "stdout",
          "output_type": "stream",
          "text": [
            "+----------------+------------+\n",
            "|transaction_type|total_amount|\n",
            "+----------------+------------+\n",
            "|         Deposit|       24500|\n",
            "|      Withdrawal|        7700|\n",
            "+----------------+------------+\n",
            "\n"
          ]
        }
      ],
      "source": [
        "#1. Calculate the Total Deposit and Withdrawal Amounts\n",
        "from pyspark.sql.functions import col, sum\n",
        "df_transactions = spark.read.format(\"csv\").option(\"header\", \"true\").option(\"inferSchema\", \"true\").load(\"/content/sample_data/banking_data.csv\")\n",
        "total_amounts_by_type = df_transactions.groupBy(\"transaction_type\").agg(sum(\"amount\").alias(\"total_amount\"))\n",
        "total_amounts_by_type.show()"
      ]
    },
    {
      "cell_type": "code",
      "execution_count": 5,
      "metadata": {
        "colab": {
          "base_uri": "https://localhost:8080/"
        },
        "id": "xGlXn7L3PMIo",
        "outputId": "0de0c58e-866a-4a57-c267-81b52690feef"
      },
      "outputs": [
        {
          "name": "stdout",
          "output_type": "stream",
          "text": [
            "+--------------+-----------+----------------+------+----------------+\n",
            "|transaction_id|customer_id|transaction_type|amount|transaction_date|\n",
            "+--------------+-----------+----------------+------+----------------+\n",
            "|             1|        201|         Deposit|  5000|      2023-09-01|\n",
            "|             5|        204|         Deposit| 10000|      2023-09-03|\n",
            "|             9|        203|         Deposit|  4000|      2023-09-05|\n",
            "+--------------+-----------+----------------+------+----------------+\n",
            "\n"
          ]
        }
      ],
      "source": [
        "#2. Filter Transactions Greater Than $3,000\n",
        "df_high_amount_transactions = df_transactions.filter(col(\"amount\") > 3000)\n",
        "df_high_amount_transactions.show()"
      ]
    },
    {
      "cell_type": "code",
      "execution_count": 6,
      "metadata": {
        "colab": {
          "base_uri": "https://localhost:8080/"
        },
        "id": "RWsZEcXbPREh",
        "outputId": "31a5fc98-b8e5-4f27-ea74-10019224bead"
      },
      "outputs": [
        {
          "name": "stdout",
          "output_type": "stream",
          "text": [
            "Row(transaction_id=5, customer_id=204, transaction_type='Deposit', amount=10000, transaction_date=datetime.date(2023, 9, 3))\n"
          ]
        }
      ],
      "source": [
        "#3. Find the Largest Deposit Made\n",
        "largest_deposit = df_transactions.filter(col(\"transaction_type\") == \"Deposit\").orderBy(col(\"amount\").desc()).first()\n",
        "print(largest_deposit)"
      ]
    },
    {
      "cell_type": "code",
      "execution_count": 7,
      "metadata": {
        "colab": {
          "base_uri": "https://localhost:8080/"
        },
        "id": "2IRBKA-aPWeG",
        "outputId": "ed3b9064-20ca-4125-ccc3-84584ed4c52b"
      },
      "outputs": [
        {
          "name": "stdout",
          "output_type": "stream",
          "text": [
            "+----------------+--------------+\n",
            "|transaction_type|average_amount|\n",
            "+----------------+--------------+\n",
            "|         Deposit|        4900.0|\n",
            "|      Withdrawal|        1540.0|\n",
            "+----------------+--------------+\n",
            "\n"
          ]
        }
      ],
      "source": [
        "#4. Calculate the Average Transaction Amount for Each Transaction Type\n",
        "from pyspark.sql.functions import avg\n",
        "average_amount_by_type = df_transactions.groupBy(\"transaction_type\").agg(avg(\"amount\").alias(\"average_amount\"))\n",
        "average_amount_by_type.show()"
      ]
    },
    {
      "cell_type": "code",
      "execution_count": 8,
      "metadata": {
        "colab": {
          "base_uri": "https://localhost:8080/"
        },
        "id": "K4oNGmjvPcO4",
        "outputId": "4776ca2a-d044-49ec-c21c-4b72ab299efe"
      },
      "outputs": [
        {
          "name": "stdout",
          "output_type": "stream",
          "text": [
            "+-----------+\n",
            "|customer_id|\n",
            "+-----------+\n",
            "|        202|\n",
            "|        204|\n",
            "|        201|\n",
            "+-----------+\n",
            "\n"
          ]
        }
      ],
      "source": [
        "#5. Find Customers Who Made Both Deposits and Withdrawals\n",
        "deposit_customers = df_transactions.filter(col(\"transaction_type\") == \"Deposit\").select(\"customer_id\").distinct()\n",
        "withdrawal_customers = df_transactions.filter(col(\"transaction_type\") == \"Withdrawal\").select(\"customer_id\").distinct()\n",
        "customers_with_both = deposit_customers.intersect(withdrawal_customers)\n",
        "customers_with_both.show()"
      ]
    },
    {
      "cell_type": "code",
      "execution_count": 9,
      "metadata": {
        "colab": {
          "base_uri": "https://localhost:8080/"
        },
        "id": "AF20BXf5PiXH",
        "outputId": "8b19b7a2-616e-4289-ebba-ee6aa97f7a75"
      },
      "outputs": [
        {
          "name": "stdout",
          "output_type": "stream",
          "text": [
            "+----------------+------------+\n",
            "|transaction_date|total_amount|\n",
            "+----------------+------------+\n",
            "|      2023-09-03|       10500|\n",
            "|      2023-09-01|        7000|\n",
            "|      2023-09-05|        7000|\n",
            "|      2023-09-02|        4500|\n",
            "|      2023-09-04|        3200|\n",
            "+----------------+------------+\n",
            "\n"
          ]
        }
      ],
      "source": [
        "#6. Calculate the Total Amount of Transactions per Day\n",
        "total_amount_per_day = df_transactions.groupBy(\"transaction_date\").agg(sum(\"amount\").alias(\"total_amount\"))\n",
        "total_amount_per_day.show()"
      ]
    },
    {
      "cell_type": "code",
      "execution_count": 10,
      "metadata": {
        "colab": {
          "base_uri": "https://localhost:8080/"
        },
        "id": "OpD7IHgFPnsp",
        "outputId": "b74931e0-d8a2-468a-9e18-084b9fce5a33"
      },
      "outputs": [
        {
          "name": "stdout",
          "output_type": "stream",
          "text": [
            "Row(customer_id=204, total_withdrawal=3000)\n"
          ]
        }
      ],
      "source": [
        "#7. Find the Customer with the Highest Total Withdrawal\n",
        "total_withdrawal_per_customer = df_transactions.filter(col(\"transaction_type\") == \"Withdrawal\").groupBy(\"customer_id\").agg(sum(\"amount\").alias(\"total_withdrawal\"))\n",
        "highest_withdrawer = total_withdrawal_per_customer.orderBy(col(\"total_withdrawal\").desc()).first()\n",
        "print(highest_withdrawer)"
      ]
    },
    {
      "cell_type": "code",
      "execution_count": 11,
      "metadata": {
        "colab": {
          "base_uri": "https://localhost:8080/"
        },
        "id": "qvm3id40PtEV",
        "outputId": "86e84611-5618-4c87-f1f9-6de58b003673"
      },
      "outputs": [
        {
          "name": "stdout",
          "output_type": "stream",
          "text": [
            "+-----------+-----------------+\n",
            "|customer_id|transaction_count|\n",
            "+-----------+-----------------+\n",
            "|        206|                1|\n",
            "|        205|                1|\n",
            "|        202|                2|\n",
            "|        203|                2|\n",
            "|        204|                2|\n",
            "|        201|                2|\n",
            "+-----------+-----------------+\n",
            "\n"
          ]
        }
      ],
      "source": [
        "#8. Calculate the Number of Transactions for Each Customer\n",
        "from pyspark.sql.functions import count\n",
        "transactions_per_customer = df_transactions.groupBy(\"customer_id\").agg(count(\"transaction_id\").alias(\"transaction_count\"))\n",
        "transactions_per_customer.show()"
      ]
    },
    {
      "cell_type": "code",
      "execution_count": 12,
      "metadata": {
        "colab": {
          "base_uri": "https://localhost:8080/"
        },
        "id": "H3u8CQoVP34l",
        "outputId": "a0c36ba9-54d3-4276-edbe-2205bc8965b5"
      },
      "outputs": [
        {
          "name": "stdout",
          "output_type": "stream",
          "text": [
            "+----------------+--------------+-----------+----------------+------+\n",
            "|transaction_date|transaction_id|customer_id|transaction_type|amount|\n",
            "+----------------+--------------+-----------+----------------+------+\n",
            "|      2023-09-01|             1|        201|         Deposit|  5000|\n",
            "|      2023-09-01|             2|        202|      Withdrawal|  2000|\n",
            "|      2023-09-02|             3|        203|         Deposit|  3000|\n",
            "|      2023-09-02|             4|        201|      Withdrawal|  1500|\n",
            "|      2023-09-05|             9|        203|         Deposit|  4000|\n",
            "|      2023-09-05|            10|        204|      Withdrawal|  3000|\n",
            "+----------------+--------------+-----------+----------------+------+\n",
            "\n"
          ]
        }
      ],
      "source": [
        "#9. Find All Transactions That Occurred on the Same Day as a Withdrawal Greater Than $1,000\n",
        "withdrawals_gt_1000 = df_transactions.filter((col(\"transaction_type\") == \"Withdrawal\") & (col(\"amount\") > 1000)).select(\"transaction_date\").distinct()\n",
        "all_transactions_on_same_days = df_transactions.join(withdrawals_gt_1000, on=\"transaction_date\")\n",
        "all_transactions_on_same_days.show()"
      ]
    },
    {
      "cell_type": "code",
      "execution_count": 13,
      "metadata": {
        "colab": {
          "base_uri": "https://localhost:8080/"
        },
        "id": "Y4mEYVEfP_fg",
        "outputId": "cf92fd04-b375-4fd8-cd00-9bb7884897ff"
      },
      "outputs": [
        {
          "name": "stdout",
          "output_type": "stream",
          "text": [
            "+--------------+-----------+----------------+------+----------------+-----------------+\n",
            "|transaction_id|customer_id|transaction_type|amount|transaction_date|transaction_value|\n",
            "+--------------+-----------+----------------+------+----------------+-----------------+\n",
            "|             1|        201|         Deposit|  5000|      2023-09-01|              Low|\n",
            "|             2|        202|      Withdrawal|  2000|      2023-09-01|              Low|\n",
            "|             3|        203|         Deposit|  3000|      2023-09-02|              Low|\n",
            "|             4|        201|      Withdrawal|  1500|      2023-09-02|              Low|\n",
            "|             5|        204|         Deposit| 10000|      2023-09-03|             High|\n",
            "|             6|        205|      Withdrawal|   500|      2023-09-03|              Low|\n",
            "|             7|        202|         Deposit|  2500|      2023-09-04|              Low|\n",
            "|             8|        206|      Withdrawal|   700|      2023-09-04|              Low|\n",
            "|             9|        203|         Deposit|  4000|      2023-09-05|              Low|\n",
            "|            10|        204|      Withdrawal|  3000|      2023-09-05|              Low|\n",
            "+--------------+-----------+----------------+------+----------------+-----------------+\n",
            "\n"
          ]
        }
      ],
      "source": [
        "#10. Create a New Column to Classify Transactions as \"High\" or \"Low\" Value\n",
        "from pyspark.sql.functions import when\n",
        "df_transactions = df_transactions.withColumn(\"transaction_value\", when(col(\"amount\") > 5000, \"High\").otherwise(\"Low\"))\n",
        "df_transactions.show()"
      ]
    }
  ],
  "metadata": {
    "colab": {
      "provenance": []
    },
    "kernelspec": {
      "display_name": "Python 3",
      "name": "python3"
    },
    "language_info": {
      "name": "python"
    }
  },
  "nbformat": 4,
  "nbformat_minor": 0
}
