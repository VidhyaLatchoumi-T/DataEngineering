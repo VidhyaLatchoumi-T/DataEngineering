{
  "cells": [
    {
      "cell_type": "code",
      "execution_count": 1,
      "metadata": {
        "colab": {
          "base_uri": "https://localhost:8080/"
        },
        "id": "8N4t8G4yTB-p",
        "outputId": "016c3690-0d63-49b3-cc19-7358670a41ca"
      },
      "outputs": [
        {
          "name": "stdout",
          "output_type": "stream",
          "text": [
            "Collecting pyspark\n",
            "  Downloading pyspark-3.5.2.tar.gz (317.3 MB)\n",
            "\u001b[2K     \u001b[90m━━━━━━━━━━━━━━━━━━━━━━━━━━━━━━━━━━━━━━━━\u001b[0m \u001b[32m317.3/317.3 MB\u001b[0m \u001b[31m5.0 MB/s\u001b[0m eta \u001b[36m0:00:00\u001b[0m\n",
            "\u001b[?25h  Preparing metadata (setup.py) ... \u001b[?25l\u001b[?25hdone\n",
            "Requirement already satisfied: py4j==0.10.9.7 in /usr/local/lib/python3.10/dist-packages (from pyspark) (0.10.9.7)\n",
            "Building wheels for collected packages: pyspark\n",
            "  Building wheel for pyspark (setup.py) ... \u001b[?25l\u001b[?25hdone\n",
            "  Created wheel for pyspark: filename=pyspark-3.5.2-py2.py3-none-any.whl size=317812363 sha256=42143e1e4c8d3edcc49a1f2b03235d40232ee7efcd2eea0332c2b656164bcd62\n",
            "  Stored in directory: /root/.cache/pip/wheels/34/34/bd/03944534c44b677cd5859f248090daa9fb27b3c8f8e5f49574\n",
            "Successfully built pyspark\n",
            "Installing collected packages: pyspark\n",
            "Successfully installed pyspark-3.5.2\n"
          ]
        }
      ],
      "source": [
        "! pip install pyspark "
      ]
    },
    {
      "cell_type": "code",
      "execution_count": 2,
      "metadata": {
        "id": "kq5bq7pvTL_Q"
      },
      "outputs": [],
      "source": [
        "from pyspark.sql import SparkSession\n",
        "spark = SparkSession.builder \\\n",
        "    .appName(\"Music Streaming\") \\\n",
        "    .getOrCreate()"
      ]
    },
    {
      "cell_type": "code",
      "execution_count": 4,
      "metadata": {
        "colab": {
          "base_uri": "https://localhost:8080/"
        },
        "id": "i3UreHHwTlKv",
        "outputId": "e830aeed-ce6c-46ea-aa06-8e67a6f165ff"
      },
      "outputs": [
        {
          "name": "stdout",
          "output_type": "stream",
          "text": [
            "+-------+--------------------+\n",
            "|user_id|total_listening_time|\n",
            "+-------+--------------------+\n",
            "|      1|                 630|\n",
            "|      3|                 610|\n",
            "|      2|                 680|\n",
            "+-------+--------------------+\n",
            "\n"
          ]
        }
      ],
      "source": [
        "#1. Calculate the Total Listening Time for Each User\n",
        "from pyspark.sql.functions import col, sum\n",
        "df_music = spark.read.format(\"csv\").option(\"header\", \"true\").option(\"inferSchema\", \"true\").load(\"/content/sample_data/music_data.csv\")\n",
        "total_listening_time_per_user = df_music.groupBy(\"user_id\").agg(sum(\"duration_seconds\").alias(\"total_listening_time\"))\n",
        "total_listening_time_per_user.show()"
      ]
    },
    {
      "cell_type": "code",
      "execution_count": 5,
      "metadata": {
        "colab": {
          "base_uri": "https://localhost:8080/"
        },
        "id": "YHwICogOT0CO",
        "outputId": "7c08c052-26e7-4002-be3e-53f9d6587bbf"
      },
      "outputs": [
        {
          "name": "stdout",
          "output_type": "stream",
          "text": [
            "+-------+---------------+----------+----------------+-------------------+-----------+\n",
            "|user_id|     song_title|    artist|duration_seconds|     streaming_time|   location|\n",
            "+-------+---------------+----------+----------------+-------------------+-----------+\n",
            "|      2|   Shape of You|Ed Sheeran|             240|2023-09-01 09:20:00|Los Angeles|\n",
            "|      1|        Starboy|The Weeknd|             220|2023-09-01 11:00:00|   New York|\n",
            "|      2|        Perfect|Ed Sheeran|             250|2023-09-01 12:15:00|Los Angeles|\n",
            "|      1|Save Your Tears|The Weeknd|             210|2023-09-02 09:00:00|   New York|\n",
            "|      3|      New Rules|  Dua Lipa|             230|2023-09-02 11:00:00|     London|\n",
            "+-------+---------------+----------+----------------+-------------------+-----------+\n",
            "\n"
          ]
        }
      ],
      "source": [
        "#2. Filter Songs Streamed for More Than 200 Seconds\n",
        "df_long_songs = df_music.filter(col(\"duration_seconds\") > 200)\n",
        "df_long_songs.show()"
      ]
    },
    {
      "cell_type": "code",
      "execution_count": 6,
      "metadata": {
        "colab": {
          "base_uri": "https://localhost:8080/"
        },
        "id": "RSdpQbOpUCWx",
        "outputId": "fae08944-0b57-42aa-8b59-e5a68803c9e7"
      },
      "outputs": [
        {
          "name": "stdout",
          "output_type": "stream",
          "text": [
            "+--------+-------------+\n",
            "|  artist|total_streams|\n",
            "+--------+-------------+\n",
            "|Dua Lipa|            3|\n",
            "+--------+-------------+\n",
            "\n"
          ]
        }
      ],
      "source": [
        "#3. Find the Most Popular Artist (by Total Streams)\n",
        "from pyspark.sql.functions import count\n",
        "streams_per_artist = df_music.groupBy(\"artist\").agg(count(\"song_title\").alias(\"total_streams\"))\n",
        "most_popular_artist = streams_per_artist.orderBy(col(\"total_streams\").desc()).limit(1)\n",
        "most_popular_artist.show()"
      ]
    },
    {
      "cell_type": "code",
      "execution_count": 7,
      "metadata": {
        "colab": {
          "base_uri": "https://localhost:8080/"
        },
        "id": "rVFugOChUVvu",
        "outputId": "396ed142-db50-4c5d-cd1b-1e0ab6f9e415"
      },
      "outputs": [
        {
          "name": "stdout",
          "output_type": "stream",
          "text": [
            "+-------+----------+----------+----------------+-------------------+-----------+------------+\n",
            "|user_id|song_title|    artist|duration_seconds|     streaming_time|   location|max_duration|\n",
            "+-------+----------+----------+----------------+-------------------+-----------+------------+\n",
            "|      2|   Perfect|Ed Sheeran|             250|2023-09-01 12:15:00|Los Angeles|         250|\n",
            "+-------+----------+----------+----------------+-------------------+-----------+------------+\n",
            "\n"
          ]
        }
      ],
      "source": [
        "#4. Identify the Song with the Longest Duration\n",
        "from pyspark.sql.functions import max\n",
        "longest_duration = df_music.select(max(\"duration_seconds\").alias(\"max_duration\"))\n",
        "song_with_longest_duration = df_music.join(longest_duration, col(\"duration_seconds\") == col(\"max_duration\"))\n",
        "song_with_longest_duration.show()"
      ]
    },
    {
      "cell_type": "code",
      "execution_count": 8,
      "metadata": {
        "colab": {
          "base_uri": "https://localhost:8080/"
        },
        "id": "LxMTDJiaUhGf",
        "outputId": "5ddc5394-c57b-459b-8221-aa271e2202fd"
      },
      "outputs": [
        {
          "name": "stdout",
          "output_type": "stream",
          "text": [
            "+----------+------------------+\n",
            "|    artist|  average_duration|\n",
            "+----------+------------------+\n",
            "|  Dua Lipa|203.33333333333334|\n",
            "|Ed Sheeran|226.66666666666666|\n",
            "|The Weeknd|             210.0|\n",
            "+----------+------------------+\n",
            "\n"
          ]
        }
      ],
      "source": [
        "#5. Calculate the Average Song Duration by Artist\n",
        "from pyspark.sql.functions import avg\n",
        "average_duration_per_artist = df_music.groupBy(\"artist\").agg(avg(\"duration_seconds\").alias(\"average_duration\"))\n",
        "average_duration_per_artist.show()"
      ]
    },
    {
      "cell_type": "code",
      "execution_count": 9,
      "metadata": {
        "colab": {
          "base_uri": "https://localhost:8080/"
        },
        "id": "Iitla813Up_k",
        "outputId": "c399460e-1379-4b10-de6b-bc19a9d20fb7"
      },
      "outputs": [
        {
          "name": "stdout",
          "output_type": "stream",
          "text": [
            "+-------+---------------+-----+----+\n",
            "|user_id|     song_title|count|rank|\n",
            "+-------+---------------+-----+----+\n",
            "|      1|Blinding Lights|    1|   1|\n",
            "|      1|        Starboy|    1|   2|\n",
            "|      1|Save Your Tears|    1|   3|\n",
            "|      2|    Galway Girl|    1|   1|\n",
            "|      2|   Shape of You|    1|   2|\n",
            "|      2|        Perfect|    1|   3|\n",
            "|      3|Don't Start Now|    1|   1|\n",
            "|      3|      New Rules|    1|   2|\n",
            "|      3|     Levitating|    1|   3|\n",
            "+-------+---------------+-----+----+\n",
            "\n"
          ]
        }
      ],
      "source": [
        "#6. Find the Top 3 Most Streamed Songs per User\n",
        "from pyspark.sql.window import Window\n",
        "from pyspark.sql.functions import row_number\n",
        "song_streams_per_user = df_music.groupBy(\"user_id\", \"song_title\").count()\n",
        "window_spec = Window.partitionBy(\"user_id\").orderBy(col(\"count\").desc())\n",
        "ranked_songs_per_user = song_streams_per_user.withColumn(\"rank\", row_number().over(window_spec))\n",
        "top_3_songs_per_user = ranked_songs_per_user.filter(col(\"rank\") <= 3)\n",
        "top_3_songs_per_user.show()"
      ]
    },
    {
      "cell_type": "code",
      "execution_count": 10,
      "metadata": {
        "colab": {
          "base_uri": "https://localhost:8080/"
        },
        "id": "8U-m9tc8UzIN",
        "outputId": "38714356-b045-4ae6-b012-55ea56c9671d"
      },
      "outputs": [
        {
          "name": "stdout",
          "output_type": "stream",
          "text": [
            "+----------+-------------+\n",
            "|      date|total_streams|\n",
            "+----------+-------------+\n",
            "|2023-09-01|            5|\n",
            "|2023-09-02|            4|\n",
            "+----------+-------------+\n",
            "\n"
          ]
        }
      ],
      "source": [
        "#7. Calculate the Total Number of Streams per Day\n",
        "from pyspark.sql.functions import to_date, count\n",
        "df_music = df_music.withColumn(\"date\", to_date(col(\"streaming_time\")))\n",
        "streams_per_day = df_music.groupBy(\"date\").agg(count(\"song_title\").alias(\"total_streams\"))\n",
        "streams_per_day.show()"
      ]
    },
    {
      "cell_type": "code",
      "execution_count": 11,
      "metadata": {
        "colab": {
          "base_uri": "https://localhost:8080/"
        },
        "id": "s7GUTt-CU7Zn",
        "outputId": "94f5032e-de3b-406a-ffa7-3b78bf2a021a"
      },
      "outputs": [
        {
          "name": "stdout",
          "output_type": "stream",
          "text": [
            "+-------+----------------+\n",
            "|user_id|distinct_artists|\n",
            "+-------+----------------+\n",
            "+-------+----------------+\n",
            "\n"
          ]
        }
      ],
      "source": [
        "#8. Identify Users Who Streamed Songs from More Than One Artist\n",
        "from pyspark.sql.functions import countDistinct\n",
        "distinct_artists_per_user = df_music.groupBy(\"user_id\").agg(countDistinct(\"artist\").alias(\"distinct_artists\"))\n",
        "users_multiple_artists = distinct_artists_per_user.filter(col(\"distinct_artists\") > 1)\n",
        "users_multiple_artists.show()"
      ]
    },
    {
      "cell_type": "code",
      "execution_count": 12,
      "metadata": {
        "colab": {
          "base_uri": "https://localhost:8080/"
        },
        "id": "zIFFmNA5VOR1",
        "outputId": "6f822124-7141-4018-f37b-8305c4450a7d"
      },
      "outputs": [
        {
          "name": "stdout",
          "output_type": "stream",
          "text": [
            "+-----------+-------------+\n",
            "|   location|total_streams|\n",
            "+-----------+-------------+\n",
            "|Los Angeles|            3|\n",
            "|     London|            3|\n",
            "|   New York|            3|\n",
            "+-----------+-------------+\n",
            "\n"
          ]
        }
      ],
      "source": [
        "#9. Calculate the Total Streams for Each Location\n",
        "total_streams_per_location = df_music.groupBy(\"location\").agg(count(\"song_title\").alias(\"total_streams\"))\n",
        "total_streams_per_location.show()"
      ]
    },
    {
      "cell_type": "code",
      "execution_count": 13,
      "metadata": {
        "colab": {
          "base_uri": "https://localhost:8080/"
        },
        "id": "USeM48v7VRxT",
        "outputId": "68d0309d-a014-408f-82cf-ed0f5cf8aa56"
      },
      "outputs": [
        {
          "name": "stdout",
          "output_type": "stream",
          "text": [
            "+-------+---------------+----------+----------------+-------------------+-----------+----------+-----------+\n",
            "|user_id|     song_title|    artist|duration_seconds|     streaming_time|   location|      date|song_length|\n",
            "+-------+---------------+----------+----------------+-------------------+-----------+----------+-----------+\n",
            "|      1|Blinding Lights|The Weeknd|             200|2023-09-01 08:15:00|   New York|2023-09-01|      Short|\n",
            "|      2|   Shape of You|Ed Sheeran|             240|2023-09-01 09:20:00|Los Angeles|2023-09-01|       Long|\n",
            "|      3|     Levitating|  Dua Lipa|             180|2023-09-01 10:30:00|     London|2023-09-01|      Short|\n",
            "|      1|        Starboy|The Weeknd|             220|2023-09-01 11:00:00|   New York|2023-09-01|       Long|\n",
            "|      2|        Perfect|Ed Sheeran|             250|2023-09-01 12:15:00|Los Angeles|2023-09-01|       Long|\n",
            "|      3|Don't Start Now|  Dua Lipa|             200|2023-09-02 08:10:00|     London|2023-09-02|      Short|\n",
            "|      1|Save Your Tears|The Weeknd|             210|2023-09-02 09:00:00|   New York|2023-09-02|       Long|\n",
            "|      2|    Galway Girl|Ed Sheeran|             190|2023-09-02 10:00:00|Los Angeles|2023-09-02|      Short|\n",
            "|      3|      New Rules|  Dua Lipa|             230|2023-09-02 11:00:00|     London|2023-09-02|       Long|\n",
            "+-------+---------------+----------+----------------+-------------------+-----------+----------+-----------+\n",
            "\n"
          ]
        }
      ],
      "source": [
        "#10. Create a New Column to Classify Long and Short Songs\n",
        "from pyspark.sql.functions import when\n",
        "df_music = df_music.withColumn(\"song_length\", when(col(\"duration_seconds\") > 200, \"Long\").otherwise(\"Short\"))\n",
        "df_music.show()"
      ]
    }
  ],
  "metadata": {
    "colab": {
      "provenance": []
    },
    "kernelspec": {
      "display_name": "Python 3",
      "name": "python3"
    },
    "language_info": {
      "name": "python"
    }
  },
  "nbformat": 4,
  "nbformat_minor": 0
}
