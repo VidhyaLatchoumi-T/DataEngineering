{
  "cells": [
    {
      "cell_type": "code",
      "execution_count": 1,
      "metadata": {
        "colab": {
          "base_uri": "https://localhost:8080/"
        },
        "id": "sbHXbqFIQRMl",
        "outputId": "4dcd28f7-e6ec-4e0b-ee3b-a0fce10b0b42"
      },
      "outputs": [
        {
          "name": "stdout",
          "output_type": "stream",
          "text": [
            "Collecting pyspark\n",
            "  Downloading pyspark-3.5.2.tar.gz (317.3 MB)\n",
            "\u001b[2K     \u001b[90m━━━━━━━━━━━━━━━━━━━━━━━━━━━━━━━━━━━━━━━━\u001b[0m \u001b[32m317.3/317.3 MB\u001b[0m \u001b[31m1.5 MB/s\u001b[0m eta \u001b[36m0:00:00\u001b[0m\n",
            "\u001b[?25h  Preparing metadata (setup.py) ... \u001b[?25l\u001b[?25hdone\n",
            "Requirement already satisfied: py4j==0.10.9.7 in /usr/local/lib/python3.10/dist-packages (from pyspark) (0.10.9.7)\n",
            "Building wheels for collected packages: pyspark\n",
            "  Building wheel for pyspark (setup.py) ... \u001b[?25l\u001b[?25hdone\n",
            "  Created wheel for pyspark: filename=pyspark-3.5.2-py2.py3-none-any.whl size=317812365 sha256=0f37b541bda9b024ce45bf920435021a2739c43d45c93450bd4242b07f3e4b67\n",
            "  Stored in directory: /root/.cache/pip/wheels/34/34/bd/03944534c44b677cd5859f248090daa9fb27b3c8f8e5f49574\n",
            "Successfully built pyspark\n",
            "Installing collected packages: pyspark\n",
            "Successfully installed pyspark-3.5.2\n"
          ]
        }
      ],
      "source": [
        "! pip install pyspark "
      ]
    },
    {
      "cell_type": "code",
      "execution_count": 2,
      "metadata": {
        "id": "jIfRu0gZQjIl"
      },
      "outputs": [],
      "source": [
        "from pyspark.sql import SparkSession\n",
        "spark = SparkSession.builder \\\n",
        "    .appName(\"Health and Fitness\") \\\n",
        "    .getOrCreate()"
      ]
    },
    {
      "cell_type": "code",
      "execution_count": 3,
      "metadata": {
        "colab": {
          "base_uri": "https://localhost:8080/"
        },
        "id": "R7-Hz95gRCTS",
        "outputId": "fae35ce4-13fb-45f6-c34a-0f8d12da63de"
      },
      "outputs": [
        {
          "name": "stdout",
          "output_type": "stream",
          "text": [
            "+-------+-----------+\n",
            "|user_id|total_steps|\n",
            "+-------+-----------+\n",
            "|      1|      35000|\n",
            "|      3|      45000|\n",
            "|      2|      29500|\n",
            "+-------+-----------+\n",
            "\n"
          ]
        }
      ],
      "source": [
        "#1. Find the Total Steps Taken by Each User\n",
        "from pyspark.sql.functions import col, sum\n",
        "df_fitness = spark.read.format(\"csv\").option(\"header\", \"true\").option(\"inferSchema\", \"true\").load(\"/content/sample_data/health_data.csv\")\n",
        "total_steps_per_user = df_fitness.groupBy(\"user_id\").agg(sum(\"steps\").alias(\"total_steps\"))\n",
        "total_steps_per_user.show()"
      ]
    },
    {
      "cell_type": "code",
      "execution_count": 4,
      "metadata": {
        "colab": {
          "base_uri": "https://localhost:8080/"
        },
        "id": "FEDBmJ86RUhK",
        "outputId": "7d5ac79d-06d1-44fb-e739-f2cab01b1e18"
      },
      "outputs": [
        {
          "name": "stdout",
          "output_type": "stream",
          "text": [
            "+-------+----------+-----+---------------+--------------+------------+\n",
            "|user_id|      date|steps|calories_burned|hours_of_sleep|workout_type|\n",
            "+-------+----------+-----+---------------+--------------+------------+\n",
            "|      1|2023-09-01|12000|            500|           7.0|      Cardio|\n",
            "|      3|2023-09-01|15000|            650|           8.0|        Yoga|\n",
            "|      3|2023-09-02|14000|            600|           7.5|    Strength|\n",
            "|      1|2023-09-03|13000|            550|           8.0|        Yoga|\n",
            "|      2|2023-09-03|12000|            520|           6.5|        Yoga|\n",
            "|      3|2023-09-03|16000|            700|           7.0|      Cardio|\n",
            "+-------+----------+-----+---------------+--------------+------------+\n",
            "\n"
          ]
        }
      ],
      "source": [
        "#2. Filter Days with More Than 10,000 Steps\n",
        "df_high_steps = df_fitness.filter(col(\"steps\") > 10000)\n",
        "df_high_steps.show()"
      ]
    },
    {
      "cell_type": "code",
      "execution_count": 5,
      "metadata": {
        "colab": {
          "base_uri": "https://localhost:8080/"
        },
        "id": "X2_2pkLLRZuE",
        "outputId": "895869f4-0b95-45ee-a81b-48b3b0a9fc9a"
      },
      "outputs": [
        {
          "name": "stdout",
          "output_type": "stream",
          "text": [
            "+------------+-----------------+\n",
            "|workout_type| average_calories|\n",
            "+------------+-----------------+\n",
            "|    Strength|            500.0|\n",
            "|        Yoga|573.3333333333334|\n",
            "|      Cardio|            537.5|\n",
            "+------------+-----------------+\n",
            "\n"
          ]
        }
      ],
      "source": [
        "#3. Calculate the Average Calories Burned by Workout Type\n",
        "from pyspark.sql.functions import avg\n",
        "average_calories_by_workout = df_fitness.groupBy(\"workout_type\").agg(avg(\"calories_burned\").alias(\"average_calories\"))\n",
        "average_calories_by_workout.show()"
      ]
    },
    {
      "cell_type": "code",
      "execution_count": 8,
      "metadata": {
        "colab": {
          "base_uri": "https://localhost:8080/"
        },
        "id": "w58AS1i4RhUL",
        "outputId": "7ab0898e-5d64-441e-a599-7b5b73a9feb7"
      },
      "outputs": [
        {
          "name": "stdout",
          "output_type": "stream",
          "text": [
            "+-------+----------+-----+\n",
            "|user_id|      date|steps|\n",
            "+-------+----------+-----+\n",
            "|      1|2023-09-03|13000|\n",
            "|      2|2023-09-03|12000|\n",
            "|      3|2023-09-03|16000|\n",
            "+-------+----------+-----+\n",
            "\n"
          ]
        }
      ],
      "source": [
        "#4. Identify the Day with the Most Steps for Each User\n",
        "from pyspark.sql.functions import col, max\n",
        "max_steps_per_user = df_fitness.groupBy(\"user_id\").agg(max(\"steps\").alias(\"max_steps\"))\n",
        "most_steps_per_day = df_fitness.alias(\"df\").join(\n",
        "    max_steps_per_user.alias(\"max_steps\"),\n",
        "    (col(\"df.user_id\") == col(\"max_steps.user_id\")) & (col(\"df.steps\") == col(\"max_steps.max_steps\"))\n",
        ")\n",
        "most_steps_per_day = most_steps_per_day.select(col(\"df.user_id\"), col(\"df.date\"), col(\"df.steps\"))\n",
        "most_steps_per_day.show()"
      ]
    },
    {
      "cell_type": "code",
      "execution_count": 9,
      "metadata": {
        "colab": {
          "base_uri": "https://localhost:8080/"
        },
        "id": "INoZikI2SQnv",
        "outputId": "5e89dad1-8200-4db6-c782-bdcdb207cc18"
      },
      "outputs": [
        {
          "name": "stdout",
          "output_type": "stream",
          "text": [
            "+-------+\n",
            "|user_id|\n",
            "+-------+\n",
            "|      3|\n",
            "+-------+\n",
            "\n"
          ]
        }
      ],
      "source": [
        "#5. Find Users Who Burned More Than 600 Calories on Any Day\n",
        "users_high_calories = df_fitness.filter(col(\"calories_burned\") > 600).select(\"user_id\").distinct()\n",
        "users_high_calories.show()"
      ]
    },
    {
      "cell_type": "code",
      "execution_count": 10,
      "metadata": {
        "colab": {
          "base_uri": "https://localhost:8080/"
        },
        "id": "kIt8P9XSSXtO",
        "outputId": "2a570b67-21c5-4ea5-b287-0e1a763ae7c0"
      },
      "outputs": [
        {
          "name": "stdout",
          "output_type": "stream",
          "text": [
            "+-------+-----------------+\n",
            "|user_id|    average_sleep|\n",
            "+-------+-----------------+\n",
            "|      1|              7.0|\n",
            "|      3|              7.5|\n",
            "|      2|6.666666666666667|\n",
            "+-------+-----------------+\n",
            "\n"
          ]
        }
      ],
      "source": [
        "#6. Calculate the Average Hours of Sleep per User\n",
        "average_sleep_per_user = df_fitness.groupBy(\"user_id\").agg(avg(\"hours_of_sleep\").alias(\"average_sleep\"))\n",
        "average_sleep_per_user.show()"
      ]
    },
    {
      "cell_type": "code",
      "execution_count": 11,
      "metadata": {
        "colab": {
          "base_uri": "https://localhost:8080/"
        },
        "id": "CWjQGOpKSgR5",
        "outputId": "b37dbc22-5070-4fbd-d05b-d0da383f18f2"
      },
      "outputs": [
        {
          "name": "stdout",
          "output_type": "stream",
          "text": [
            "+----------+--------------+\n",
            "|      date|total_calories|\n",
            "+----------+--------------+\n",
            "|2023-09-03|          1770|\n",
            "|2023-09-01|          1550|\n",
            "|2023-09-02|          1550|\n",
            "+----------+--------------+\n",
            "\n"
          ]
        }
      ],
      "source": [
        "#7. Find the Total Calories Burned per Day\n",
        "total_calories_per_day = df_fitness.groupBy(\"date\").agg(sum(\"calories_burned\").alias(\"total_calories\"))\n",
        "total_calories_per_day.show()"
      ]
    },
    {
      "cell_type": "code",
      "execution_count": 12,
      "metadata": {
        "colab": {
          "base_uri": "https://localhost:8080/"
        },
        "id": "0d9bNzs1Sl7K",
        "outputId": "7e74c28e-21db-46ad-e641-52eee73d52db"
      },
      "outputs": [
        {
          "name": "stdout",
          "output_type": "stream",
          "text": [
            "+-------+-----------------+\n",
            "|user_id|distinct_workouts|\n",
            "+-------+-----------------+\n",
            "|      1|                2|\n",
            "|      3|                3|\n",
            "|      2|                3|\n",
            "+-------+-----------------+\n",
            "\n"
          ]
        }
      ],
      "source": [
        "#8. Identify Users Who Did Different Types of Workouts\n",
        "from pyspark.sql.functions import countDistinct\n",
        "distinct_workouts_per_user = df_fitness.groupBy(\"user_id\").agg(countDistinct(\"workout_type\").alias(\"distinct_workouts\"))\n",
        "users_multiple_workouts = distinct_workouts_per_user.filter(col(\"distinct_workouts\") > 1)\n",
        "users_multiple_workouts.show()"
      ]
    },
    {
      "cell_type": "code",
      "execution_count": 13,
      "metadata": {
        "colab": {
          "base_uri": "https://localhost:8080/"
        },
        "id": "7TbM0eD2Ss6M",
        "outputId": "5c30396d-f3ce-46d9-901c-af1bd7d542b6"
      },
      "outputs": [
        {
          "name": "stdout",
          "output_type": "stream",
          "text": [
            "+-------+-----+\n",
            "|user_id|count|\n",
            "+-------+-----+\n",
            "|      1|    3|\n",
            "|      3|    3|\n",
            "|      2|    3|\n",
            "+-------+-----+\n",
            "\n"
          ]
        }
      ],
      "source": [
        "#9. Calculate the Total Number of Workouts per User\n",
        "workouts_per_user = df_fitness.groupBy(\"user_id\").count().alias(\"total_workouts\")\n",
        "workouts_per_user.show()"
      ]
    },
    {
      "cell_type": "code",
      "execution_count": 14,
      "metadata": {
        "colab": {
          "base_uri": "https://localhost:8080/"
        },
        "id": "3OnzmFkZSze7",
        "outputId": "0c5884e5-bae7-4f69-ec5d-b8e098c48fb8"
      },
      "outputs": [
        {
          "name": "stdout",
          "output_type": "stream",
          "text": [
            "+-------+----------+-----+---------------+--------------+------------+----------+\n",
            "|user_id|      date|steps|calories_burned|hours_of_sleep|workout_type|active_day|\n",
            "+-------+----------+-----+---------------+--------------+------------+----------+\n",
            "|      1|2023-09-01|12000|            500|           7.0|      Cardio|    Active|\n",
            "|      2|2023-09-01| 8000|            400|           6.5|    Strength|  Inactive|\n",
            "|      3|2023-09-01|15000|            650|           8.0|        Yoga|    Active|\n",
            "|      1|2023-09-02|10000|            450|           6.0|      Cardio|  Inactive|\n",
            "|      2|2023-09-02| 9500|            500|           7.0|      Cardio|  Inactive|\n",
            "|      3|2023-09-02|14000|            600|           7.5|    Strength|    Active|\n",
            "|      1|2023-09-03|13000|            550|           8.0|        Yoga|    Active|\n",
            "|      2|2023-09-03|12000|            520|           6.5|        Yoga|    Active|\n",
            "|      3|2023-09-03|16000|            700|           7.0|      Cardio|    Active|\n",
            "+-------+----------+-----+---------------+--------------+------------+----------+\n",
            "\n"
          ]
        }
      ],
      "source": [
        "#10. Create a New Column for \"Active\" Days\n",
        "from pyspark.sql.functions import when\n",
        "df_fitness = df_fitness.withColumn(\"active_day\", when(col(\"steps\") > 10000, \"Active\").otherwise(\"Inactive\"))\n",
        "df_fitness.show()"
      ]
    }
  ],
  "metadata": {
    "colab": {
      "provenance": []
    },
    "kernelspec": {
      "display_name": "Python 3",
      "name": "python3"
    },
    "language_info": {
      "name": "python"
    }
  },
  "nbformat": 4,
  "nbformat_minor": 0
}
