{
  "cells": [
    {
      "cell_type": "code",
      "execution_count": 19,
      "metadata": {
        "colab": {
          "base_uri": "https://localhost:8080/"
        },
        "id": "pM7jgEZFJ6oo",
        "outputId": "b9bce825-558f-45f7-a218-084852171458"
      },
      "outputs": [
        {
          "name": "stdout",
          "output_type": "stream",
          "text": [
            "Requirement already satisfied: pyspark in /usr/local/lib/python3.10/dist-packages (3.5.2)\n",
            "Requirement already satisfied: py4j==0.10.9.7 in /usr/local/lib/python3.10/dist-packages (from pyspark) (0.10.9.7)\n"
          ]
        }
      ],
      "source": [
        "! pip install pyspark"
      ]
    },
    {
      "cell_type": "code",
      "execution_count": 20,
      "metadata": {
        "id": "251o0aSbLRdc"
      },
      "outputs": [],
      "source": [
        "from pyspark.sql import SparkSession\n",
        "spark = SparkSession.builder \\\n",
        "    .appName(\"ECommerce Transactions\") \\\n",
        "    .getOrCreate()"
      ]
    },
    {
      "cell_type": "code",
      "execution_count": 21,
      "metadata": {
        "colab": {
          "base_uri": "https://localhost:8080/"
        },
        "id": "wa22g7nkKsSI",
        "outputId": "b1c0d290-a06e-4431-af79-170f02ddd21f"
      },
      "outputs": [
        {
          "name": "stdout",
          "output_type": "stream",
          "text": [
            "+--------------+-------------+\n",
            "|      category|total_revenue|\n",
            "+--------------+-------------+\n",
            "|       Fashion|        168.0|\n",
            "|   Electronics|       2950.0|\n",
            "|         Books|         80.0|\n",
            "|Home Appliance|        756.0|\n",
            "+--------------+-------------+\n",
            "\n"
          ]
        }
      ],
      "source": [
        "#1. Calculate the Total Revenue per Category\n",
        "from pyspark.sql.functions import col, sum\n",
        "df_sales = spark.read.csv(\"/content/sample_data/ecommerce_data.csv\", header=True, inferSchema=True)\n",
        "df_sales = df_sales.withColumn(\"revenue\", col(\"price\") * col(\"quantity\") * (1 - col(\"discount_percentage\") / 100))\n",
        "total_revenue_per_category = df_sales.groupBy(\"category\").agg(sum(\"revenue\").alias(\"total_revenue\"))\n",
        "total_revenue_per_category.show()"
      ]
    },
    {
      "cell_type": "code",
      "execution_count": 22,
      "metadata": {
        "colab": {
          "base_uri": "https://localhost:8080/"
        },
        "id": "BtJUzrgeLdzd",
        "outputId": "44c08553-2241-4427-eb56-db0510044b39"
      },
      "outputs": [
        {
          "name": "stdout",
          "output_type": "stream",
          "text": [
            "+--------------+-----------+------------+--------------+-----+--------+-------------------+----------------+-------+\n",
            "|transaction_id|customer_id|     product|      category|price|quantity|discount_percentage|transaction_date|revenue|\n",
            "+--------------+-----------+------------+--------------+-----+--------+-------------------+----------------+-------+\n",
            "|             4|        104|     Blender|Home Appliance|  150|       1|                 15|      2023-08-03|  127.5|\n",
            "|             6|        105|       Shoes|       Fashion|   60|       1|                 20|      2023-08-04|   48.0|\n",
            "|             7|        106|Refrigerator|Home Appliance|  800|       1|                 25|      2023-08-05|  600.0|\n",
            "+--------------+-----------+------------+--------------+-----+--------+-------------------+----------------+-------+\n",
            "\n"
          ]
        }
      ],
      "source": [
        "#2. Filter Transactions with a Discount Greater Than 10%\n",
        "df_high_discount = df_sales.filter(col(\"discount_percentage\") > 10)\n",
        "df_high_discount.show()"
      ]
    },
    {
      "cell_type": "code",
      "execution_count": 23,
      "metadata": {
        "colab": {
          "base_uri": "https://localhost:8080/"
        },
        "id": "UiM74jw2Lk_p",
        "outputId": "f48fa5f9-ca1f-488c-bbda-3ea407e7af88"
      },
      "outputs": [
        {
          "name": "stdout",
          "output_type": "stream",
          "text": [
            "Row(transaction_id=1, customer_id=101, product='Laptop', category='Electronics', price=1000, quantity=1, discount_percentage=10, transaction_date=datetime.date(2023, 8, 1), revenue=900.0)\n"
          ]
        }
      ],
      "source": [
        "#3. Find the Most Expensive Product Sold\n",
        "most_expensive_product = df_sales.orderBy(col(\"price\").desc()).first()\n",
        "print(most_expensive_product)"
      ]
    },
    {
      "cell_type": "code",
      "execution_count": 24,
      "metadata": {
        "colab": {
          "base_uri": "https://localhost:8080/"
        },
        "id": "EiUaZAzrLrhz",
        "outputId": "49f2cc74-00a5-463e-bd41-0c894d2f832a"
      },
      "outputs": [
        {
          "name": "stdout",
          "output_type": "stream",
          "text": [
            "+--------------+----------------+\n",
            "|      category|average_quantity|\n",
            "+--------------+----------------+\n",
            "|       Fashion|             2.0|\n",
            "|   Electronics|            1.75|\n",
            "|         Books|             4.0|\n",
            "|Home Appliance|             1.0|\n",
            "+--------------+----------------+\n",
            "\n"
          ]
        }
      ],
      "source": [
        "#4. Calculate the Average Quantity of Products Sold per Category\n",
        "from pyspark.sql.functions import avg\n",
        "average_quantity_per_category = df_sales.groupBy(\"category\").agg(avg(\"quantity\").alias(\"average_quantity\"))\n",
        "average_quantity_per_category.show()"
      ]
    },
    {
      "cell_type": "code",
      "execution_count": 25,
      "metadata": {
        "colab": {
          "base_uri": "https://localhost:8080/"
        },
        "id": "WEyFGNpNMMbJ",
        "outputId": "29282a13-cf38-4f6e-82b0-380b60152163"
      },
      "outputs": [
        {
          "name": "stdout",
          "output_type": "stream",
          "text": [
            "+--------------+-----------+----------+-----------+-----+--------+-------------------+----------------+-------+\n",
            "|transaction_id|customer_id|   product|   category|price|quantity|discount_percentage|transaction_date|revenue|\n",
            "+--------------+-----------+----------+-----------+-----+--------+-------------------+----------------+-------+\n",
            "|             2|        102|Smartphone|Electronics|  700|       2|                  5|      2023-08-01| 1330.0|\n",
            "|             3|        103|     Shirt|    Fashion|   40|       3|                  0|      2023-08-02|  120.0|\n",
            "|             5|        101|Headphones|Electronics|  100|       2|                 10|      2023-08-03|  180.0|\n",
            "|             8|        107|      Book|      Books|   20|       4|                  0|      2023-08-05|   80.0|\n",
            "|            10|        102|    Tablet|Electronics|  300|       2|                 10|      2023-08-06|  540.0|\n",
            "+--------------+-----------+----------+-----------+-----+--------+-------------------+----------------+-------+\n",
            "\n"
          ]
        }
      ],
      "source": [
        "#5. Identify Customers Who Purchased More Than One Product\n",
        "from pyspark.sql.functions import col\n",
        "df_multiple_products = df_sales.filter(col(\"quantity\") > 1)\n",
        "df_multiple_products.show()"
      ]
    },
    {
      "cell_type": "code",
      "execution_count": 26,
      "metadata": {
        "colab": {
          "base_uri": "https://localhost:8080/"
        },
        "id": "ZPR3U5rCMZHf",
        "outputId": "c49293b2-f9cd-4e87-c741-2bec40314644"
      },
      "outputs": [
        {
          "name": "stdout",
          "output_type": "stream",
          "text": [
            "+--------------+-----------+------------+--------------+-----+--------+-------------------+----------------+-------+-------------------+\n",
            "|transaction_id|customer_id|     product|      category|price|quantity|discount_percentage|transaction_date|revenue|transaction_revenue|\n",
            "+--------------+-----------+------------+--------------+-----+--------+-------------------+----------------+-------+-------------------+\n",
            "|             2|        102|  Smartphone|   Electronics|  700|       2|                  5|      2023-08-01| 1330.0|             1330.0|\n",
            "|             1|        101|      Laptop|   Electronics| 1000|       1|                 10|      2023-08-01|  900.0|              900.0|\n",
            "|             7|        106|Refrigerator|Home Appliance|  800|       1|                 25|      2023-08-05|  600.0|              600.0|\n",
            "+--------------+-----------+------------+--------------+-----+--------+-------------------+----------------+-------+-------------------+\n",
            "\n"
          ]
        }
      ],
      "source": [
        "#6. Find the Top 3 Highest Revenue Transactions\n",
        "df_sales = df_sales.withColumn(\"transaction_revenue\", col(\"price\") * col(\"quantity\") * (1 - col(\"discount_percentage\") / 100))\n",
        "top_3_revenue_transactions = df_sales.orderBy(col(\"transaction_revenue\").desc()).limit(3)\n",
        "top_3_revenue_transactions.show()"
      ]
    },
    {
      "cell_type": "code",
      "execution_count": 27,
      "metadata": {
        "colab": {
          "base_uri": "https://localhost:8080/"
        },
        "id": "PVgGtjRzMdum",
        "outputId": "7519b9b5-5c16-4152-f88c-14c7993c2ec9"
      },
      "outputs": [
        {
          "name": "stdout",
          "output_type": "stream",
          "text": [
            "+----------------+------------------+\n",
            "|transaction_date|total_transactions|\n",
            "+----------------+------------------+\n",
            "|      2023-08-03|                 2|\n",
            "|      2023-08-06|                 2|\n",
            "|      2023-08-01|                 2|\n",
            "|      2023-08-05|                 2|\n",
            "|      2023-08-04|                 1|\n",
            "|      2023-08-02|                 1|\n",
            "+----------------+------------------+\n",
            "\n"
          ]
        }
      ],
      "source": [
        "#7. Calculate the Total Number of Transactions per Day\n",
        "from pyspark.sql.functions import count\n",
        "total_transactions_per_day = df_sales.groupBy(\"transaction_date\").agg(count(\"transaction_id\").alias(\"total_transactions\"))\n",
        "total_transactions_per_day.show()"
      ]
    },
    {
      "cell_type": "code",
      "execution_count": 28,
      "metadata": {
        "colab": {
          "base_uri": "https://localhost:8080/"
        },
        "id": "SClfTRKVNUfE",
        "outputId": "c499e622-733d-4b15-f4da-c9fe831babec"
      },
      "outputs": [
        {
          "name": "stdout",
          "output_type": "stream",
          "text": [
            "Row(customer_id=102, total_spent=1870.0)\n"
          ]
        }
      ],
      "source": [
        "#8. Find the Customer Who Spent the Most Money\n",
        "from pyspark.sql.functions import sum\n",
        "total_spent_per_customer = df_sales.groupBy(\"customer_id\").agg(sum(\"revenue\").alias(\"total_spent\"))\n",
        "highest_spender = total_spent_per_customer.orderBy(col(\"total_spent\").desc()).first()\n",
        "print(highest_spender)"
      ]
    },
    {
      "cell_type": "code",
      "execution_count": 29,
      "metadata": {
        "colab": {
          "base_uri": "https://localhost:8080/"
        },
        "id": "-Wxh_oR9NjfX",
        "outputId": "df43169a-7d65-449e-9793-d922dfe7f5e3"
      },
      "outputs": [
        {
          "name": "stdout",
          "output_type": "stream",
          "text": [
            "+--------------+----------------+\n",
            "|      category|average_discount|\n",
            "+--------------+----------------+\n",
            "|       Fashion|            10.0|\n",
            "|   Electronics|            8.75|\n",
            "|         Books|             0.0|\n",
            "|Home Appliance|            15.0|\n",
            "+--------------+----------------+\n",
            "\n"
          ]
        }
      ],
      "source": [
        "#9. Calculate the Average Discount Given per Product Category\n",
        "average_discount_per_category = df_sales.groupBy(\"category\").agg(avg(\"discount_percentage\").alias(\"average_discount\"))\n",
        "average_discount_per_category.show()"
      ]
    },
    {
      "cell_type": "code",
      "execution_count": 30,
      "metadata": {
        "colab": {
          "base_uri": "https://localhost:8080/"
        },
        "id": "aJqv6nEVNsr6",
        "outputId": "7a73e5e2-a1ae-4a61-d191-0834a0375f2b"
      },
      "outputs": [
        {
          "name": "stdout",
          "output_type": "stream",
          "text": [
            "+--------------+-----------+------------+--------------+-----+--------+-------------------+----------------+-------+-------------------+-----------+\n",
            "|transaction_id|customer_id|     product|      category|price|quantity|discount_percentage|transaction_date|revenue|transaction_revenue|final_price|\n",
            "+--------------+-----------+------------+--------------+-----+--------+-------------------+----------------+-------+-------------------+-----------+\n",
            "|             1|        101|      Laptop|   Electronics| 1000|       1|                 10|      2023-08-01|  900.0|              900.0|      900.0|\n",
            "|             2|        102|  Smartphone|   Electronics|  700|       2|                  5|      2023-08-01| 1330.0|             1330.0|      665.0|\n",
            "|             3|        103|       Shirt|       Fashion|   40|       3|                  0|      2023-08-02|  120.0|              120.0|       40.0|\n",
            "|             4|        104|     Blender|Home Appliance|  150|       1|                 15|      2023-08-03|  127.5|              127.5|      127.5|\n",
            "|             5|        101|  Headphones|   Electronics|  100|       2|                 10|      2023-08-03|  180.0|              180.0|       90.0|\n",
            "|             6|        105|       Shoes|       Fashion|   60|       1|                 20|      2023-08-04|   48.0|               48.0|       48.0|\n",
            "|             7|        106|Refrigerator|Home Appliance|  800|       1|                 25|      2023-08-05|  600.0|              600.0|      600.0|\n",
            "|             8|        107|        Book|         Books|   20|       4|                  0|      2023-08-05|   80.0|               80.0|       20.0|\n",
            "|             9|        108|     Toaster|Home Appliance|   30|       1|                  5|      2023-08-06|   28.5|               28.5|       28.5|\n",
            "|            10|        102|      Tablet|   Electronics|  300|       2|                 10|      2023-08-06|  540.0|              540.0|      270.0|\n",
            "+--------------+-----------+------------+--------------+-----+--------+-------------------+----------------+-------+-------------------+-----------+\n",
            "\n"
          ]
        }
      ],
      "source": [
        "#10. Create a New Column for Final Price After Discount\n",
        "df_sales = df_sales.withColumn(\"final_price\", col(\"price\") * (1 - col(\"discount_percentage\") / 100))\n",
        "df_sales.show()"
      ]
    }
  ],
  "metadata": {
    "colab": {
      "provenance": []
    },
    "kernelspec": {
      "display_name": "Python 3",
      "name": "python3"
    },
    "language_info": {
      "name": "python"
    }
  },
  "nbformat": 4,
  "nbformat_minor": 0
}
