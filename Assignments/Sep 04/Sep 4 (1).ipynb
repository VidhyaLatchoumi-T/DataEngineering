{
  "nbformat": 4,
  "nbformat_minor": 0,
  "metadata": {
    "colab": {
      "provenance": []
    },
    "kernelspec": {
      "name": "python3",
      "display_name": "Python 3"
    },
    "language_info": {
      "name": "python"
    }
  },
  "cells": [
    {
      "cell_type": "code",
      "execution_count": null,
      "metadata": {
        "colab": {
          "base_uri": "https://localhost:8080/"
        },
        "id": "lKGhL06sk0vC",
        "outputId": "afbc9fab-2d41-4cfd-b2a4-30511a35f4c5"
      },
      "outputs": [
        {
          "output_type": "stream",
          "name": "stdout",
          "text": [
            "Collecting pyspark\n",
            "  Downloading pyspark-3.5.2.tar.gz (317.3 MB)\n",
            "\u001b[2K     \u001b[90m━━━━━━━━━━━━━━━━━━━━━━━━━━━━━━━━━━━━━━━━\u001b[0m \u001b[32m317.3/317.3 MB\u001b[0m \u001b[31m4.7 MB/s\u001b[0m eta \u001b[36m0:00:00\u001b[0m\n",
            "\u001b[?25h  Preparing metadata (setup.py) ... \u001b[?25l\u001b[?25hdone\n",
            "Requirement already satisfied: py4j==0.10.9.7 in /usr/local/lib/python3.10/dist-packages (from pyspark) (0.10.9.7)\n",
            "Building wheels for collected packages: pyspark\n",
            "  Building wheel for pyspark (setup.py) ... \u001b[?25l\u001b[?25hdone\n",
            "  Created wheel for pyspark: filename=pyspark-3.5.2-py2.py3-none-any.whl size=317812365 sha256=f7e17018233261d37d3aa56db02d56b4c911d22407ab606529f2531d197f2807\n",
            "  Stored in directory: /root/.cache/pip/wheels/34/34/bd/03944534c44b677cd5859f248090daa9fb27b3c8f8e5f49574\n",
            "Successfully built pyspark\n",
            "Installing collected packages: pyspark\n",
            "Successfully installed pyspark-3.5.2\n"
          ]
        }
      ],
      "source": [
        "!pip install pyspark"
      ]
    },
    {
      "cell_type": "code",
      "source": [
        "from pyspark.sql import SparkSession\n",
        "from pyspark.sql import functions as F\n",
        "from pyspark.sql.window import Window\n",
        "\n",
        "# Initialize a Spark session\n",
        "spark = SparkSession.builder \\\n",
        "    .appName(\"Advanced DataFrame Operations - Different Dataset\") \\\n",
        "    .getOrCreate()\n",
        "\n",
        "# Create two sample DataFrames for Product Sales\n",
        "data1 = [\n",
        "    (1, 'Product A', 'Electronics', 1200, '2022-05-10'),\n",
        "    (2, 'Product B', 'Clothing', 500, '2022-07-15'),\n",
        "    (3, 'Product C', 'Electronics', 1800, '2021-11-05')\n",
        "]\n",
        "\n",
        "data2 = [\n",
        "    (4, 'Product D', 'Furniture', 3000, '2022-03-25'),\n",
        "    (5, 'Product E', 'Clothing', 800, '2022-09-12'),\n",
        "    (6, 'Product F', 'Electronics', 1500, '2021-10-19')\n",
        "]\n",
        "\n",
        "# Define schema (columns)\n",
        "columns = ['ProductID', 'ProductName', 'Category', 'Price', 'SaleDate']\n",
        "\n",
        "# Create DataFrames\n",
        "sales_df1 = spark.createDataFrame(data1, columns)\n",
        "sales_df2 = spark.createDataFrame(data2, columns)"
      ],
      "metadata": {
        "id": "pR92BlANzc08"
      },
      "execution_count": null,
      "outputs": []
    },
    {
      "cell_type": "code",
      "source": [
        "# Task 1: Union of DataFrames and remove duplicates\n",
        "union_df_distinct = sales_df1.union(sales_df2).distinct()\n",
        "union_df_distinct.show()\n"
      ],
      "metadata": {
        "colab": {
          "base_uri": "https://localhost:8080/"
        },
        "id": "x7UkyMuRz35C",
        "outputId": "bd6d1969-5a7d-45d0-8281-ceba80fdd158"
      },
      "execution_count": null,
      "outputs": [
        {
          "output_type": "stream",
          "name": "stdout",
          "text": [
            "+---------+-----------+-----------+-----+----------+\n",
            "|ProductID|ProductName|   Category|Price|  SaleDate|\n",
            "+---------+-----------+-----------+-----+----------+\n",
            "|        1|  Product A|Electronics| 1200|2022-05-10|\n",
            "|        2|  Product B|   Clothing|  500|2022-07-15|\n",
            "|        3|  Product C|Electronics| 1800|2021-11-05|\n",
            "|        4|  Product D|  Furniture| 3000|2022-03-25|\n",
            "|        6|  Product F|Electronics| 1500|2021-10-19|\n",
            "|        5|  Product E|   Clothing|  800|2022-09-12|\n",
            "+---------+-----------+-----------+-----+----------+\n",
            "\n"
          ]
        }
      ]
    },
    {
      "cell_type": "code",
      "source": [
        "# Task 2: Union of DataFrames including duplicates\n",
        "union_df_all = sales_df1.union(sales_df2)\n",
        "union_df_all.show()\n"
      ],
      "metadata": {
        "colab": {
          "base_uri": "https://localhost:8080/"
        },
        "id": "Rs-uHRCP0Bml",
        "outputId": "e064109f-ab1d-4a13-aebf-f9bbd716e033"
      },
      "execution_count": null,
      "outputs": [
        {
          "output_type": "stream",
          "name": "stdout",
          "text": [
            "+---------+-----------+-----------+-----+----------+\n",
            "|ProductID|ProductName|   Category|Price|  SaleDate|\n",
            "+---------+-----------+-----------+-----+----------+\n",
            "|        1|  Product A|Electronics| 1200|2022-05-10|\n",
            "|        2|  Product B|   Clothing|  500|2022-07-15|\n",
            "|        3|  Product C|Electronics| 1800|2021-11-05|\n",
            "|        4|  Product D|  Furniture| 3000|2022-03-25|\n",
            "|        5|  Product E|   Clothing|  800|2022-09-12|\n",
            "|        6|  Product F|Electronics| 1500|2021-10-19|\n",
            "+---------+-----------+-----------+-----+----------+\n",
            "\n"
          ]
        }
      ]
    },
    {
      "cell_type": "code",
      "source": [
        "#Task 3: Rank Products by Price Within Their Category\n",
        "window_spec_rank = Window.partitionBy(\"Category\").orderBy(F.col(\"Price\").desc())\n",
        "ranked_df = union_df_all.withColumn(\"Rank\", F.rank().over(window_spec_rank))\n",
        "ranked_df.show()"
      ],
      "metadata": {
        "colab": {
          "base_uri": "https://localhost:8080/"
        },
        "id": "X9xeX7in0JgE",
        "outputId": "38673f24-80d3-4df6-bad0-a5e88823522d"
      },
      "execution_count": null,
      "outputs": [
        {
          "output_type": "stream",
          "name": "stdout",
          "text": [
            "+---------+-----------+-----------+-----+----------+----+\n",
            "|ProductID|ProductName|   Category|Price|  SaleDate|Rank|\n",
            "+---------+-----------+-----------+-----+----------+----+\n",
            "|        5|  Product E|   Clothing|  800|2022-09-12|   1|\n",
            "|        2|  Product B|   Clothing|  500|2022-07-15|   2|\n",
            "|        3|  Product C|Electronics| 1800|2021-11-05|   1|\n",
            "|        6|  Product F|Electronics| 1500|2021-10-19|   2|\n",
            "|        1|  Product A|Electronics| 1200|2022-05-10|   3|\n",
            "|        4|  Product D|  Furniture| 3000|2022-03-25|   1|\n",
            "+---------+-----------+-----------+-----+----------+----+\n",
            "\n"
          ]
        }
      ]
    },
    {
      "cell_type": "code",
      "source": [
        "#Task 4: Calculate Cumulative Price per Category\n",
        "window_spec_cum_sum = Window.partitionBy(\"Category\").orderBy(\"Price\")\n",
        "cumulative_df = union_df_all.withColumn(\"CumulativePrice\", F.sum(\"Price\").over(window_spec_cum_sum))\n",
        "cumulative_df.show()"
      ],
      "metadata": {
        "colab": {
          "base_uri": "https://localhost:8080/"
        },
        "id": "bDfIkIrD0TR4",
        "outputId": "ad9b08d3-5c4a-4f82-8801-871fc3a54cf3"
      },
      "execution_count": null,
      "outputs": [
        {
          "output_type": "stream",
          "name": "stdout",
          "text": [
            "+---------+-----------+-----------+-----+----------+---------------+\n",
            "|ProductID|ProductName|   Category|Price|  SaleDate|CumulativePrice|\n",
            "+---------+-----------+-----------+-----+----------+---------------+\n",
            "|        2|  Product B|   Clothing|  500|2022-07-15|            500|\n",
            "|        5|  Product E|   Clothing|  800|2022-09-12|           1300|\n",
            "|        1|  Product A|Electronics| 1200|2022-05-10|           1200|\n",
            "|        6|  Product F|Electronics| 1500|2021-10-19|           2700|\n",
            "|        3|  Product C|Electronics| 1800|2021-11-05|           4500|\n",
            "|        4|  Product D|  Furniture| 3000|2022-03-25|           3000|\n",
            "+---------+-----------+-----------+-----+----------+---------------+\n",
            "\n"
          ]
        }
      ]
    },
    {
      "cell_type": "code",
      "source": [
        "#Task 5: Convert SaleDate from String to Date Type\n",
        "date_converted_df = union_df_all.withColumn(\"SaleDate\", F.to_date(\"SaleDate\", \"yyyy-MM-dd\"))\n",
        "date_converted_df.show()"
      ],
      "metadata": {
        "colab": {
          "base_uri": "https://localhost:8080/"
        },
        "id": "NDvMuoUF0ahG",
        "outputId": "bdd5db3e-5189-49d7-e7b8-44c9e9b6a2e1"
      },
      "execution_count": null,
      "outputs": [
        {
          "output_type": "stream",
          "name": "stdout",
          "text": [
            "+---------+-----------+-----------+-----+----------+\n",
            "|ProductID|ProductName|   Category|Price|  SaleDate|\n",
            "+---------+-----------+-----------+-----+----------+\n",
            "|        1|  Product A|Electronics| 1200|2022-05-10|\n",
            "|        2|  Product B|   Clothing|  500|2022-07-15|\n",
            "|        3|  Product C|Electronics| 1800|2021-11-05|\n",
            "|        4|  Product D|  Furniture| 3000|2022-03-25|\n",
            "|        5|  Product E|   Clothing|  800|2022-09-12|\n",
            "|        6|  Product F|Electronics| 1500|2021-10-19|\n",
            "+---------+-----------+-----------+-----+----------+\n",
            "\n"
          ]
        }
      ]
    },
    {
      "cell_type": "code",
      "source": [
        "#Task 6: Calculate the Number of Days Since Each Sale\n",
        "days_since_sale_df = date_converted_df.withColumn(\"DaysSinceSale\", F.datediff(F.current_date(), \"SaleDate\"))\n",
        "days_since_sale_df.show()"
      ],
      "metadata": {
        "colab": {
          "base_uri": "https://localhost:8080/"
        },
        "id": "NPY0b9pa0lLw",
        "outputId": "db3910c8-b0cc-4d40-e4c8-15e4295b7c6b"
      },
      "execution_count": null,
      "outputs": [
        {
          "output_type": "stream",
          "name": "stdout",
          "text": [
            "+---------+-----------+-----------+-----+----------+-------------+\n",
            "|ProductID|ProductName|   Category|Price|  SaleDate|DaysSinceSale|\n",
            "+---------+-----------+-----------+-----+----------+-------------+\n",
            "|        1|  Product A|Electronics| 1200|2022-05-10|          848|\n",
            "|        2|  Product B|   Clothing|  500|2022-07-15|          782|\n",
            "|        3|  Product C|Electronics| 1800|2021-11-05|         1034|\n",
            "|        4|  Product D|  Furniture| 3000|2022-03-25|          894|\n",
            "|        5|  Product E|   Clothing|  800|2022-09-12|          723|\n",
            "|        6|  Product F|Electronics| 1500|2021-10-19|         1051|\n",
            "+---------+-----------+-----------+-----+----------+-------------+\n",
            "\n"
          ]
        }
      ]
    },
    {
      "cell_type": "code",
      "source": [
        "#Task 7: Add a Column for the Next Sale Deadline\n",
        "next_sale_deadline_df = date_converted_df.withColumn(\"NextSaleDeadline\",F.date_add(\"SaleDate\", 30))\n",
        "next_sale_deadline_df.show()"
      ],
      "metadata": {
        "colab": {
          "base_uri": "https://localhost:8080/"
        },
        "id": "Pckx5RqS2BHQ",
        "outputId": "6bd99a79-cc86-4d25-b5f8-f0320f54c15c"
      },
      "execution_count": null,
      "outputs": [
        {
          "output_type": "stream",
          "name": "stdout",
          "text": [
            "+---------+-----------+-----------+-----+----------+----------------+\n",
            "|ProductID|ProductName|   Category|Price|  SaleDate|NextSaleDeadline|\n",
            "+---------+-----------+-----------+-----+----------+----------------+\n",
            "|        1|  Product A|Electronics| 1200|2022-05-10|      2022-06-09|\n",
            "|        2|  Product B|   Clothing|  500|2022-07-15|      2022-08-14|\n",
            "|        3|  Product C|Electronics| 1800|2021-11-05|      2021-12-05|\n",
            "|        4|  Product D|  Furniture| 3000|2022-03-25|      2022-04-24|\n",
            "|        5|  Product E|   Clothing|  800|2022-09-12|      2022-10-12|\n",
            "|        6|  Product F|Electronics| 1500|2021-10-19|      2021-11-18|\n",
            "+---------+-----------+-----------+-----+----------+----------------+\n",
            "\n"
          ]
        }
      ]
    },
    {
      "cell_type": "code",
      "source": [
        "#Task 8: Calculate Total Revenue and Average Price per Category\n",
        "revenue_avg_df = union_df_all.groupBy(\"Category\").agg(F.sum(\"Price\").alias(\"TotalRevenue\"),F.avg(\"Price\").alias(\"AveragePrice\"))\n",
        "revenue_avg_df.show()"
      ],
      "metadata": {
        "colab": {
          "base_uri": "https://localhost:8080/"
        },
        "id": "cvnzErMu2RuR",
        "outputId": "02e672a2-2588-4fff-828b-490c234ee77a"
      },
      "execution_count": null,
      "outputs": [
        {
          "output_type": "stream",
          "name": "stdout",
          "text": [
            "+-----------+------------+------------+\n",
            "|   Category|TotalRevenue|AveragePrice|\n",
            "+-----------+------------+------------+\n",
            "|Electronics|        4500|      1500.0|\n",
            "|   Clothing|        1300|       650.0|\n",
            "|  Furniture|        3000|      3000.0|\n",
            "+-----------+------------+------------+\n",
            "\n"
          ]
        }
      ]
    },
    {
      "cell_type": "code",
      "source": [
        "#Task 9: Convert All Product Names to Lowercase\n",
        "lowercase_names_df = union_df_all.withColumn(\"ProductNameLower\", F.lower(\"ProductName\"))\n",
        "lowercase_names_df.show()"
      ],
      "metadata": {
        "colab": {
          "base_uri": "https://localhost:8080/"
        },
        "id": "bOb4FlyE2kkE",
        "outputId": "43ee4e72-07ce-42a5-c8d7-5c3207891220"
      },
      "execution_count": null,
      "outputs": [
        {
          "output_type": "stream",
          "name": "stdout",
          "text": [
            "+---------+-----------+-----------+-----+----------+----------------+\n",
            "|ProductID|ProductName|   Category|Price|  SaleDate|ProductNameLower|\n",
            "+---------+-----------+-----------+-----+----------+----------------+\n",
            "|        1|  Product A|Electronics| 1200|2022-05-10|       product a|\n",
            "|        2|  Product B|   Clothing|  500|2022-07-15|       product b|\n",
            "|        3|  Product C|Electronics| 1800|2021-11-05|       product c|\n",
            "|        4|  Product D|  Furniture| 3000|2022-03-25|       product d|\n",
            "|        5|  Product E|   Clothing|  800|2022-09-12|       product e|\n",
            "|        6|  Product F|Electronics| 1500|2021-10-19|       product f|\n",
            "+---------+-----------+-----------+-----+----------+----------------+\n",
            "\n"
          ]
        }
      ]
    }
  ]
}