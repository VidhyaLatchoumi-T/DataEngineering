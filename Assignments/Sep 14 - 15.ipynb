{
 "cells": [
  {
   "cell_type": "markdown",
   "metadata": {
    "application/vnd.databricks.v1+cell": {
     "cellMetadata": {},
     "inputWidgets": {},
     "nuid": "4781ad48-5672-4f4b-be9d-55f2719a7cdf",
     "showTitle": false,
     "title": ""
    }
   },
   "source": [
    "2. Setting Up Azure Databricks Workspace and Configuring Clusters"
   ]
  },
  {
   "cell_type": "code",
   "execution_count": 0,
   "metadata": {
    "application/vnd.databricks.v1+cell": {
     "cellMetadata": {
      "byteLimit": 2048000,
      "rowLimit": 10000
     },
     "inputWidgets": {},
     "nuid": "e5696142-6f0f-49ee-b35b-a13555cfed18",
     "showTitle": false,
     "title": ""
    }
   },
   "outputs": [
    {
     "output_type": "stream",
     "name": "stdout",
     "output_type": "stream",
     "text": [
      "+--------+----------+-----------+--------+-----+-----+\n|order_id|   product|   category|quantity|price|sales|\n+--------+----------+-----------+--------+-----+-----+\n|    1001|    Tablet|Electronics|       2|  456| 3936|\n|    1002|Smartphone|Accessories|       6| 1109| 4266|\n|    1003|Smartwatch|Electronics|       8| 1252| 3088|\n|    1004|Smartwatch|Electronics|       9|  346|  517|\n|    1005|Headphones|Accessories|       2|  898| 1972|\n|    1006|    Laptop|Electronics|       6| 1014| 4751|\n|    1007|Smartwatch|Electronics|       4| 1687| 2200|\n|    1008|Smartwatch|Accessories|       7| 1475| 2348|\n|    1009|    Laptop|Accessories|       1| 1895|   95|\n|    1010|    Laptop|Accessories|       1|  383| 2531|\n|    1011|    Tablet|Accessories|       1| 1186|  542|\n|    1012|Smartphone|Electronics|       5|  788| 4134|\n|    1013|    Laptop|Accessories|       8|  927| 4533|\n|    1014|    Tablet|Accessories|       2|  137| 4162|\n|    1015|    Tablet|Electronics|       7|  628| 4769|\n|    1016|    Tablet|Electronics|       2|  775| 2214|\n|    1017|Headphones|Electronics|       8| 1530|  555|\n|    1018|Headphones|Accessories|       7|  323| 1127|\n|    1019|    Tablet|Accessories|       2|  291|  787|\n|    1020|Smartphone|Electronics|       2| 1535| 1310|\n+--------+----------+-----------+--------+-----+-----+\nonly showing top 20 rows\n\n"
     ]
    }
   ],
   "source": [
    "dbutils.fs.cp(\"file:/Workspace/Shared/large_sales_data.csv\", \"dbfs:/FileStore/csv/large_sales_data.csv\")\n",
    "df=spark.read.format(\"csv\").option (\"header\", \"true\").load(\"/FileStore/csv/large_sales_data.csv\")\n",
    "df.show()"
   ]
  },
  {
   "cell_type": "markdown",
   "metadata": {
    "application/vnd.databricks.v1+cell": {
     "cellMetadata": {},
     "inputWidgets": {},
     "nuid": "bb2821eb-ceab-4b0f-943c-c638f1c7dd62",
     "showTitle": false,
     "title": ""
    }
   },
   "source": [
    "3. Real-Time Data Processing with Databricks"
   ]
  },
  {
   "cell_type": "code",
   "execution_count": 0,
   "metadata": {
    "application/vnd.databricks.v1+cell": {
     "cellMetadata": {
      "byteLimit": 2048000,
      "rowLimit": 10000
     },
     "inputWidgets": {},
     "nuid": "95d2b036-ee3d-4da2-9e7c-0b587387e4d1",
     "showTitle": false,
     "title": ""
    }
   },
   "outputs": [
    {
     "output_type": "display_data",
     "data": {
      "text/html": [
       "<style scoped>\n",
       "  .table-result-container {\n",
       "    max-height: 300px;\n",
       "    overflow: auto;\n",
       "  }\n",
       "  table, th, td {\n",
       "    border: 1px solid black;\n",
       "    border-collapse: collapse;\n",
       "  }\n",
       "  th, td {\n",
       "    padding: 5px;\n",
       "  }\n",
       "  th {\n",
       "    text-align: left;\n",
       "  }\n",
       "</style><div class='table-result-container'><table class='table-result'><thead style='background-color: white'><tr><th>product</th><th>total_sales</th></tr></thead><tbody><tr><td>Smartwatch</td><td>46163.0</td></tr><tr><td>Laptop</td><td>37752.0</td></tr><tr><td>Tablet</td><td>68824.0</td></tr><tr><td>Smartphone</td><td>43327.0</td></tr><tr><td>Headphones</td><td>44834.0</td></tr></tbody></table></div>"
      ]
     },
     "metadata": {
      "application/vnd.databricks.v1+output": {
       "addedWidgets": {},
       "aggData": [],
       "aggError": "",
       "aggOverflow": false,
       "aggSchema": [],
       "aggSeriesLimitReached": false,
       "aggType": "",
       "arguments": {},
       "columnCustomDisplayInfos": {},
       "data": [
        [
         "Smartwatch",
         46163.0
        ],
        [
         "Laptop",
         37752.0
        ],
        [
         "Tablet",
         68824.0
        ],
        [
         "Smartphone",
         43327.0
        ],
        [
         "Headphones",
         44834.0
        ]
       ],
       "datasetInfos": [],
       "dbfsResultPath": null,
       "isJsonSchema": true,
       "metadata": {
        "isDbfsCommandResult": false
       },
       "overflow": false,
       "plotOptions": {
        "customPlotOptions": {},
        "displayType": "table",
        "pivotAggregation": null,
        "pivotColumns": null,
        "xColumns": null,
        "yColumns": null
       },
       "removedWidgets": [],
       "schema": [
        {
         "metadata": "{}",
         "name": "product",
         "type": "\"string\""
        },
        {
         "metadata": "{}",
         "name": "total_sales",
         "type": "\"double\""
        }
       ],
       "type": "table"
      }
     },
     "output_type": "display_data"
    }
   ],
   "source": [
    "from pyspark.sql import SparkSession\n",
    "spark = SparkSession.builder.appName(\"RealTimeAggregation\").getOrCreate()\n",
    "\n",
    "schema = \"\"\"\n",
    "order_id STRING, \n",
    "product STRING, \n",
    "category STRING, \n",
    "quantity INT, \n",
    "price DOUBLE, \n",
    "sales DOUBLE\n",
    "\"\"\"\n",
    "\n",
    "streaming_data = spark.readStream.format(\"csv\").schema(schema).option(\"header\", \"true\").load(\"dbfs:/FileStore/csv/\")\n",
    "\n",
    "aggregated_data = streaming_data.groupBy(\"product\").agg({\"sales\": \"sum\"}).withColumnRenamed(\"sum(sales)\", \"total_sales\")\n",
    "\n",
    "query = aggregated_data.writeStream.outputMode(\"complete\").format(\"console\").start()\n",
    "\n",
    "query.awaitTermination(60)\n",
    "query.stop()\n",
    "\n",
    "display(aggregated_data)"
   ]
  },
  {
   "cell_type": "markdown",
   "metadata": {
    "application/vnd.databricks.v1+cell": {
     "cellMetadata": {},
     "inputWidgets": {},
     "nuid": "e1da7b90-37c9-4b58-a1e5-9b85d089151b",
     "showTitle": false,
     "title": ""
    }
   },
   "source": [
    "4. Data Exploration and Visualization in Databricks"
   ]
  },
  {
   "cell_type": "code",
   "execution_count": 0,
   "metadata": {
    "application/vnd.databricks.v1+cell": {
     "cellMetadata": {
      "byteLimit": 2048000,
      "rowLimit": 10000
     },
     "inputWidgets": {},
     "nuid": "632644b2-94c4-4a97-a0ed-94570fc2c72a",
     "showTitle": false,
     "title": ""
    }
   },
   "outputs": [
    {
     "output_type": "stream",
     "name": "stdout",
     "output_type": "stream",
     "text": [
      "+-------+-----------------+------------------+\n|summary|         quantity|             sales|\n+-------+-----------------+------------------+\n|  count|              100|               100|\n|   mean|             5.04|            2409.0|\n| stddev|2.542249063925544|1460.6986013686753|\n|    min|                1|              1003|\n|    max|                9|                96|\n+-------+-----------------+------------------+\n\n"
     ]
    },
    {
     "output_type": "display_data",
     "data": {
      "image/png": "[encoded data removed]",
      "text/plain": [
       "<Figure size 1000x600 with 1 Axes>"
      ]
     },
     "metadata": {},
     "output_type": "display_data"
    },
    {
     "output_type": "display_data",
     "data": {
      "image/png": "[encoded data removed]",
      "text/plain": [
       "<Figure size 1000x600 with 1 Axes>"
      ]
     },
     "metadata": {},
     "output_type": "display_data"
    }
   ],
   "source": [
    "#exploratory data analysis (EDA).\n",
    "df.describe(['quantity', 'sales']).show()\n",
    "\n",
    "# Bar chart for total sales by product\n",
    "from pyspark.sql.functions import sum\n",
    "import matplotlib.pyplot as plt\n",
    "\n",
    "product_sales = df.groupBy(\"product\").agg(sum(\"sales\").alias(\"total_sales\"))\n",
    "pandas_product_sales = product_sales.toPandas()\n",
    "\n",
    "plt.figure(figsize=(10, 6))\n",
    "plt.bar(pandas_product_sales['product'], pandas_product_sales['total_sales'], color='skyblue')\n",
    "plt.xlabel('Product')\n",
    "plt.ylabel('Total Sales')\n",
    "plt.title('Total Sales by Product')\n",
    "plt.xticks(rotation=45)\n",
    "plt.show()\n",
    "\n",
    "# Scatter plot for quantity vs. sales\n",
    "pandas_df = df.toPandas()\n",
    "\n",
    "plt.figure(figsize=(10, 6))\n",
    "plt.scatter(pandas_df['quantity'], pandas_df['sales'], alpha=0.5)\n",
    "plt.xlabel('Quantity')\n",
    "plt.ylabel('Sales')\n",
    "plt.title('Scatter Plot of Quantity vs. Sales')\n",
    "plt.show()"
   ]
  },
  {
   "cell_type": "markdown",
   "metadata": {
    "application/vnd.databricks.v1+cell": {
     "cellMetadata": {},
     "inputWidgets": {},
     "nuid": "b898be99-306e-44e3-8ef1-4d1230430e07",
     "showTitle": false,
     "title": ""
    }
   },
   "source": [
    "6. Reading and Writing Data in Databricks"
   ]
  },
  {
   "cell_type": "code",
   "execution_count": 0,
   "metadata": {
    "application/vnd.databricks.v1+cell": {
     "cellMetadata": {
      "byteLimit": 2048000,
      "rowLimit": 10000
     },
     "inputWidgets": {},
     "nuid": "71a0b681-1c62-4494-a50d-7ada898e3ce9",
     "showTitle": false,
     "title": ""
    }
   },
   "outputs": [
    {
     "output_type": "stream",
     "name": "stdout",
     "output_type": "stream",
     "text": [
      "Writing to the delta table completed\nWriting to the parquet file completed\nWriting to the json file completed\n"
     ]
    }
   ],
   "source": [
    "df_csv = spark.read.csv(\"dbfs:/FileStore/large_sales_data.csv\", header=True, inferSchema=True)\n",
    "#Delta\n",
    "df_csv.write.format(\"delta\").save(\"dbfs:/FileStore/sales_delta_table\")\n",
    "print(\"Writing to the delta table completed\")\n",
    "#Parquet\n",
    "df_csv.write.parquet(\"dbfs:/FileStore/sales_parquet_table\")\n",
    "print(\"Writing to the parquet file completed\")\n",
    "#JSON\n",
    "df_csv.write.json(\"dbfs:/FileStore/sales_json_table\")\n",
    "print(\"Writing to the json file completed\")"
   ]
  },
  {
   "cell_type": "markdown",
   "metadata": {
    "application/vnd.databricks.v1+cell": {
     "cellMetadata": {},
     "inputWidgets": {},
     "nuid": "49c9f4bb-16c5-4ca3-a0ea-e95c2ed4aafd",
     "showTitle": false,
     "title": ""
    }
   },
   "source": [
    "7. Analyzing and Visualizing Streaming Data with Databricks"
   ]
  },
  {
   "cell_type": "code",
   "execution_count": 0,
   "metadata": {
    "application/vnd.databricks.v1+cell": {
     "cellMetadata": {
      "byteLimit": 2048000,
      "rowLimit": 10000
     },
     "inputWidgets": {},
     "nuid": "2e08ffc3-932e-48de-b3b1-3f389581406d",
     "showTitle": false,
     "title": ""
    }
   },
   "outputs": [
    {
     "output_type": "display_data",
     "data": {
      "text/html": [
       "<style scoped>\n",
       "  .table-result-container {\n",
       "    max-height: 300px;\n",
       "    overflow: auto;\n",
       "  }\n",
       "  table, th, td {\n",
       "    border: 1px solid black;\n",
       "    border-collapse: collapse;\n",
       "  }\n",
       "  th, td {\n",
       "    padding: 5px;\n",
       "  }\n",
       "  th {\n",
       "    text-align: left;\n",
       "  }\n",
       "</style><div class='table-result-container'><table class='table-result'><thead style='background-color: white'><tr><th>order_id</th><th>product</th><th>category</th><th>quantity</th><th>price</th><th>sales</th></tr></thead><tbody><tr><td>order_id</td><td>product</td><td>category</td><td>null</td><td>null</td><td>null</td></tr><tr><td>1001</td><td>Tablet</td><td>Electronics</td><td>2</td><td>456.0</td><td>3936.0</td></tr><tr><td>1002</td><td>Smartphone</td><td>Accessories</td><td>6</td><td>1109.0</td><td>4266.0</td></tr><tr><td>1003</td><td>Smartwatch</td><td>Electronics</td><td>8</td><td>1252.0</td><td>3088.0</td></tr><tr><td>1004</td><td>Smartwatch</td><td>Electronics</td><td>9</td><td>346.0</td><td>517.0</td></tr><tr><td>1005</td><td>Headphones</td><td>Accessories</td><td>2</td><td>898.0</td><td>1972.0</td></tr><tr><td>1006</td><td>Laptop</td><td>Electronics</td><td>6</td><td>1014.0</td><td>4751.0</td></tr><tr><td>1007</td><td>Smartwatch</td><td>Electronics</td><td>4</td><td>1687.0</td><td>2200.0</td></tr><tr><td>1008</td><td>Smartwatch</td><td>Accessories</td><td>7</td><td>1475.0</td><td>2348.0</td></tr><tr><td>1009</td><td>Laptop</td><td>Accessories</td><td>1</td><td>1895.0</td><td>95.0</td></tr><tr><td>1010</td><td>Laptop</td><td>Accessories</td><td>1</td><td>383.0</td><td>2531.0</td></tr><tr><td>1011</td><td>Tablet</td><td>Accessories</td><td>1</td><td>1186.0</td><td>542.0</td></tr><tr><td>1012</td><td>Smartphone</td><td>Electronics</td><td>5</td><td>788.0</td><td>4134.0</td></tr><tr><td>1013</td><td>Laptop</td><td>Accessories</td><td>8</td><td>927.0</td><td>4533.0</td></tr><tr><td>1014</td><td>Tablet</td><td>Accessories</td><td>2</td><td>137.0</td><td>4162.0</td></tr><tr><td>1015</td><td>Tablet</td><td>Electronics</td><td>7</td><td>628.0</td><td>4769.0</td></tr><tr><td>1016</td><td>Tablet</td><td>Electronics</td><td>2</td><td>775.0</td><td>2214.0</td></tr><tr><td>1017</td><td>Headphones</td><td>Electronics</td><td>8</td><td>1530.0</td><td>555.0</td></tr><tr><td>1018</td><td>Headphones</td><td>Accessories</td><td>7</td><td>323.0</td><td>1127.0</td></tr><tr><td>1019</td><td>Tablet</td><td>Accessories</td><td>2</td><td>291.0</td><td>787.0</td></tr><tr><td>1020</td><td>Smartphone</td><td>Electronics</td><td>2</td><td>1535.0</td><td>1310.0</td></tr><tr><td>1021</td><td>Headphones</td><td>Accessories</td><td>1</td><td>612.0</td><td>1535.0</td></tr><tr><td>1022</td><td>Laptop</td><td>Accessories</td><td>5</td><td>1402.0</td><td>1974.0</td></tr><tr><td>1023</td><td>Smartphone</td><td>Electronics</td><td>6</td><td>935.0</td><td>3687.0</td></tr><tr><td>1024</td><td>Laptop</td><td>Accessories</td><td>2</td><td>376.0</td><td>952.0</td></tr><tr><td>1025</td><td>Smartphone</td><td>Electronics</td><td>7</td><td>1778.0</td><td>3334.0</td></tr><tr><td>1026</td><td>Headphones</td><td>Electronics</td><td>8</td><td>1595.0</td><td>823.0</td></tr><tr><td>1027</td><td>Smartwatch</td><td>Accessories</td><td>6</td><td>1807.0</td><td>3465.0</td></tr><tr><td>1028</td><td>Smartwatch</td><td>Electronics</td><td>8</td><td>731.0</td><td>1761.0</td></tr><tr><td>1029</td><td>Laptop</td><td>Accessories</td><td>5</td><td>1705.0</td><td>2343.0</td></tr><tr><td>1030</td><td>Smartphone</td><td>Accessories</td><td>4</td><td>866.0</td><td>1623.0</td></tr><tr><td>1031</td><td>Headphones</td><td>Accessories</td><td>3</td><td>84.0</td><td>651.0</td></tr><tr><td>1032</td><td>Tablet</td><td>Electronics</td><td>1</td><td>175.0</td><td>4348.0</td></tr><tr><td>1033</td><td>Smartwatch</td><td>Electronics</td><td>2</td><td>583.0</td><td>2704.0</td></tr><tr><td>1034</td><td>Laptop</td><td>Accessories</td><td>8</td><td>1585.0</td><td>917.0</td></tr><tr><td>1035</td><td>Tablet</td><td>Accessories</td><td>9</td><td>150.0</td><td>1329.0</td></tr><tr><td>1036</td><td>Headphones</td><td>Electronics</td><td>3</td><td>735.0</td><td>4755.0</td></tr><tr><td>1037</td><td>Smartwatch</td><td>Electronics</td><td>6</td><td>331.0</td><td>1308.0</td></tr><tr><td>1038</td><td>Tablet</td><td>Accessories</td><td>4</td><td>280.0</td><td>1235.0</td></tr><tr><td>1039</td><td>Tablet</td><td>Accessories</td><td>4</td><td>1794.0</td><td>1084.0</td></tr><tr><td>1040</td><td>Smartphone</td><td>Accessories</td><td>3</td><td>859.0</td><td>659.0</td></tr><tr><td>1041</td><td>Tablet</td><td>Accessories</td><td>4</td><td>260.0</td><td>1380.0</td></tr><tr><td>1042</td><td>Smartphone</td><td>Electronics</td><td>7</td><td>1788.0</td><td>2740.0</td></tr><tr><td>1043</td><td>Tablet</td><td>Accessories</td><td>5</td><td>1804.0</td><td>2511.0</td></tr><tr><td>1044</td><td>Headphones</td><td>Electronics</td><td>4</td><td>1416.0</td><td>2782.0</td></tr><tr><td>1045</td><td>Smartphone</td><td>Electronics</td><td>7</td><td>1782.0</td><td>2255.0</td></tr><tr><td>1046</td><td>Laptop</td><td>Electronics</td><td>1</td><td>411.0</td><td>714.0</td></tr><tr><td>1047</td><td>Headphones</td><td>Electronics</td><td>2</td><td>273.0</td><td>3410.0</td></tr><tr><td>1048</td><td>Laptop</td><td>Electronics</td><td>8</td><td>440.0</td><td>1495.0</td></tr><tr><td>1049</td><td>Tablet</td><td>Accessories</td><td>8</td><td>1739.0</td><td>687.0</td></tr><tr><td>1050</td><td>Headphones</td><td>Accessories</td><td>9</td><td>896.0</td><td>1722.0</td></tr><tr><td>1051</td><td>Headphones</td><td>Accessories</td><td>2</td><td>1207.0</td><td>3136.0</td></tr><tr><td>1052</td><td>Headphones</td><td>Accessories</td><td>4</td><td>628.0</td><td>3143.0</td></tr><tr><td>1053</td><td>Smartphone</td><td>Electronics</td><td>4</td><td>1549.0</td><td>2042.0</td></tr><tr><td>1054</td><td>Smartwatch</td><td>Accessories</td><td>7</td><td>1002.0</td><td>626.0</td></tr><tr><td>1055</td><td>Smartwatch</td><td>Electronics</td><td>6</td><td>525.0</td><td>498.0</td></tr><tr><td>1056</td><td>Laptop</td><td>Electronics</td><td>5</td><td>1376.0</td><td>2886.0</td></tr><tr><td>1057</td><td>Tablet</td><td>Accessories</td><td>3</td><td>1106.0</td><td>3643.0</td></tr><tr><td>1058</td><td>Tablet</td><td>Accessories</td><td>4</td><td>951.0</td><td>3291.0</td></tr><tr><td>1059</td><td>Smartwatch</td><td>Accessories</td><td>4</td><td>1429.0</td><td>2201.0</td></tr><tr><td>1060</td><td>Smartwatch</td><td>Electronics</td><td>5</td><td>1705.0</td><td>3538.0</td></tr><tr><td>1061</td><td>Smartwatch</td><td>Accessories</td><td>7</td><td>1870.0</td><td>2708.0</td></tr><tr><td>1062</td><td>Headphones</td><td>Electronics</td><td>1</td><td>484.0</td><td>3135.0</td></tr><tr><td>1063</td><td>Tablet</td><td>Electronics</td><td>2</td><td>315.0</td><td>4990.0</td></tr><tr><td>1064</td><td>Laptop</td><td>Accessories</td><td>2</td><td>1267.0</td><td>2862.0</td></tr><tr><td>1065</td><td>Tablet</td><td>Electronics</td><td>8</td><td>1048.0</td><td>4994.0</td></tr><tr><td>1066</td><td>Laptop</td><td>Accessories</td><td>4</td><td>1159.0</td><td>3913.0</td></tr><tr><td>1067</td><td>Smartphone</td><td>Accessories</td><td>6</td><td>1160.0</td><td>2055.0</td></tr><tr><td>1068</td><td>Smartwatch</td><td>Accessories</td><td>3</td><td>638.0</td><td>3877.0</td></tr><tr><td>1069</td><td>Smartphone</td><td>Accessories</td><td>9</td><td>1479.0</td><td>4904.0</td></tr><tr><td>1070</td><td>Tablet</td><td>Electronics</td><td>2</td><td>332.0</td><td>1114.0</td></tr><tr><td>1071</td><td>Tablet</td><td>Accessories</td><td>7</td><td>944.0</td><td>4176.0</td></tr><tr><td>1072</td><td>Smartwatch</td><td>Electronics</td><td>9</td><td>63.0</td><td>4757.0</td></tr><tr><td>1073</td><td>Laptop</td><td>Accessories</td><td>2</td><td>507.0</td><td>1003.0</td></tr><tr><td>1074</td><td>Smartwatch</td><td>Accessories</td><td>8</td><td>692.0</td><td>3071.0</td></tr><tr><td>1075</td><td>Laptop</td><td>Accessories</td><td>6</td><td>546.0</td><td>834.0</td></tr><tr><td>1076</td><td>Tablet</td><td>Accessories</td><td>5</td><td>1283.0</td><td>4124.0</td></tr><tr><td>1077</td><td>Headphones</td><td>Electronics</td><td>8</td><td>346.0</td><td>2551.0</td></tr><tr><td>1078</td><td>Smartwatch</td><td>Accessories</td><td>9</td><td>1177.0</td><td>2232.0</td></tr><tr><td>1079</td><td>Tablet</td><td>Electronics</td><td>1</td><td>693.0</td><td>3992.0</td></tr><tr><td>1080</td><td>Tablet</td><td>Electronics</td><td>4</td><td>329.0</td><td>4188.0</td></tr><tr><td>1081</td><td>Tablet</td><td>Accessories</td><td>8</td><td>590.0</td><td>292.0</td></tr><tr><td>1082</td><td>Headphones</td><td>Accessories</td><td>7</td><td>1591.0</td><td>571.0</td></tr><tr><td>1083</td><td>Headphones</td><td>Accessories</td><td>7</td><td>1516.0</td><td>3100.0</td></tr><tr><td>1084</td><td>Headphones</td><td>Electronics</td><td>2</td><td>530.0</td><td>377.0</td></tr><tr><td>1085</td><td>Tablet</td><td>Electronics</td><td>7</td><td>148.0</td><td>4432.0</td></tr><tr><td>1086</td><td>Smartphone</td><td>Electronics</td><td>3</td><td>1241.0</td><td>316.0</td></tr><tr><td>1087</td><td>Smartwatch</td><td>Electronics</td><td>1</td><td>1422.0</td><td>2026.0</td></tr><tr><td>1088</td><td>Smartphone</td><td>Accessories</td><td>5</td><td>73.0</td><td>1783.0</td></tr><tr><td>1089</td><td>Headphones</td><td>Electronics</td><td>7</td><td>1056.0</td><td>4584.0</td></tr><tr><td>1090</td><td>Headphones</td><td>Accessories</td><td>8</td><td>1792.0</td><td>4905.0</td></tr><tr><td>1091</td><td>Smartphone</td><td>Electronics</td><td>6</td><td>1130.0</td><td>130.0</td></tr><tr><td>1092</td><td>Tablet</td><td>Electronics</td><td>6</td><td>509.0</td><td>96.0</td></tr><tr><td>1093</td><td>Smartphone</td><td>Accessories</td><td>9</td><td>1326.0</td><td>3452.0</td></tr><tr><td>1094</td><td>Smartphone</td><td>Accessories</td><td>5</td><td>217.0</td><td>909.0</td></tr><tr><td>1095</td><td>Laptop</td><td>Accessories</td><td>7</td><td>926.0</td><td>1200.0</td></tr><tr><td>1096</td><td>Smartwatch</td><td>Electronics</td><td>5</td><td>1602.0</td><td>3238.0</td></tr><tr><td>1097</td><td>Tablet</td><td>Accessories</td><td>2</td><td>230.0</td><td>508.0</td></tr><tr><td>1098</td><td>Laptop</td><td>Accessories</td><td>9</td><td>1067.0</td><td>3835.0</td></tr><tr><td>1099</td><td>Smartphone</td><td>Accessories</td><td>6</td><td>1506.0</td><td>3728.0</td></tr><tr><td>1100</td><td>Laptop</td><td>Accessories</td><td>7</td><td>973.0</td><td>914.0</td></tr></tbody></table></div>"
      ]
     },
     "metadata": {
      "application/vnd.databricks.v1+output": {
       "addedWidgets": {},
       "aggData": [],
       "aggError": "",
       "aggOverflow": false,
       "aggSchema": [],
       "aggSeriesLimitReached": false,
       "aggType": "",
       "arguments": {},
       "columnCustomDisplayInfos": {},
       "data": [
        [
         "order_id",
         "product",
         "category",
         null,
         null,
         null
        ],
        [
         "1001",
         "Tablet",
         "Electronics",
         2,
         456.0,
         3936.0
        ],
        [
         "1002",
         "Smartphone",
         "Accessories",
         6,
         1109.0,
         4266.0
        ],
        [
         "1003",
         "Smartwatch",
         "Electronics",
         8,
         1252.0,
         3088.0
        ],
        [
         "1004",
         "Smartwatch",
         "Electronics",
         9,
         346.0,
         517.0
        ],
        [
         "1005",
         "Headphones",
         "Accessories",
         2,
         898.0,
         1972.0
        ],
        [
         "1006",
         "Laptop",
         "Electronics",
         6,
         1014.0,
         4751.0
        ],
        [
         "1007",
         "Smartwatch",
         "Electronics",
         4,
         1687.0,
         2200.0
        ],
        [
         "1008",
         "Smartwatch",
         "Accessories",
         7,
         1475.0,
         2348.0
        ],
        [
         "1009",
         "Laptop",
         "Accessories",
         1,
         1895.0,
         95.0
        ],
        [
         "1010",
         "Laptop",
         "Accessories",
         1,
         383.0,
         2531.0
        ],
        [
         "1011",
         "Tablet",
         "Accessories",
         1,
         1186.0,
         542.0
        ],
        [
         "1012",
         "Smartphone",
         "Electronics",
         5,
         788.0,
         4134.0
        ],
        [
         "1013",
         "Laptop",
         "Accessories",
         8,
         927.0,
         4533.0
        ],
        [
         "1014",
         "Tablet",
         "Accessories",
         2,
         137.0,
         4162.0
        ],
        [
         "1015",
         "Tablet",
         "Electronics",
         7,
         628.0,
         4769.0
        ],
        [
         "1016",
         "Tablet",
         "Electronics",
         2,
         775.0,
         2214.0
        ],
        [
         "1017",
         "Headphones",
         "Electronics",
         8,
         1530.0,
         555.0
        ],
        [
         "1018",
         "Headphones",
         "Accessories",
         7,
         323.0,
         1127.0
        ],
        [
         "1019",
         "Tablet",
         "Accessories",
         2,
         291.0,
         787.0
        ],
        [
         "1020",
         "Smartphone",
         "Electronics",
         2,
         1535.0,
         1310.0
        ],
        [
         "1021",
         "Headphones",
         "Accessories",
         1,
         612.0,
         1535.0
        ],
        [
         "1022",
         "Laptop",
         "Accessories",
         5,
         1402.0,
         1974.0
        ],
        [
         "1023",
         "Smartphone",
         "Electronics",
         6,
         935.0,
         3687.0
        ],
        [
         "1024",
         "Laptop",
         "Accessories",
         2,
         376.0,
         952.0
        ],
        [
         "1025",
         "Smartphone",
         "Electronics",
         7,
         1778.0,
         3334.0
        ],
        [
         "1026",
         "Headphones",
         "Electronics",
         8,
         1595.0,
         823.0
        ],
        [
         "1027",
         "Smartwatch",
         "Accessories",
         6,
         1807.0,
         3465.0
        ],
        [
         "1028",
         "Smartwatch",
         "Electronics",
         8,
         731.0,
         1761.0
        ],
        [
         "1029",
         "Laptop",
         "Accessories",
         5,
         1705.0,
         2343.0
        ],
        [
         "1030",
         "Smartphone",
         "Accessories",
         4,
         866.0,
         1623.0
        ],
        [
         "1031",
         "Headphones",
         "Accessories",
         3,
         84.0,
         651.0
        ],
        [
         "1032",
         "Tablet",
         "Electronics",
         1,
         175.0,
         4348.0
        ],
        [
         "1033",
         "Smartwatch",
         "Electronics",
         2,
         583.0,
         2704.0
        ],
        [
         "1034",
         "Laptop",
         "Accessories",
         8,
         1585.0,
         917.0
        ],
        [
         "1035",
         "Tablet",
         "Accessories",
         9,
         150.0,
         1329.0
        ],
        [
         "1036",
         "Headphones",
         "Electronics",
         3,
         735.0,
         4755.0
        ],
        [
         "1037",
         "Smartwatch",
         "Electronics",
         6,
         331.0,
         1308.0
        ],
        [
         "1038",
         "Tablet",
         "Accessories",
         4,
         280.0,
         1235.0
        ],
        [
         "1039",
         "Tablet",
         "Accessories",
         4,
         1794.0,
         1084.0
        ],
        [
         "1040",
         "Smartphone",
         "Accessories",
         3,
         859.0,
         659.0
        ],
        [
         "1041",
         "Tablet",
         "Accessories",
         4,
         260.0,
         1380.0
        ],
        [
         "1042",
         "Smartphone",
         "Electronics",
         7,
         1788.0,
         2740.0
        ],
        [
         "1043",
         "Tablet",
         "Accessories",
         5,
         1804.0,
         2511.0
        ],
        [
         "1044",
         "Headphones",
         "Electronics",
         4,
         1416.0,
         2782.0
        ],
        [
         "1045",
         "Smartphone",
         "Electronics",
         7,
         1782.0,
         2255.0
        ],
        [
         "1046",
         "Laptop",
         "Electronics",
         1,
         411.0,
         714.0
        ],
        [
         "1047",
         "Headphones",
         "Electronics",
         2,
         273.0,
         3410.0
        ],
        [
         "1048",
         "Laptop",
         "Electronics",
         8,
         440.0,
         1495.0
        ],
        [
         "1049",
         "Tablet",
         "Accessories",
         8,
         1739.0,
         687.0
        ],
        [
         "1050",
         "Headphones",
         "Accessories",
         9,
         896.0,
         1722.0
        ],
        [
         "1051",
         "Headphones",
         "Accessories",
         2,
         1207.0,
         3136.0
        ],
        [
         "1052",
         "Headphones",
         "Accessories",
         4,
         628.0,
         3143.0
        ],
        [
         "1053",
         "Smartphone",
         "Electronics",
         4,
         1549.0,
         2042.0
        ],
        [
         "1054",
         "Smartwatch",
         "Accessories",
         7,
         1002.0,
         626.0
        ],
        [
         "1055",
         "Smartwatch",
         "Electronics",
         6,
         525.0,
         498.0
        ],
        [
         "1056",
         "Laptop",
         "Electronics",
         5,
         1376.0,
         2886.0
        ],
        [
         "1057",
         "Tablet",
         "Accessories",
         3,
         1106.0,
         3643.0
        ],
        [
         "1058",
         "Tablet",
         "Accessories",
         4,
         951.0,
         3291.0
        ],
        [
         "1059",
         "Smartwatch",
         "Accessories",
         4,
         1429.0,
         2201.0
        ],
        [
         "1060",
         "Smartwatch",
         "Electronics",
         5,
         1705.0,
         3538.0
        ],
        [
         "1061",
         "Smartwatch",
         "Accessories",
         7,
         1870.0,
         2708.0
        ],
        [
         "1062",
         "Headphones",
         "Electronics",
         1,
         484.0,
         3135.0
        ],
        [
         "1063",
         "Tablet",
         "Electronics",
         2,
         315.0,
         4990.0
        ],
        [
         "1064",
         "Laptop",
         "Accessories",
         2,
         1267.0,
         2862.0
        ],
        [
         "1065",
         "Tablet",
         "Electronics",
         8,
         1048.0,
         4994.0
        ],
        [
         "1066",
         "Laptop",
         "Accessories",
         4,
         1159.0,
         3913.0
        ],
        [
         "1067",
         "Smartphone",
         "Accessories",
         6,
         1160.0,
         2055.0
        ],
        [
         "1068",
         "Smartwatch",
         "Accessories",
         3,
         638.0,
         3877.0
        ],
        [
         "1069",
         "Smartphone",
         "Accessories",
         9,
         1479.0,
         4904.0
        ],
        [
         "1070",
         "Tablet",
         "Electronics",
         2,
         332.0,
         1114.0
        ],
        [
         "1071",
         "Tablet",
         "Accessories",
         7,
         944.0,
         4176.0
        ],
        [
         "1072",
         "Smartwatch",
         "Electronics",
         9,
         63.0,
         4757.0
        ],
        [
         "1073",
         "Laptop",
         "Accessories",
         2,
         507.0,
         1003.0
        ],
        [
         "1074",
         "Smartwatch",
         "Accessories",
         8,
         692.0,
         3071.0
        ],
        [
         "1075",
         "Laptop",
         "Accessories",
         6,
         546.0,
         834.0
        ],
        [
         "1076",
         "Tablet",
         "Accessories",
         5,
         1283.0,
         4124.0
        ],
        [
         "1077",
         "Headphones",
         "Electronics",
         8,
         346.0,
         2551.0
        ],
        [
         "1078",
         "Smartwatch",
         "Accessories",
         9,
         1177.0,
         2232.0
        ],
        [
         "1079",
         "Tablet",
         "Electronics",
         1,
         693.0,
         3992.0
        ],
        [
         "1080",
         "Tablet",
         "Electronics",
         4,
         329.0,
         4188.0
        ],
        [
         "1081",
         "Tablet",
         "Accessories",
         8,
         590.0,
         292.0
        ],
        [
         "1082",
         "Headphones",
         "Accessories",
         7,
         1591.0,
         571.0
        ],
        [
         "1083",
         "Headphones",
         "Accessories",
         7,
         1516.0,
         3100.0
        ],
        [
         "1084",
         "Headphones",
         "Electronics",
         2,
         530.0,
         377.0
        ],
        [
         "1085",
         "Tablet",
         "Electronics",
         7,
         148.0,
         4432.0
        ],
        [
         "1086",
         "Smartphone",
         "Electronics",
         3,
         1241.0,
         316.0
        ],
        [
         "1087",
         "Smartwatch",
         "Electronics",
         1,
         1422.0,
         2026.0
        ],
        [
         "1088",
         "Smartphone",
         "Accessories",
         5,
         73.0,
         1783.0
        ],
        [
         "1089",
         "Headphones",
         "Electronics",
         7,
         1056.0,
         4584.0
        ],
        [
         "1090",
         "Headphones",
         "Accessories",
         8,
         1792.0,
         4905.0
        ],
        [
         "1091",
         "Smartphone",
         "Electronics",
         6,
         1130.0,
         130.0
        ],
        [
         "1092",
         "Tablet",
         "Electronics",
         6,
         509.0,
         96.0
        ],
        [
         "1093",
         "Smartphone",
         "Accessories",
         9,
         1326.0,
         3452.0
        ],
        [
         "1094",
         "Smartphone",
         "Accessories",
         5,
         217.0,
         909.0
        ],
        [
         "1095",
         "Laptop",
         "Accessories",
         7,
         926.0,
         1200.0
        ],
        [
         "1096",
         "Smartwatch",
         "Electronics",
         5,
         1602.0,
         3238.0
        ],
        [
         "1097",
         "Tablet",
         "Accessories",
         2,
         230.0,
         508.0
        ],
        [
         "1098",
         "Laptop",
         "Accessories",
         9,
         1067.0,
         3835.0
        ],
        [
         "1099",
         "Smartphone",
         "Accessories",
         6,
         1506.0,
         3728.0
        ],
        [
         "1100",
         "Laptop",
         "Accessories",
         7,
         973.0,
         914.0
        ]
       ],
       "datasetInfos": [],
       "dbfsResultPath": null,
       "isJsonSchema": true,
       "metadata": {},
       "overflow": false,
       "plotOptions": {
        "customPlotOptions": {},
        "displayType": "table",
        "pivotAggregation": null,
        "pivotColumns": null,
        "xColumns": null,
        "yColumns": null
       },
       "removedWidgets": [],
       "schema": [
        {
         "metadata": "{}",
         "name": "order_id",
         "type": "\"string\""
        },
        {
         "metadata": "{}",
         "name": "product",
         "type": "\"string\""
        },
        {
         "metadata": "{}",
         "name": "category",
         "type": "\"string\""
        },
        {
         "metadata": "{}",
         "name": "quantity",
         "type": "\"integer\""
        },
        {
         "metadata": "{}",
         "name": "price",
         "type": "\"double\""
        },
        {
         "metadata": "{}",
         "name": "sales",
         "type": "\"double\""
        }
       ],
       "type": "table"
      }
     },
     "output_type": "display_data"
    }
   ],
   "source": [
    "schema = \"\"\"\n",
    "order_id STRING, \n",
    "product STRING, \n",
    "category STRING, \n",
    "quantity INT, \n",
    "price DOUBLE, \n",
    "sales DOUBLE\n",
    "\"\"\"\n",
    "\n",
    "streaming_data = spark.readStream.schema(schema).csv(\"dbfs:/FileStore/csv\")\n",
    "\n",
    "query = streaming_data.writeStream.format(\"memory\").queryName(\"streaming_sales_data\").outputMode(\"append\").start()\n",
    "\n",
    "query.awaitTermination(60)\n",
    "query.stop()\n",
    "\n",
    "# Visualize real-time data\n",
    "display(spark.sql(\"SELECT * FROM streaming_sales_data\"))\n"
   ]
  },
  {
   "cell_type": "markdown",
   "metadata": {
    "application/vnd.databricks.v1+cell": {
     "cellMetadata": {},
     "inputWidgets": {},
     "nuid": "ec6fd3ae-33f0-40f9-9637-80820596c11d",
     "showTitle": false,
     "title": ""
    }
   },
   "source": [
    "8. Introduction to Databricks Delta Lake"
   ]
  },
  {
   "cell_type": "code",
   "execution_count": 0,
   "metadata": {
    "application/vnd.databricks.v1+cell": {
     "cellMetadata": {
      "byteLimit": 2048000,
      "rowLimit": 10000
     },
     "inputWidgets": {},
     "nuid": "c0f18d56-5cad-4b14-b3c0-4caccc070edf",
     "showTitle": false,
     "title": ""
    }
   },
   "outputs": [
    {
     "output_type": "display_data",
     "data": {
      "text/html": [
       "<style scoped>\n",
       "  .table-result-container {\n",
       "    max-height: 300px;\n",
       "    overflow: auto;\n",
       "  }\n",
       "  table, th, td {\n",
       "    border: 1px solid black;\n",
       "    border-collapse: collapse;\n",
       "  }\n",
       "  th, td {\n",
       "    padding: 5px;\n",
       "  }\n",
       "  th {\n",
       "    text-align: left;\n",
       "  }\n",
       "</style><div class='table-result-container'><table class='table-result'><thead style='background-color: white'><tr><th>order_id</th><th>product</th><th>category</th><th>quantity</th><th>price</th><th>sales</th></tr></thead><tbody><tr><td>1001</td><td>Tablet</td><td>Electronics</td><td>2</td><td>456</td><td>3936</td></tr><tr><td>1002</td><td>Smartphone</td><td>Accessories</td><td>6</td><td>1109</td><td>4266</td></tr><tr><td>1004</td><td>Smartwatch</td><td>Electronics</td><td>9</td><td>346</td><td>517</td></tr><tr><td>1005</td><td>Headphones</td><td>Accessories</td><td>2</td><td>898</td><td>1972</td></tr><tr><td>1006</td><td>Laptop</td><td>Electronics</td><td>6</td><td>1014</td><td>4751</td></tr><tr><td>1007</td><td>Smartwatch</td><td>Electronics</td><td>4</td><td>1687</td><td>2200</td></tr><tr><td>1008</td><td>Smartwatch</td><td>Accessories</td><td>7</td><td>1475</td><td>2348</td></tr><tr><td>1009</td><td>Laptop</td><td>Accessories</td><td>1</td><td>1895</td><td>95</td></tr><tr><td>1010</td><td>Laptop</td><td>Accessories</td><td>1</td><td>383</td><td>2531</td></tr><tr><td>1011</td><td>Tablet</td><td>Accessories</td><td>1</td><td>1186</td><td>542</td></tr><tr><td>1012</td><td>Smartphone</td><td>Electronics</td><td>5</td><td>788</td><td>4134</td></tr><tr><td>1013</td><td>Laptop</td><td>Accessories</td><td>8</td><td>927</td><td>4533</td></tr><tr><td>1014</td><td>Tablet</td><td>Accessories</td><td>2</td><td>137</td><td>4162</td></tr><tr><td>1015</td><td>Tablet</td><td>Electronics</td><td>7</td><td>628</td><td>4769</td></tr><tr><td>1016</td><td>Tablet</td><td>Electronics</td><td>2</td><td>775</td><td>2214</td></tr><tr><td>1017</td><td>Headphones</td><td>Electronics</td><td>8</td><td>1530</td><td>555</td></tr><tr><td>1018</td><td>Headphones</td><td>Accessories</td><td>7</td><td>323</td><td>1127</td></tr><tr><td>1019</td><td>Tablet</td><td>Accessories</td><td>2</td><td>291</td><td>787</td></tr><tr><td>1020</td><td>Smartphone</td><td>Electronics</td><td>2</td><td>1535</td><td>1310</td></tr><tr><td>1021</td><td>Headphones</td><td>Accessories</td><td>1</td><td>612</td><td>1535</td></tr><tr><td>1022</td><td>Laptop</td><td>Accessories</td><td>5</td><td>1402</td><td>1974</td></tr><tr><td>1023</td><td>Smartphone</td><td>Electronics</td><td>6</td><td>935</td><td>3687</td></tr><tr><td>1024</td><td>Laptop</td><td>Accessories</td><td>2</td><td>376</td><td>952</td></tr><tr><td>1025</td><td>Smartphone</td><td>Electronics</td><td>7</td><td>1778</td><td>3334</td></tr><tr><td>1026</td><td>Headphones</td><td>Electronics</td><td>8</td><td>1595</td><td>823</td></tr><tr><td>1027</td><td>Smartwatch</td><td>Accessories</td><td>6</td><td>1807</td><td>3465</td></tr><tr><td>1028</td><td>Smartwatch</td><td>Electronics</td><td>8</td><td>731</td><td>1761</td></tr><tr><td>1029</td><td>Laptop</td><td>Accessories</td><td>5</td><td>1705</td><td>2343</td></tr><tr><td>1030</td><td>Smartphone</td><td>Accessories</td><td>4</td><td>866</td><td>1623</td></tr><tr><td>1031</td><td>Headphones</td><td>Accessories</td><td>3</td><td>84</td><td>651</td></tr><tr><td>1032</td><td>Tablet</td><td>Electronics</td><td>1</td><td>175</td><td>4348</td></tr><tr><td>1033</td><td>Smartwatch</td><td>Electronics</td><td>2</td><td>583</td><td>2704</td></tr><tr><td>1034</td><td>Laptop</td><td>Accessories</td><td>8</td><td>1585</td><td>917</td></tr><tr><td>1035</td><td>Tablet</td><td>Accessories</td><td>9</td><td>150</td><td>1329</td></tr><tr><td>1036</td><td>Headphones</td><td>Electronics</td><td>3</td><td>735</td><td>4755</td></tr><tr><td>1037</td><td>Smartwatch</td><td>Electronics</td><td>6</td><td>331</td><td>1308</td></tr><tr><td>1038</td><td>Tablet</td><td>Accessories</td><td>4</td><td>280</td><td>1235</td></tr><tr><td>1039</td><td>Tablet</td><td>Accessories</td><td>4</td><td>1794</td><td>1084</td></tr><tr><td>1040</td><td>Smartphone</td><td>Accessories</td><td>3</td><td>859</td><td>659</td></tr><tr><td>1041</td><td>Tablet</td><td>Accessories</td><td>4</td><td>260</td><td>1380</td></tr><tr><td>1042</td><td>Smartphone</td><td>Electronics</td><td>7</td><td>1788</td><td>2740</td></tr><tr><td>1043</td><td>Tablet</td><td>Accessories</td><td>5</td><td>1804</td><td>2511</td></tr><tr><td>1044</td><td>Headphones</td><td>Electronics</td><td>4</td><td>1416</td><td>2782</td></tr><tr><td>1045</td><td>Smartphone</td><td>Electronics</td><td>7</td><td>1782</td><td>2255</td></tr><tr><td>1046</td><td>Laptop</td><td>Electronics</td><td>1</td><td>411</td><td>714</td></tr><tr><td>1047</td><td>Headphones</td><td>Electronics</td><td>2</td><td>273</td><td>3410</td></tr><tr><td>1048</td><td>Laptop</td><td>Electronics</td><td>8</td><td>440</td><td>1495</td></tr><tr><td>1049</td><td>Tablet</td><td>Accessories</td><td>8</td><td>1739</td><td>687</td></tr><tr><td>1050</td><td>Headphones</td><td>Accessories</td><td>9</td><td>896</td><td>1722</td></tr><tr><td>1051</td><td>Headphones</td><td>Accessories</td><td>2</td><td>1207</td><td>3136</td></tr><tr><td>1052</td><td>Headphones</td><td>Accessories</td><td>4</td><td>628</td><td>3143</td></tr><tr><td>1053</td><td>Smartphone</td><td>Electronics</td><td>4</td><td>1549</td><td>2042</td></tr><tr><td>1054</td><td>Smartwatch</td><td>Accessories</td><td>7</td><td>1002</td><td>626</td></tr><tr><td>1055</td><td>Smartwatch</td><td>Electronics</td><td>6</td><td>525</td><td>498</td></tr><tr><td>1056</td><td>Laptop</td><td>Electronics</td><td>5</td><td>1376</td><td>2886</td></tr><tr><td>1057</td><td>Tablet</td><td>Accessories</td><td>3</td><td>1106</td><td>3643</td></tr><tr><td>1058</td><td>Tablet</td><td>Accessories</td><td>4</td><td>951</td><td>3291</td></tr><tr><td>1059</td><td>Smartwatch</td><td>Accessories</td><td>4</td><td>1429</td><td>2201</td></tr><tr><td>1060</td><td>Smartwatch</td><td>Electronics</td><td>5</td><td>1705</td><td>3538</td></tr><tr><td>1061</td><td>Smartwatch</td><td>Accessories</td><td>7</td><td>1870</td><td>2708</td></tr><tr><td>1062</td><td>Headphones</td><td>Electronics</td><td>1</td><td>484</td><td>3135</td></tr><tr><td>1063</td><td>Tablet</td><td>Electronics</td><td>2</td><td>315</td><td>4990</td></tr><tr><td>1064</td><td>Laptop</td><td>Accessories</td><td>2</td><td>1267</td><td>2862</td></tr><tr><td>1065</td><td>Tablet</td><td>Electronics</td><td>8</td><td>1048</td><td>4994</td></tr><tr><td>1066</td><td>Laptop</td><td>Accessories</td><td>4</td><td>1159</td><td>3913</td></tr><tr><td>1067</td><td>Smartphone</td><td>Accessories</td><td>6</td><td>1160</td><td>2055</td></tr><tr><td>1068</td><td>Smartwatch</td><td>Accessories</td><td>3</td><td>638</td><td>3877</td></tr><tr><td>1069</td><td>Smartphone</td><td>Accessories</td><td>9</td><td>1479</td><td>4904</td></tr><tr><td>1070</td><td>Tablet</td><td>Electronics</td><td>2</td><td>332</td><td>1114</td></tr><tr><td>1071</td><td>Tablet</td><td>Accessories</td><td>7</td><td>944</td><td>4176</td></tr><tr><td>1072</td><td>Smartwatch</td><td>Electronics</td><td>9</td><td>63</td><td>4757</td></tr><tr><td>1073</td><td>Laptop</td><td>Accessories</td><td>2</td><td>507</td><td>1003</td></tr><tr><td>1074</td><td>Smartwatch</td><td>Accessories</td><td>8</td><td>692</td><td>3071</td></tr><tr><td>1075</td><td>Laptop</td><td>Accessories</td><td>6</td><td>546</td><td>834</td></tr><tr><td>1076</td><td>Tablet</td><td>Accessories</td><td>5</td><td>1283</td><td>4124</td></tr><tr><td>1077</td><td>Headphones</td><td>Electronics</td><td>8</td><td>346</td><td>2551</td></tr><tr><td>1078</td><td>Smartwatch</td><td>Accessories</td><td>9</td><td>1177</td><td>2232</td></tr><tr><td>1079</td><td>Tablet</td><td>Electronics</td><td>1</td><td>693</td><td>3992</td></tr><tr><td>1080</td><td>Tablet</td><td>Electronics</td><td>4</td><td>329</td><td>4188</td></tr><tr><td>1081</td><td>Tablet</td><td>Accessories</td><td>8</td><td>590</td><td>292</td></tr><tr><td>1082</td><td>Headphones</td><td>Accessories</td><td>7</td><td>1591</td><td>571</td></tr><tr><td>1083</td><td>Headphones</td><td>Accessories</td><td>7</td><td>1516</td><td>3100</td></tr><tr><td>1084</td><td>Headphones</td><td>Electronics</td><td>2</td><td>530</td><td>377</td></tr><tr><td>1085</td><td>Tablet</td><td>Electronics</td><td>7</td><td>148</td><td>4432</td></tr><tr><td>1086</td><td>Smartphone</td><td>Electronics</td><td>3</td><td>1241</td><td>316</td></tr><tr><td>1087</td><td>Smartwatch</td><td>Electronics</td><td>1</td><td>1422</td><td>2026</td></tr><tr><td>1088</td><td>Smartphone</td><td>Accessories</td><td>5</td><td>73</td><td>1783</td></tr><tr><td>1089</td><td>Headphones</td><td>Electronics</td><td>7</td><td>1056</td><td>4584</td></tr><tr><td>1090</td><td>Headphones</td><td>Accessories</td><td>8</td><td>1792</td><td>4905</td></tr><tr><td>1091</td><td>Smartphone</td><td>Electronics</td><td>6</td><td>1130</td><td>130</td></tr><tr><td>1092</td><td>Tablet</td><td>Electronics</td><td>6</td><td>509</td><td>96</td></tr><tr><td>1093</td><td>Smartphone</td><td>Accessories</td><td>9</td><td>1326</td><td>3452</td></tr><tr><td>1094</td><td>Smartphone</td><td>Accessories</td><td>5</td><td>217</td><td>909</td></tr><tr><td>1095</td><td>Laptop</td><td>Accessories</td><td>7</td><td>926</td><td>1200</td></tr><tr><td>1096</td><td>Smartwatch</td><td>Electronics</td><td>5</td><td>1602</td><td>3238</td></tr><tr><td>1097</td><td>Tablet</td><td>Accessories</td><td>2</td><td>230</td><td>508</td></tr><tr><td>1098</td><td>Laptop</td><td>Accessories</td><td>9</td><td>1067</td><td>3835</td></tr><tr><td>1099</td><td>Smartphone</td><td>Accessories</td><td>6</td><td>1506</td><td>3728</td></tr><tr><td>1100</td><td>Laptop</td><td>Accessories</td><td>7</td><td>973</td><td>914</td></tr><tr><td>1003</td><td>Smartwatch</td><td>Electronics</td><td>200.0</td><td>1252</td><td>3088</td></tr></tbody></table></div>"
      ]
     },
     "metadata": {
      "application/vnd.databricks.v1+output": {
       "addedWidgets": {},
       "aggData": [],
       "aggError": "",
       "aggOverflow": false,
       "aggSchema": [],
       "aggSeriesLimitReached": false,
       "aggType": "",
       "arguments": {},
       "columnCustomDisplayInfos": {},
       "data": [
        [
         "1001",
         "Tablet",
         "Electronics",
         "2",
         "456",
         "3936"
        ],
        [
         "1002",
         "Smartphone",
         "Accessories",
         "6",
         "1109",
         "4266"
        ],
        [
         "1004",
         "Smartwatch",
         "Electronics",
         "9",
         "346",
         "517"
        ],
        [
         "1005",
         "Headphones",
         "Accessories",
         "2",
         "898",
         "1972"
        ],
        [
         "1006",
         "Laptop",
         "Electronics",
         "6",
         "1014",
         "4751"
        ],
        [
         "1007",
         "Smartwatch",
         "Electronics",
         "4",
         "1687",
         "2200"
        ],
        [
         "1008",
         "Smartwatch",
         "Accessories",
         "7",
         "1475",
         "2348"
        ],
        [
         "1009",
         "Laptop",
         "Accessories",
         "1",
         "1895",
         "95"
        ],
        [
         "1010",
         "Laptop",
         "Accessories",
         "1",
         "383",
         "2531"
        ],
        [
         "1011",
         "Tablet",
         "Accessories",
         "1",
         "1186",
         "542"
        ],
        [
         "1012",
         "Smartphone",
         "Electronics",
         "5",
         "788",
         "4134"
        ],
        [
         "1013",
         "Laptop",
         "Accessories",
         "8",
         "927",
         "4533"
        ],
        [
         "1014",
         "Tablet",
         "Accessories",
         "2",
         "137",
         "4162"
        ],
        [
         "1015",
         "Tablet",
         "Electronics",
         "7",
         "628",
         "4769"
        ],
        [
         "1016",
         "Tablet",
         "Electronics",
         "2",
         "775",
         "2214"
        ],
        [
         "1017",
         "Headphones",
         "Electronics",
         "8",
         "1530",
         "555"
        ],
        [
         "1018",
         "Headphones",
         "Accessories",
         "7",
         "323",
         "1127"
        ],
        [
         "1019",
         "Tablet",
         "Accessories",
         "2",
         "291",
         "787"
        ],
        [
         "1020",
         "Smartphone",
         "Electronics",
         "2",
         "1535",
         "1310"
        ],
        [
         "1021",
         "Headphones",
         "Accessories",
         "1",
         "612",
         "1535"
        ],
        [
         "1022",
         "Laptop",
         "Accessories",
         "5",
         "1402",
         "1974"
        ],
        [
         "1023",
         "Smartphone",
         "Electronics",
         "6",
         "935",
         "3687"
        ],
        [
         "1024",
         "Laptop",
         "Accessories",
         "2",
         "376",
         "952"
        ],
        [
         "1025",
         "Smartphone",
         "Electronics",
         "7",
         "1778",
         "3334"
        ],
        [
         "1026",
         "Headphones",
         "Electronics",
         "8",
         "1595",
         "823"
        ],
        [
         "1027",
         "Smartwatch",
         "Accessories",
         "6",
         "1807",
         "3465"
        ],
        [
         "1028",
         "Smartwatch",
         "Electronics",
         "8",
         "731",
         "1761"
        ],
        [
         "1029",
         "Laptop",
         "Accessories",
         "5",
         "1705",
         "2343"
        ],
        [
         "1030",
         "Smartphone",
         "Accessories",
         "4",
         "866",
         "1623"
        ],
        [
         "1031",
         "Headphones",
         "Accessories",
         "3",
         "84",
         "651"
        ],
        [
         "1032",
         "Tablet",
         "Electronics",
         "1",
         "175",
         "4348"
        ],
        [
         "1033",
         "Smartwatch",
         "Electronics",
         "2",
         "583",
         "2704"
        ],
        [
         "1034",
         "Laptop",
         "Accessories",
         "8",
         "1585",
         "917"
        ],
        [
         "1035",
         "Tablet",
         "Accessories",
         "9",
         "150",
         "1329"
        ],
        [
         "1036",
         "Headphones",
         "Electronics",
         "3",
         "735",
         "4755"
        ],
        [
         "1037",
         "Smartwatch",
         "Electronics",
         "6",
         "331",
         "1308"
        ],
        [
         "1038",
         "Tablet",
         "Accessories",
         "4",
         "280",
         "1235"
        ],
        [
         "1039",
         "Tablet",
         "Accessories",
         "4",
         "1794",
         "1084"
        ],
        [
         "1040",
         "Smartphone",
         "Accessories",
         "3",
         "859",
         "659"
        ],
        [
         "1041",
         "Tablet",
         "Accessories",
         "4",
         "260",
         "1380"
        ],
        [
         "1042",
         "Smartphone",
         "Electronics",
         "7",
         "1788",
         "2740"
        ],
        [
         "1043",
         "Tablet",
         "Accessories",
         "5",
         "1804",
         "2511"
        ],
        [
         "1044",
         "Headphones",
         "Electronics",
         "4",
         "1416",
         "2782"
        ],
        [
         "1045",
         "Smartphone",
         "Electronics",
         "7",
         "1782",
         "2255"
        ],
        [
         "1046",
         "Laptop",
         "Electronics",
         "1",
         "411",
         "714"
        ],
        [
         "1047",
         "Headphones",
         "Electronics",
         "2",
         "273",
         "3410"
        ],
        [
         "1048",
         "Laptop",
         "Electronics",
         "8",
         "440",
         "1495"
        ],
        [
         "1049",
         "Tablet",
         "Accessories",
         "8",
         "1739",
         "687"
        ],
        [
         "1050",
         "Headphones",
         "Accessories",
         "9",
         "896",
         "1722"
        ],
        [
         "1051",
         "Headphones",
         "Accessories",
         "2",
         "1207",
         "3136"
        ],
        [
         "1052",
         "Headphones",
         "Accessories",
         "4",
         "628",
         "3143"
        ],
        [
         "1053",
         "Smartphone",
         "Electronics",
         "4",
         "1549",
         "2042"
        ],
        [
         "1054",
         "Smartwatch",
         "Accessories",
         "7",
         "1002",
         "626"
        ],
        [
         "1055",
         "Smartwatch",
         "Electronics",
         "6",
         "525",
         "498"
        ],
        [
         "1056",
         "Laptop",
         "Electronics",
         "5",
         "1376",
         "2886"
        ],
        [
         "1057",
         "Tablet",
         "Accessories",
         "3",
         "1106",
         "3643"
        ],
        [
         "1058",
         "Tablet",
         "Accessories",
         "4",
         "951",
         "3291"
        ],
        [
         "1059",
         "Smartwatch",
         "Accessories",
         "4",
         "1429",
         "2201"
        ],
        [
         "1060",
         "Smartwatch",
         "Electronics",
         "5",
         "1705",
         "3538"
        ],
        [
         "1061",
         "Smartwatch",
         "Accessories",
         "7",
         "1870",
         "2708"
        ],
        [
         "1062",
         "Headphones",
         "Electronics",
         "1",
         "484",
         "3135"
        ],
        [
         "1063",
         "Tablet",
         "Electronics",
         "2",
         "315",
         "4990"
        ],
        [
         "1064",
         "Laptop",
         "Accessories",
         "2",
         "1267",
         "2862"
        ],
        [
         "1065",
         "Tablet",
         "Electronics",
         "8",
         "1048",
         "4994"
        ],
        [
         "1066",
         "Laptop",
         "Accessories",
         "4",
         "1159",
         "3913"
        ],
        [
         "1067",
         "Smartphone",
         "Accessories",
         "6",
         "1160",
         "2055"
        ],
        [
         "1068",
         "Smartwatch",
         "Accessories",
         "3",
         "638",
         "3877"
        ],
        [
         "1069",
         "Smartphone",
         "Accessories",
         "9",
         "1479",
         "4904"
        ],
        [
         "1070",
         "Tablet",
         "Electronics",
         "2",
         "332",
         "1114"
        ],
        [
         "1071",
         "Tablet",
         "Accessories",
         "7",
         "944",
         "4176"
        ],
        [
         "1072",
         "Smartwatch",
         "Electronics",
         "9",
         "63",
         "4757"
        ],
        [
         "1073",
         "Laptop",
         "Accessories",
         "2",
         "507",
         "1003"
        ],
        [
         "1074",
         "Smartwatch",
         "Accessories",
         "8",
         "692",
         "3071"
        ],
        [
         "1075",
         "Laptop",
         "Accessories",
         "6",
         "546",
         "834"
        ],
        [
         "1076",
         "Tablet",
         "Accessories",
         "5",
         "1283",
         "4124"
        ],
        [
         "1077",
         "Headphones",
         "Electronics",
         "8",
         "346",
         "2551"
        ],
        [
         "1078",
         "Smartwatch",
         "Accessories",
         "9",
         "1177",
         "2232"
        ],
        [
         "1079",
         "Tablet",
         "Electronics",
         "1",
         "693",
         "3992"
        ],
        [
         "1080",
         "Tablet",
         "Electronics",
         "4",
         "329",
         "4188"
        ],
        [
         "1081",
         "Tablet",
         "Accessories",
         "8",
         "590",
         "292"
        ],
        [
         "1082",
         "Headphones",
         "Accessories",
         "7",
         "1591",
         "571"
        ],
        [
         "1083",
         "Headphones",
         "Accessories",
         "7",
         "1516",
         "3100"
        ],
        [
         "1084",
         "Headphones",
         "Electronics",
         "2",
         "530",
         "377"
        ],
        [
         "1085",
         "Tablet",
         "Electronics",
         "7",
         "148",
         "4432"
        ],
        [
         "1086",
         "Smartphone",
         "Electronics",
         "3",
         "1241",
         "316"
        ],
        [
         "1087",
         "Smartwatch",
         "Electronics",
         "1",
         "1422",
         "2026"
        ],
        [
         "1088",
         "Smartphone",
         "Accessories",
         "5",
         "73",
         "1783"
        ],
        [
         "1089",
         "Headphones",
         "Electronics",
         "7",
         "1056",
         "4584"
        ],
        [
         "1090",
         "Headphones",
         "Accessories",
         "8",
         "1792",
         "4905"
        ],
        [
         "1091",
         "Smartphone",
         "Electronics",
         "6",
         "1130",
         "130"
        ],
        [
         "1092",
         "Tablet",
         "Electronics",
         "6",
         "509",
         "96"
        ],
        [
         "1093",
         "Smartphone",
         "Accessories",
         "9",
         "1326",
         "3452"
        ],
        [
         "1094",
         "Smartphone",
         "Accessories",
         "5",
         "217",
         "909"
        ],
        [
         "1095",
         "Laptop",
         "Accessories",
         "7",
         "926",
         "1200"
        ],
        [
         "1096",
         "Smartwatch",
         "Electronics",
         "5",
         "1602",
         "3238"
        ],
        [
         "1097",
         "Tablet",
         "Accessories",
         "2",
         "230",
         "508"
        ],
        [
         "1098",
         "Laptop",
         "Accessories",
         "9",
         "1067",
         "3835"
        ],
        [
         "1099",
         "Smartphone",
         "Accessories",
         "6",
         "1506",
         "3728"
        ],
        [
         "1100",
         "Laptop",
         "Accessories",
         "7",
         "973",
         "914"
        ],
        [
         "1003",
         "Smartwatch",
         "Electronics",
         "200.0",
         "1252",
         "3088"
        ]
       ],
       "datasetInfos": [],
       "dbfsResultPath": null,
       "isJsonSchema": true,
       "metadata": {},
       "overflow": false,
       "plotOptions": {
        "customPlotOptions": {},
        "displayType": "table",
        "pivotAggregation": null,
        "pivotColumns": null,
        "xColumns": null,
        "yColumns": null
       },
       "removedWidgets": [],
       "schema": [
        {
         "metadata": "{}",
         "name": "order_id",
         "type": "\"string\""
        },
        {
         "metadata": "{}",
         "name": "product",
         "type": "\"string\""
        },
        {
         "metadata": "{}",
         "name": "category",
         "type": "\"string\""
        },
        {
         "metadata": "{}",
         "name": "quantity",
         "type": "\"string\""
        },
        {
         "metadata": "{}",
         "name": "price",
         "type": "\"string\""
        },
        {
         "metadata": "{}",
         "name": "sales",
         "type": "\"string\""
        }
       ],
       "type": "table"
      }
     },
     "output_type": "display_data"
    },
    {
     "output_type": "display_data",
     "data": {
      "text/html": [
       "<style scoped>\n",
       "  .table-result-container {\n",
       "    max-height: 300px;\n",
       "    overflow: auto;\n",
       "  }\n",
       "  table, th, td {\n",
       "    border: 1px solid black;\n",
       "    border-collapse: collapse;\n",
       "  }\n",
       "  th, td {\n",
       "    padding: 5px;\n",
       "  }\n",
       "  th {\n",
       "    text-align: left;\n",
       "  }\n",
       "</style><div class='table-result-container'><table class='table-result'><thead style='background-color: white'><tr><th>order_id</th><th>product</th><th>category</th><th>quantity</th><th>price</th><th>sales</th></tr></thead><tbody><tr><td>1001</td><td>Tablet</td><td>Electronics</td><td>2</td><td>456</td><td>3936</td></tr><tr><td>1002</td><td>Smartphone</td><td>Accessories</td><td>6</td><td>1109</td><td>4266</td></tr><tr><td>1003</td><td>Smartwatch</td><td>Electronics</td><td>8</td><td>1252</td><td>3088</td></tr><tr><td>1004</td><td>Smartwatch</td><td>Electronics</td><td>9</td><td>346</td><td>517</td></tr><tr><td>1005</td><td>Headphones</td><td>Accessories</td><td>2</td><td>898</td><td>1972</td></tr><tr><td>1006</td><td>Laptop</td><td>Electronics</td><td>6</td><td>1014</td><td>4751</td></tr><tr><td>1007</td><td>Smartwatch</td><td>Electronics</td><td>4</td><td>1687</td><td>2200</td></tr><tr><td>1008</td><td>Smartwatch</td><td>Accessories</td><td>7</td><td>1475</td><td>2348</td></tr><tr><td>1009</td><td>Laptop</td><td>Accessories</td><td>1</td><td>1895</td><td>95</td></tr><tr><td>1010</td><td>Laptop</td><td>Accessories</td><td>1</td><td>383</td><td>2531</td></tr><tr><td>1011</td><td>Tablet</td><td>Accessories</td><td>1</td><td>1186</td><td>542</td></tr><tr><td>1012</td><td>Smartphone</td><td>Electronics</td><td>5</td><td>788</td><td>4134</td></tr><tr><td>1013</td><td>Laptop</td><td>Accessories</td><td>8</td><td>927</td><td>4533</td></tr><tr><td>1014</td><td>Tablet</td><td>Accessories</td><td>2</td><td>137</td><td>4162</td></tr><tr><td>1015</td><td>Tablet</td><td>Electronics</td><td>7</td><td>628</td><td>4769</td></tr><tr><td>1016</td><td>Tablet</td><td>Electronics</td><td>2</td><td>775</td><td>2214</td></tr><tr><td>1017</td><td>Headphones</td><td>Electronics</td><td>8</td><td>1530</td><td>555</td></tr><tr><td>1018</td><td>Headphones</td><td>Accessories</td><td>7</td><td>323</td><td>1127</td></tr><tr><td>1019</td><td>Tablet</td><td>Accessories</td><td>2</td><td>291</td><td>787</td></tr><tr><td>1020</td><td>Smartphone</td><td>Electronics</td><td>2</td><td>1535</td><td>1310</td></tr><tr><td>1021</td><td>Headphones</td><td>Accessories</td><td>1</td><td>612</td><td>1535</td></tr><tr><td>1022</td><td>Laptop</td><td>Accessories</td><td>5</td><td>1402</td><td>1974</td></tr><tr><td>1023</td><td>Smartphone</td><td>Electronics</td><td>6</td><td>935</td><td>3687</td></tr><tr><td>1024</td><td>Laptop</td><td>Accessories</td><td>2</td><td>376</td><td>952</td></tr><tr><td>1025</td><td>Smartphone</td><td>Electronics</td><td>7</td><td>1778</td><td>3334</td></tr><tr><td>1026</td><td>Headphones</td><td>Electronics</td><td>8</td><td>1595</td><td>823</td></tr><tr><td>1027</td><td>Smartwatch</td><td>Accessories</td><td>6</td><td>1807</td><td>3465</td></tr><tr><td>1028</td><td>Smartwatch</td><td>Electronics</td><td>8</td><td>731</td><td>1761</td></tr><tr><td>1029</td><td>Laptop</td><td>Accessories</td><td>5</td><td>1705</td><td>2343</td></tr><tr><td>1030</td><td>Smartphone</td><td>Accessories</td><td>4</td><td>866</td><td>1623</td></tr><tr><td>1031</td><td>Headphones</td><td>Accessories</td><td>3</td><td>84</td><td>651</td></tr><tr><td>1032</td><td>Tablet</td><td>Electronics</td><td>1</td><td>175</td><td>4348</td></tr><tr><td>1033</td><td>Smartwatch</td><td>Electronics</td><td>2</td><td>583</td><td>2704</td></tr><tr><td>1034</td><td>Laptop</td><td>Accessories</td><td>8</td><td>1585</td><td>917</td></tr><tr><td>1035</td><td>Tablet</td><td>Accessories</td><td>9</td><td>150</td><td>1329</td></tr><tr><td>1036</td><td>Headphones</td><td>Electronics</td><td>3</td><td>735</td><td>4755</td></tr><tr><td>1037</td><td>Smartwatch</td><td>Electronics</td><td>6</td><td>331</td><td>1308</td></tr><tr><td>1038</td><td>Tablet</td><td>Accessories</td><td>4</td><td>280</td><td>1235</td></tr><tr><td>1039</td><td>Tablet</td><td>Accessories</td><td>4</td><td>1794</td><td>1084</td></tr><tr><td>1040</td><td>Smartphone</td><td>Accessories</td><td>3</td><td>859</td><td>659</td></tr><tr><td>1041</td><td>Tablet</td><td>Accessories</td><td>4</td><td>260</td><td>1380</td></tr><tr><td>1042</td><td>Smartphone</td><td>Electronics</td><td>7</td><td>1788</td><td>2740</td></tr><tr><td>1043</td><td>Tablet</td><td>Accessories</td><td>5</td><td>1804</td><td>2511</td></tr><tr><td>1044</td><td>Headphones</td><td>Electronics</td><td>4</td><td>1416</td><td>2782</td></tr><tr><td>1045</td><td>Smartphone</td><td>Electronics</td><td>7</td><td>1782</td><td>2255</td></tr><tr><td>1046</td><td>Laptop</td><td>Electronics</td><td>1</td><td>411</td><td>714</td></tr><tr><td>1047</td><td>Headphones</td><td>Electronics</td><td>2</td><td>273</td><td>3410</td></tr><tr><td>1048</td><td>Laptop</td><td>Electronics</td><td>8</td><td>440</td><td>1495</td></tr><tr><td>1049</td><td>Tablet</td><td>Accessories</td><td>8</td><td>1739</td><td>687</td></tr><tr><td>1050</td><td>Headphones</td><td>Accessories</td><td>9</td><td>896</td><td>1722</td></tr><tr><td>1051</td><td>Headphones</td><td>Accessories</td><td>2</td><td>1207</td><td>3136</td></tr><tr><td>1052</td><td>Headphones</td><td>Accessories</td><td>4</td><td>628</td><td>3143</td></tr><tr><td>1053</td><td>Smartphone</td><td>Electronics</td><td>4</td><td>1549</td><td>2042</td></tr><tr><td>1054</td><td>Smartwatch</td><td>Accessories</td><td>7</td><td>1002</td><td>626</td></tr><tr><td>1055</td><td>Smartwatch</td><td>Electronics</td><td>6</td><td>525</td><td>498</td></tr><tr><td>1056</td><td>Laptop</td><td>Electronics</td><td>5</td><td>1376</td><td>2886</td></tr><tr><td>1057</td><td>Tablet</td><td>Accessories</td><td>3</td><td>1106</td><td>3643</td></tr><tr><td>1058</td><td>Tablet</td><td>Accessories</td><td>4</td><td>951</td><td>3291</td></tr><tr><td>1059</td><td>Smartwatch</td><td>Accessories</td><td>4</td><td>1429</td><td>2201</td></tr><tr><td>1060</td><td>Smartwatch</td><td>Electronics</td><td>5</td><td>1705</td><td>3538</td></tr><tr><td>1061</td><td>Smartwatch</td><td>Accessories</td><td>7</td><td>1870</td><td>2708</td></tr><tr><td>1062</td><td>Headphones</td><td>Electronics</td><td>1</td><td>484</td><td>3135</td></tr><tr><td>1063</td><td>Tablet</td><td>Electronics</td><td>2</td><td>315</td><td>4990</td></tr><tr><td>1064</td><td>Laptop</td><td>Accessories</td><td>2</td><td>1267</td><td>2862</td></tr><tr><td>1065</td><td>Tablet</td><td>Electronics</td><td>8</td><td>1048</td><td>4994</td></tr><tr><td>1066</td><td>Laptop</td><td>Accessories</td><td>4</td><td>1159</td><td>3913</td></tr><tr><td>1067</td><td>Smartphone</td><td>Accessories</td><td>6</td><td>1160</td><td>2055</td></tr><tr><td>1068</td><td>Smartwatch</td><td>Accessories</td><td>3</td><td>638</td><td>3877</td></tr><tr><td>1069</td><td>Smartphone</td><td>Accessories</td><td>9</td><td>1479</td><td>4904</td></tr><tr><td>1070</td><td>Tablet</td><td>Electronics</td><td>2</td><td>332</td><td>1114</td></tr><tr><td>1071</td><td>Tablet</td><td>Accessories</td><td>7</td><td>944</td><td>4176</td></tr><tr><td>1072</td><td>Smartwatch</td><td>Electronics</td><td>9</td><td>63</td><td>4757</td></tr><tr><td>1073</td><td>Laptop</td><td>Accessories</td><td>2</td><td>507</td><td>1003</td></tr><tr><td>1074</td><td>Smartwatch</td><td>Accessories</td><td>8</td><td>692</td><td>3071</td></tr><tr><td>1075</td><td>Laptop</td><td>Accessories</td><td>6</td><td>546</td><td>834</td></tr><tr><td>1076</td><td>Tablet</td><td>Accessories</td><td>5</td><td>1283</td><td>4124</td></tr><tr><td>1077</td><td>Headphones</td><td>Electronics</td><td>8</td><td>346</td><td>2551</td></tr><tr><td>1078</td><td>Smartwatch</td><td>Accessories</td><td>9</td><td>1177</td><td>2232</td></tr><tr><td>1079</td><td>Tablet</td><td>Electronics</td><td>1</td><td>693</td><td>3992</td></tr><tr><td>1080</td><td>Tablet</td><td>Electronics</td><td>4</td><td>329</td><td>4188</td></tr><tr><td>1081</td><td>Tablet</td><td>Accessories</td><td>8</td><td>590</td><td>292</td></tr><tr><td>1082</td><td>Headphones</td><td>Accessories</td><td>7</td><td>1591</td><td>571</td></tr><tr><td>1083</td><td>Headphones</td><td>Accessories</td><td>7</td><td>1516</td><td>3100</td></tr><tr><td>1084</td><td>Headphones</td><td>Electronics</td><td>2</td><td>530</td><td>377</td></tr><tr><td>1085</td><td>Tablet</td><td>Electronics</td><td>7</td><td>148</td><td>4432</td></tr><tr><td>1086</td><td>Smartphone</td><td>Electronics</td><td>3</td><td>1241</td><td>316</td></tr><tr><td>1087</td><td>Smartwatch</td><td>Electronics</td><td>1</td><td>1422</td><td>2026</td></tr><tr><td>1088</td><td>Smartphone</td><td>Accessories</td><td>5</td><td>73</td><td>1783</td></tr><tr><td>1089</td><td>Headphones</td><td>Electronics</td><td>7</td><td>1056</td><td>4584</td></tr><tr><td>1090</td><td>Headphones</td><td>Accessories</td><td>8</td><td>1792</td><td>4905</td></tr><tr><td>1091</td><td>Smartphone</td><td>Electronics</td><td>6</td><td>1130</td><td>130</td></tr><tr><td>1092</td><td>Tablet</td><td>Electronics</td><td>6</td><td>509</td><td>96</td></tr><tr><td>1093</td><td>Smartphone</td><td>Accessories</td><td>9</td><td>1326</td><td>3452</td></tr><tr><td>1094</td><td>Smartphone</td><td>Accessories</td><td>5</td><td>217</td><td>909</td></tr><tr><td>1095</td><td>Laptop</td><td>Accessories</td><td>7</td><td>926</td><td>1200</td></tr><tr><td>1096</td><td>Smartwatch</td><td>Electronics</td><td>5</td><td>1602</td><td>3238</td></tr><tr><td>1097</td><td>Tablet</td><td>Accessories</td><td>2</td><td>230</td><td>508</td></tr><tr><td>1098</td><td>Laptop</td><td>Accessories</td><td>9</td><td>1067</td><td>3835</td></tr><tr><td>1099</td><td>Smartphone</td><td>Accessories</td><td>6</td><td>1506</td><td>3728</td></tr><tr><td>1100</td><td>Laptop</td><td>Accessories</td><td>7</td><td>973</td><td>914</td></tr></tbody></table></div>"
      ]
     },
     "metadata": {
      "application/vnd.databricks.v1+output": {
       "addedWidgets": {},
       "aggData": [],
       "aggError": "",
       "aggOverflow": false,
       "aggSchema": [],
       "aggSeriesLimitReached": false,
       "aggType": "",
       "arguments": {},
       "columnCustomDisplayInfos": {},
       "data": [
        [
         "1001",
         "Tablet",
         "Electronics",
         "2",
         "456",
         "3936"
        ],
        [
         "1002",
         "Smartphone",
         "Accessories",
         "6",
         "1109",
         "4266"
        ],
        [
         "1003",
         "Smartwatch",
         "Electronics",
         "8",
         "1252",
         "3088"
        ],
        [
         "1004",
         "Smartwatch",
         "Electronics",
         "9",
         "346",
         "517"
        ],
        [
         "1005",
         "Headphones",
         "Accessories",
         "2",
         "898",
         "1972"
        ],
        [
         "1006",
         "Laptop",
         "Electronics",
         "6",
         "1014",
         "4751"
        ],
        [
         "1007",
         "Smartwatch",
         "Electronics",
         "4",
         "1687",
         "2200"
        ],
        [
         "1008",
         "Smartwatch",
         "Accessories",
         "7",
         "1475",
         "2348"
        ],
        [
         "1009",
         "Laptop",
         "Accessories",
         "1",
         "1895",
         "95"
        ],
        [
         "1010",
         "Laptop",
         "Accessories",
         "1",
         "383",
         "2531"
        ],
        [
         "1011",
         "Tablet",
         "Accessories",
         "1",
         "1186",
         "542"
        ],
        [
         "1012",
         "Smartphone",
         "Electronics",
         "5",
         "788",
         "4134"
        ],
        [
         "1013",
         "Laptop",
         "Accessories",
         "8",
         "927",
         "4533"
        ],
        [
         "1014",
         "Tablet",
         "Accessories",
         "2",
         "137",
         "4162"
        ],
        [
         "1015",
         "Tablet",
         "Electronics",
         "7",
         "628",
         "4769"
        ],
        [
         "1016",
         "Tablet",
         "Electronics",
         "2",
         "775",
         "2214"
        ],
        [
         "1017",
         "Headphones",
         "Electronics",
         "8",
         "1530",
         "555"
        ],
        [
         "1018",
         "Headphones",
         "Accessories",
         "7",
         "323",
         "1127"
        ],
        [
         "1019",
         "Tablet",
         "Accessories",
         "2",
         "291",
         "787"
        ],
        [
         "1020",
         "Smartphone",
         "Electronics",
         "2",
         "1535",
         "1310"
        ],
        [
         "1021",
         "Headphones",
         "Accessories",
         "1",
         "612",
         "1535"
        ],
        [
         "1022",
         "Laptop",
         "Accessories",
         "5",
         "1402",
         "1974"
        ],
        [
         "1023",
         "Smartphone",
         "Electronics",
         "6",
         "935",
         "3687"
        ],
        [
         "1024",
         "Laptop",
         "Accessories",
         "2",
         "376",
         "952"
        ],
        [
         "1025",
         "Smartphone",
         "Electronics",
         "7",
         "1778",
         "3334"
        ],
        [
         "1026",
         "Headphones",
         "Electronics",
         "8",
         "1595",
         "823"
        ],
        [
         "1027",
         "Smartwatch",
         "Accessories",
         "6",
         "1807",
         "3465"
        ],
        [
         "1028",
         "Smartwatch",
         "Electronics",
         "8",
         "731",
         "1761"
        ],
        [
         "1029",
         "Laptop",
         "Accessories",
         "5",
         "1705",
         "2343"
        ],
        [
         "1030",
         "Smartphone",
         "Accessories",
         "4",
         "866",
         "1623"
        ],
        [
         "1031",
         "Headphones",
         "Accessories",
         "3",
         "84",
         "651"
        ],
        [
         "1032",
         "Tablet",
         "Electronics",
         "1",
         "175",
         "4348"
        ],
        [
         "1033",
         "Smartwatch",
         "Electronics",
         "2",
         "583",
         "2704"
        ],
        [
         "1034",
         "Laptop",
         "Accessories",
         "8",
         "1585",
         "917"
        ],
        [
         "1035",
         "Tablet",
         "Accessories",
         "9",
         "150",
         "1329"
        ],
        [
         "1036",
         "Headphones",
         "Electronics",
         "3",
         "735",
         "4755"
        ],
        [
         "1037",
         "Smartwatch",
         "Electronics",
         "6",
         "331",
         "1308"
        ],
        [
         "1038",
         "Tablet",
         "Accessories",
         "4",
         "280",
         "1235"
        ],
        [
         "1039",
         "Tablet",
         "Accessories",
         "4",
         "1794",
         "1084"
        ],
        [
         "1040",
         "Smartphone",
         "Accessories",
         "3",
         "859",
         "659"
        ],
        [
         "1041",
         "Tablet",
         "Accessories",
         "4",
         "260",
         "1380"
        ],
        [
         "1042",
         "Smartphone",
         "Electronics",
         "7",
         "1788",
         "2740"
        ],
        [
         "1043",
         "Tablet",
         "Accessories",
         "5",
         "1804",
         "2511"
        ],
        [
         "1044",
         "Headphones",
         "Electronics",
         "4",
         "1416",
         "2782"
        ],
        [
         "1045",
         "Smartphone",
         "Electronics",
         "7",
         "1782",
         "2255"
        ],
        [
         "1046",
         "Laptop",
         "Electronics",
         "1",
         "411",
         "714"
        ],
        [
         "1047",
         "Headphones",
         "Electronics",
         "2",
         "273",
         "3410"
        ],
        [
         "1048",
         "Laptop",
         "Electronics",
         "8",
         "440",
         "1495"
        ],
        [
         "1049",
         "Tablet",
         "Accessories",
         "8",
         "1739",
         "687"
        ],
        [
         "1050",
         "Headphones",
         "Accessories",
         "9",
         "896",
         "1722"
        ],
        [
         "1051",
         "Headphones",
         "Accessories",
         "2",
         "1207",
         "3136"
        ],
        [
         "1052",
         "Headphones",
         "Accessories",
         "4",
         "628",
         "3143"
        ],
        [
         "1053",
         "Smartphone",
         "Electronics",
         "4",
         "1549",
         "2042"
        ],
        [
         "1054",
         "Smartwatch",
         "Accessories",
         "7",
         "1002",
         "626"
        ],
        [
         "1055",
         "Smartwatch",
         "Electronics",
         "6",
         "525",
         "498"
        ],
        [
         "1056",
         "Laptop",
         "Electronics",
         "5",
         "1376",
         "2886"
        ],
        [
         "1057",
         "Tablet",
         "Accessories",
         "3",
         "1106",
         "3643"
        ],
        [
         "1058",
         "Tablet",
         "Accessories",
         "4",
         "951",
         "3291"
        ],
        [
         "1059",
         "Smartwatch",
         "Accessories",
         "4",
         "1429",
         "2201"
        ],
        [
         "1060",
         "Smartwatch",
         "Electronics",
         "5",
         "1705",
         "3538"
        ],
        [
         "1061",
         "Smartwatch",
         "Accessories",
         "7",
         "1870",
         "2708"
        ],
        [
         "1062",
         "Headphones",
         "Electronics",
         "1",
         "484",
         "3135"
        ],
        [
         "1063",
         "Tablet",
         "Electronics",
         "2",
         "315",
         "4990"
        ],
        [
         "1064",
         "Laptop",
         "Accessories",
         "2",
         "1267",
         "2862"
        ],
        [
         "1065",
         "Tablet",
         "Electronics",
         "8",
         "1048",
         "4994"
        ],
        [
         "1066",
         "Laptop",
         "Accessories",
         "4",
         "1159",
         "3913"
        ],
        [
         "1067",
         "Smartphone",
         "Accessories",
         "6",
         "1160",
         "2055"
        ],
        [
         "1068",
         "Smartwatch",
         "Accessories",
         "3",
         "638",
         "3877"
        ],
        [
         "1069",
         "Smartphone",
         "Accessories",
         "9",
         "1479",
         "4904"
        ],
        [
         "1070",
         "Tablet",
         "Electronics",
         "2",
         "332",
         "1114"
        ],
        [
         "1071",
         "Tablet",
         "Accessories",
         "7",
         "944",
         "4176"
        ],
        [
         "1072",
         "Smartwatch",
         "Electronics",
         "9",
         "63",
         "4757"
        ],
        [
         "1073",
         "Laptop",
         "Accessories",
         "2",
         "507",
         "1003"
        ],
        [
         "1074",
         "Smartwatch",
         "Accessories",
         "8",
         "692",
         "3071"
        ],
        [
         "1075",
         "Laptop",
         "Accessories",
         "6",
         "546",
         "834"
        ],
        [
         "1076",
         "Tablet",
         "Accessories",
         "5",
         "1283",
         "4124"
        ],
        [
         "1077",
         "Headphones",
         "Electronics",
         "8",
         "346",
         "2551"
        ],
        [
         "1078",
         "Smartwatch",
         "Accessories",
         "9",
         "1177",
         "2232"
        ],
        [
         "1079",
         "Tablet",
         "Electronics",
         "1",
         "693",
         "3992"
        ],
        [
         "1080",
         "Tablet",
         "Electronics",
         "4",
         "329",
         "4188"
        ],
        [
         "1081",
         "Tablet",
         "Accessories",
         "8",
         "590",
         "292"
        ],
        [
         "1082",
         "Headphones",
         "Accessories",
         "7",
         "1591",
         "571"
        ],
        [
         "1083",
         "Headphones",
         "Accessories",
         "7",
         "1516",
         "3100"
        ],
        [
         "1084",
         "Headphones",
         "Electronics",
         "2",
         "530",
         "377"
        ],
        [
         "1085",
         "Tablet",
         "Electronics",
         "7",
         "148",
         "4432"
        ],
        [
         "1086",
         "Smartphone",
         "Electronics",
         "3",
         "1241",
         "316"
        ],
        [
         "1087",
         "Smartwatch",
         "Electronics",
         "1",
         "1422",
         "2026"
        ],
        [
         "1088",
         "Smartphone",
         "Accessories",
         "5",
         "73",
         "1783"
        ],
        [
         "1089",
         "Headphones",
         "Electronics",
         "7",
         "1056",
         "4584"
        ],
        [
         "1090",
         "Headphones",
         "Accessories",
         "8",
         "1792",
         "4905"
        ],
        [
         "1091",
         "Smartphone",
         "Electronics",
         "6",
         "1130",
         "130"
        ],
        [
         "1092",
         "Tablet",
         "Electronics",
         "6",
         "509",
         "96"
        ],
        [
         "1093",
         "Smartphone",
         "Accessories",
         "9",
         "1326",
         "3452"
        ],
        [
         "1094",
         "Smartphone",
         "Accessories",
         "5",
         "217",
         "909"
        ],
        [
         "1095",
         "Laptop",
         "Accessories",
         "7",
         "926",
         "1200"
        ],
        [
         "1096",
         "Smartwatch",
         "Electronics",
         "5",
         "1602",
         "3238"
        ],
        [
         "1097",
         "Tablet",
         "Accessories",
         "2",
         "230",
         "508"
        ],
        [
         "1098",
         "Laptop",
         "Accessories",
         "9",
         "1067",
         "3835"
        ],
        [
         "1099",
         "Smartphone",
         "Accessories",
         "6",
         "1506",
         "3728"
        ],
        [
         "1100",
         "Laptop",
         "Accessories",
         "7",
         "973",
         "914"
        ]
       ],
       "datasetInfos": [],
       "dbfsResultPath": null,
       "isJsonSchema": true,
       "metadata": {},
       "overflow": false,
       "plotOptions": {
        "customPlotOptions": {},
        "displayType": "table",
        "pivotAggregation": null,
        "pivotColumns": null,
        "xColumns": null,
        "yColumns": null
       },
       "removedWidgets": [],
       "schema": [
        {
         "metadata": "{}",
         "name": "order_id",
         "type": "\"string\""
        },
        {
         "metadata": "{}",
         "name": "product",
         "type": "\"string\""
        },
        {
         "metadata": "{}",
         "name": "category",
         "type": "\"string\""
        },
        {
         "metadata": "{}",
         "name": "quantity",
         "type": "\"string\""
        },
        {
         "metadata": "{}",
         "name": "price",
         "type": "\"string\""
        },
        {
         "metadata": "{}",
         "name": "sales",
         "type": "\"string\""
        }
       ],
       "type": "table"
      }
     },
     "output_type": "display_data"
    },
    {
     "output_type": "execute_result",
     "data": {
      "text/plain": [
       "DataFrame[path: string]"
      ]
     },
     "execution_count": 14,
     "metadata": {},
     "output_type": "execute_result"
    }
   ],
   "source": [
    "df.write.format(\"delta\").mode(\"overwrite\").save(\"/delta/new_data\")\n",
    "\n",
    "# Updating the Delta Table\n",
    "spark.sql(\"UPDATE delta.`/delta/new_data` SET quantity = quantity * 25 WHERE order_id = 1003\")\n",
    "updated_df = spark.read.format(\"delta\").load(\"/delta/new_data\")\n",
    "display(updated_df)\n",
    "\n",
    "# Reading the previous version of the Delta Table\n",
    "previous_version = spark.read.format(\"delta\").option(\"versionAsOf\", 0).load(\"/delta/new_data\")\n",
    "display(previous_version)\n",
    "\n",
    "# Optimize the Delta table\n",
    "spark.sql(\"\"\"\n",
    "    OPTIMIZE delta.`/delta/new_data` ZORDER BY order_id\n",
    "\"\"\")\n",
    "\n",
    "# Vacuum the Delta table\n",
    "spark.sql(\"\"\"\n",
    "    VACUUM delta.`/delta/new_data` RETAIN 168 HOURS\n",
    "\"\"\")"
   ]
  },
  {
   "cell_type": "markdown",
   "metadata": {
    "application/vnd.databricks.v1+cell": {
     "cellMetadata": {},
     "inputWidgets": {},
     "nuid": "c97b1ebb-836f-4e75-90ba-be203c3e51bf",
     "showTitle": false,
     "title": ""
    }
   },
   "source": [
    "9. Managed and Unmanaged Tables"
   ]
  },
  {
   "cell_type": "code",
   "execution_count": 0,
   "metadata": {
    "application/vnd.databricks.v1+cell": {
     "cellMetadata": {
      "byteLimit": 2048000,
      "rowLimit": 10000
     },
     "inputWidgets": {},
     "nuid": "c2aaa2c0-df23-4377-b0e4-c2085ded8fa8",
     "showTitle": false,
     "title": ""
    }
   },
   "outputs": [
    {
     "output_type": "stream",
     "name": "stdout",
     "output_type": "stream",
     "text": [
      "+--------+----------+-----------+--------+-----+-----+\n|order_id|   product|   category|quantity|price|sales|\n+--------+----------+-----------+--------+-----+-----+\n|    1001|    Tablet|Electronics|       2|  456| 3936|\n|    1002|Smartphone|Accessories|       6| 1109| 4266|\n|    1003|Smartwatch|Electronics|       8| 1252| 3088|\n|    1004|Smartwatch|Electronics|       9|  346|  517|\n|    1005|Headphones|Accessories|       2|  898| 1972|\n|    1006|    Laptop|Electronics|       6| 1014| 4751|\n|    1007|Smartwatch|Electronics|       4| 1687| 2200|\n|    1008|Smartwatch|Accessories|       7| 1475| 2348|\n|    1009|    Laptop|Accessories|       1| 1895|   95|\n|    1010|    Laptop|Accessories|       1|  383| 2531|\n|    1011|    Tablet|Accessories|       1| 1186|  542|\n|    1012|Smartphone|Electronics|       5|  788| 4134|\n|    1013|    Laptop|Accessories|       8|  927| 4533|\n|    1014|    Tablet|Accessories|       2|  137| 4162|\n|    1015|    Tablet|Electronics|       7|  628| 4769|\n|    1016|    Tablet|Electronics|       2|  775| 2214|\n|    1017|Headphones|Electronics|       8| 1530|  555|\n|    1018|Headphones|Accessories|       7|  323| 1127|\n|    1019|    Tablet|Accessories|       2|  291|  787|\n|    1020|Smartphone|Electronics|       2| 1535| 1310|\n+--------+----------+-----------+--------+-----+-----+\nonly showing top 20 rows\n\n+--------+----------+-----------+--------+-----+-----+\n|order_id|   product|   category|quantity|price|sales|\n+--------+----------+-----------+--------+-----+-----+\n|    1001|    Tablet|Electronics|       2|  456| 3936|\n|    1002|Smartphone|Accessories|       6| 1109| 4266|\n|    1003|Smartwatch|Electronics|       8| 1252| 3088|\n|    1004|Smartwatch|Electronics|       9|  346|  517|\n|    1005|Headphones|Accessories|       2|  898| 1972|\n|    1006|    Laptop|Electronics|       6| 1014| 4751|\n|    1007|Smartwatch|Electronics|       4| 1687| 2200|\n|    1008|Smartwatch|Accessories|       7| 1475| 2348|\n|    1009|    Laptop|Accessories|       1| 1895|   95|\n|    1010|    Laptop|Accessories|       1|  383| 2531|\n|    1011|    Tablet|Accessories|       1| 1186|  542|\n|    1012|Smartphone|Electronics|       5|  788| 4134|\n|    1013|    Laptop|Accessories|       8|  927| 4533|\n|    1014|    Tablet|Accessories|       2|  137| 4162|\n|    1015|    Tablet|Electronics|       7|  628| 4769|\n|    1016|    Tablet|Electronics|       2|  775| 2214|\n|    1017|Headphones|Electronics|       8| 1530|  555|\n|    1018|Headphones|Accessories|       7|  323| 1127|\n|    1019|    Tablet|Accessories|       2|  291|  787|\n|    1020|Smartphone|Electronics|       2| 1535| 1310|\n+--------+----------+-----------+--------+-----+-----+\nonly showing top 20 rows\n\n"
     ]
    }
   ],
   "source": [
    "# Creating a managed table\n",
    "df.write.saveAsTable(\"managed_sales_data\")\n",
    "\n",
    "# Creating an unmanaged table with external location\n",
    "df.write.option(\"path\", \"/mnt/data/external_sales_data\").saveAsTable(\"unmanaged_sales_data\")\n",
    "\n",
    "# Query both tables\n",
    "spark.sql(\"SELECT * FROM managed_sales_data\").show()\n",
    "spark.sql(\"SELECT * FROM unmanaged_sales_data\").show()\n"
   ]
  },
  {
   "cell_type": "markdown",
   "metadata": {
    "application/vnd.databricks.v1+cell": {
     "cellMetadata": {},
     "inputWidgets": {},
     "nuid": "c0b2e1df-d267-4acb-bda5-c2d6acf0484a",
     "showTitle": false,
     "title": ""
    }
   },
   "source": [
    "10. Views and Temporary Views"
   ]
  },
  {
   "cell_type": "code",
   "execution_count": 0,
   "metadata": {
    "application/vnd.databricks.v1+cell": {
     "cellMetadata": {
      "byteLimit": 2048000,
      "rowLimit": 10000
     },
     "inputWidgets": {},
     "nuid": "50ca8792-5935-4bcb-8969-c1f57d43180d",
     "showTitle": false,
     "title": ""
    }
   },
   "outputs": [
    {
     "output_type": "stream",
     "name": "stdout",
     "output_type": "stream",
     "text": [
      "+--------+----------+-----------+--------+-----+-----+\n|order_id|   product|   category|quantity|price|sales|\n+--------+----------+-----------+--------+-----+-----+\n|    1001|    Tablet|Electronics|       2|  456| 3936|\n|    1002|Smartphone|Accessories|       6| 1109| 4266|\n|    1003|Smartwatch|Electronics|       8| 1252| 3088|\n|    1004|Smartwatch|Electronics|       9|  346|  517|\n|    1005|Headphones|Accessories|       2|  898| 1972|\n|    1006|    Laptop|Electronics|       6| 1014| 4751|\n|    1007|Smartwatch|Electronics|       4| 1687| 2200|\n|    1008|Smartwatch|Accessories|       7| 1475| 2348|\n|    1010|    Laptop|Accessories|       1|  383| 2531|\n|    1011|    Tablet|Accessories|       1| 1186|  542|\n|    1012|Smartphone|Electronics|       5|  788| 4134|\n|    1013|    Laptop|Accessories|       8|  927| 4533|\n|    1014|    Tablet|Accessories|       2|  137| 4162|\n|    1015|    Tablet|Electronics|       7|  628| 4769|\n|    1016|    Tablet|Electronics|       2|  775| 2214|\n|    1017|Headphones|Electronics|       8| 1530|  555|\n|    1018|Headphones|Accessories|       7|  323| 1127|\n|    1019|    Tablet|Accessories|       2|  291|  787|\n|    1020|Smartphone|Electronics|       2| 1535| 1310|\n|    1021|Headphones|Accessories|       1|  612| 1535|\n+--------+----------+-----------+--------+-----+-----+\nonly showing top 20 rows\n\n+--------+----------+-----------+--------+-----+-----+\n|order_id|   product|   category|quantity|price|sales|\n+--------+----------+-----------+--------+-----+-----+\n|    1001|    Tablet|Electronics|       2|  456| 3936|\n|    1002|Smartphone|Accessories|       6| 1109| 4266|\n|    1003|Smartwatch|Electronics|       8| 1252| 3088|\n|    1004|Smartwatch|Electronics|       9|  346|  517|\n|    1005|Headphones|Accessories|       2|  898| 1972|\n|    1006|    Laptop|Electronics|       6| 1014| 4751|\n|    1007|Smartwatch|Electronics|       4| 1687| 2200|\n|    1008|Smartwatch|Accessories|       7| 1475| 2348|\n|    1010|    Laptop|Accessories|       1|  383| 2531|\n|    1011|    Tablet|Accessories|       1| 1186|  542|\n|    1012|Smartphone|Electronics|       5|  788| 4134|\n|    1013|    Laptop|Accessories|       8|  927| 4533|\n|    1014|    Tablet|Accessories|       2|  137| 4162|\n|    1015|    Tablet|Electronics|       7|  628| 4769|\n|    1016|    Tablet|Electronics|       2|  775| 2214|\n|    1017|Headphones|Electronics|       8| 1530|  555|\n|    1018|Headphones|Accessories|       7|  323| 1127|\n|    1019|    Tablet|Accessories|       2|  291|  787|\n|    1020|Smartphone|Electronics|       2| 1535| 1310|\n|    1021|Headphones|Accessories|       1|  612| 1535|\n+--------+----------+-----------+--------+-----+-----+\nonly showing top 20 rows\n\n"
     ]
    }
   ],
   "source": [
    "# Create a temporary view\n",
    "df.createOrReplaceTempView(\"temp_sales_view\")\n",
    "\n",
    "# Create a global temporary view\n",
    "df.createGlobalTempView(\"global_temp_sales_view\")\n",
    "\n",
    "# Query the temporary and global views\n",
    "spark.sql(\"SELECT * FROM temp_sales_view WHERE sales > 500\").show()\n",
    "spark.sql(\"SELECT * FROM global_temp.global_temp_sales_view WHERE sales > 500\").show()\n"
   ]
  },
  {
   "cell_type": "markdown",
   "metadata": {
    "application/vnd.databricks.v1+cell": {
     "cellMetadata": {},
     "inputWidgets": {},
     "nuid": "b8e0c5fa-ead2-4180-8dd6-6af625c9834b",
     "showTitle": false,
     "title": ""
    }
   },
   "source": []
  }
 ],
 "metadata": {
  "application/vnd.databricks.v1+notebook": {
   "dashboards": [],
   "environmentMetadata": null,
   "language": "python",
   "notebookMetadata": {
    "pythonIndentUnit": 4
   },
   "notebookName": "Sep 14 - 15",
   "widgets": {}
  }
 },
 "nbformat": 4,
 "nbformat_minor": 0
}
