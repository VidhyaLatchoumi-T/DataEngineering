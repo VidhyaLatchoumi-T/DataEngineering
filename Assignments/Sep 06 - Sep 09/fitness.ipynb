{
  "nbformat": 4,
  "nbformat_minor": 0,
  "metadata": {
    "colab": {
      "provenance": []
    },
    "kernelspec": {
      "name": "python3",
      "display_name": "Python 3"
    },
    "language_info": {
      "name": "python"
    }
  },
  "cells": [
    {
      "cell_type": "code",
      "execution_count": 2,
      "metadata": {
        "colab": {
          "base_uri": "https://localhost:8080/"
        },
        "id": "_Wj27k6SAJhh",
        "outputId": "6786ba45-a427-46bc-9b96-a4542031a710"
      },
      "outputs": [
        {
          "output_type": "stream",
          "name": "stdout",
          "text": [
            "Requirement already satisfied: pyspark in /usr/local/lib/python3.10/dist-packages (3.5.2)\n",
            "Requirement already satisfied: py4j==0.10.9.7 in /usr/local/lib/python3.10/dist-packages (from pyspark) (0.10.9.7)\n"
          ]
        }
      ],
      "source": [
        "! pip install pyspark"
      ]
    },
    {
      "cell_type": "code",
      "source": [
        "from pyspark.sql import SparkSession\n",
        "from pyspark.sql.functions import sum,avg,max\n",
        "# Initialize spark session\n",
        "spark= SparkSession.builder.appName('FitnessTracker').getOrCreate()\n",
        "\n",
        "data = spark.read.csv(\"/content/fitness_data.csv\", header=True, inferSchema=True)\n"
      ],
      "metadata": {
        "id": "3DPYwwkEAx8b"
      },
      "execution_count": 3,
      "outputs": []
    },
    {
      "cell_type": "code",
      "source": [
        "# 1.Calculate total steps for each user\n",
        "total_steps = data.groupBy(\"user_id\").agg(sum(\"steps\").alias(\"total_steps\"))\n",
        "print(\"Total steps of each user\")\n",
        "total_steps.show()"
      ],
      "metadata": {
        "colab": {
          "base_uri": "https://localhost:8080/"
        },
        "id": "3HbHjM4rB8Bs",
        "outputId": "1144b13f-8d72-41a6-ba2c-a8329fc20ffb"
      },
      "execution_count": 4,
      "outputs": [
        {
          "output_type": "stream",
          "name": "stdout",
          "text": [
            "Total steps of each user\n",
            "+-------+-----------+\n",
            "|user_id|total_steps|\n",
            "+-------+-----------+\n",
            "|      1|      33000|\n",
            "|      3|      44000|\n",
            "|      2|      24000|\n",
            "+-------+-----------+\n",
            "\n"
          ]
        }
      ]
    },
    {
      "cell_type": "code",
      "source": [
        "# 2.Filter Days Where a User Burned More Than 500 Calories\n",
        "burned_500_calories = data.filter(data[\"calories\"] > 500)\n",
        "print(\"Days where user burned more than 500 calories\")\n",
        "burned_500_calories.show()"
      ],
      "metadata": {
        "colab": {
          "base_uri": "https://localhost:8080/"
        },
        "id": "8gRuyVbHJyUU",
        "outputId": "eb964cda-47bf-4c6b-e86f-9c6ec988fbf6"
      },
      "execution_count": 5,
      "outputs": [
        {
          "output_type": "stream",
          "name": "stdout",
          "text": [
            "Days where user burned more than 500 calories\n",
            "+-------+----------+-----+--------+-----------+--------------+\n",
            "|user_id|      date|steps|calories|distance_km|active_minutes|\n",
            "+-------+----------+-----+--------+-----------+--------------+\n",
            "|      3|2023-07-01|15000|     600|       10.2|           120|\n",
            "|      3|2023-07-02|13000|     520|        9.0|           100|\n",
            "|      3|2023-07-03|16000|     620|       11.0|           130|\n",
            "+-------+----------+-----+--------+-----------+--------------+\n",
            "\n"
          ]
        }
      ]
    },
    {
      "cell_type": "code",
      "source": [
        "# 3. Calculate the Average Distance Traveled by Each User\n",
        "average_distance = data.groupBy(\"user_id\").agg(avg(\"distance_km\").alias(\"avg_distance\"))\n",
        "print(\"Average distance traveled by each user\")\n",
        "average_distance.show()"
      ],
      "metadata": {
        "colab": {
          "base_uri": "https://localhost:8080/"
        },
        "id": "X5t_jCdVJ00h",
        "outputId": "3baf362e-6492-4f52-baf5-ab187dca0775"
      },
      "execution_count": 6,
      "outputs": [
        {
          "output_type": "stream",
          "name": "stdout",
          "text": [
            "Average distance traveled by each user\n",
            "+-------+------------------+\n",
            "|user_id|      avg_distance|\n",
            "+-------+------------------+\n",
            "|      1| 7.833333333333333|\n",
            "|      3|10.066666666666666|\n",
            "|      2| 5.566666666666667|\n",
            "+-------+------------------+\n",
            "\n"
          ]
        }
      ]
    },
    {
      "cell_type": "code",
      "source": [
        "# 4. Identify the Day with the Maximum Steps for Each User\n",
        "max_steps_per_user = data.groupBy(\"user_id\", \"date\").agg(max(\"steps\").alias(\"max_steps\"))\n",
        "print(\"Day with maximum steps: \")\n",
        "max_steps_per_user.show()"
      ],
      "metadata": {
        "colab": {
          "base_uri": "https://localhost:8080/"
        },
        "id": "f3QPx7BBJ3Al",
        "outputId": "2c259a1b-11c4-4c17-fb8a-0eadf995e467"
      },
      "execution_count": 7,
      "outputs": [
        {
          "output_type": "stream",
          "name": "stdout",
          "text": [
            "Day with maximum steps: \n",
            "+-------+----------+---------+\n",
            "|user_id|      date|max_steps|\n",
            "+-------+----------+---------+\n",
            "|      2|2023-07-03|     7000|\n",
            "|      1|2023-07-02|    11000|\n",
            "|      3|2023-07-02|    13000|\n",
            "|      2|2023-07-01|     8000|\n",
            "|      3|2023-07-01|    15000|\n",
            "|      3|2023-07-03|    16000|\n",
            "|      2|2023-07-02|     9000|\n",
            "|      1|2023-07-01|    12000|\n",
            "|      1|2023-07-03|    10000|\n",
            "+-------+----------+---------+\n",
            "\n"
          ]
        }
      ]
    },
    {
      "cell_type": "code",
      "source": [
        "# 5. Find Users Who Were Active for More Than 100 Minutes on Any Day\n",
        "active_users = data.filter(data[\"active_minutes\"] > 100)\n",
        "print(\"Users who were active for more than 100 minutes on any day\")\n",
        "active_users.show()"
      ],
      "metadata": {
        "colab": {
          "base_uri": "https://localhost:8080/"
        },
        "id": "4B0AxdN3J5du",
        "outputId": "58a12e5b-054c-4626-8714-057cbc3a70e5"
      },
      "execution_count": 8,
      "outputs": [
        {
          "output_type": "stream",
          "name": "stdout",
          "text": [
            "Users who were active for more than 100 minutes on any day\n",
            "+-------+----------+-----+--------+-----------+--------------+\n",
            "|user_id|      date|steps|calories|distance_km|active_minutes|\n",
            "+-------+----------+-----+--------+-----------+--------------+\n",
            "|      3|2023-07-01|15000|     600|       10.2|           120|\n",
            "|      3|2023-07-03|16000|     620|       11.0|           130|\n",
            "+-------+----------+-----+--------+-----------+--------------+\n",
            "\n"
          ]
        }
      ]
    },
    {
      "cell_type": "code",
      "source": [
        "# 6.  Calculate the Total Calories Burned per Day\n",
        "total_calories_per_day = data.groupBy(\"date\").agg(sum(\"calories\").alias(\"total_calories\"))\n",
        "print(\"Total calories burned per day\")\n",
        "total_calories_per_day.show()"
      ],
      "metadata": {
        "colab": {
          "base_uri": "https://localhost:8080/"
        },
        "id": "NPdCnM-JJ77J",
        "outputId": "10cc924b-bd39-40da-9408-e8f98333f3e8"
      },
      "execution_count": 9,
      "outputs": [
        {
          "output_type": "stream",
          "name": "stdout",
          "text": [
            "Total calories burned per day\n",
            "+----------+--------------+\n",
            "|      date|total_calories|\n",
            "+----------+--------------+\n",
            "|2023-07-02|          1400|\n",
            "|2023-07-03|          1390|\n",
            "|2023-07-01|          1450|\n",
            "+----------+--------------+\n",
            "\n"
          ]
        }
      ]
    },
    {
      "cell_type": "code",
      "source": [
        "# 7. Calculate the Average Steps per Day\n",
        "average_steps_per_day = data.groupBy(\"date\").agg(avg(\"steps\").alias(\"avg_steps\"))\n",
        "print(\"Average steps per day\")\n",
        "average_steps_per_day.show()"
      ],
      "metadata": {
        "colab": {
          "base_uri": "https://localhost:8080/"
        },
        "id": "72wrekpBJ-D2",
        "outputId": "234f020d-79cb-40eb-ffbc-3c83b2b0925f"
      },
      "execution_count": 10,
      "outputs": [
        {
          "output_type": "stream",
          "name": "stdout",
          "text": [
            "Average steps per day\n",
            "+----------+------------------+\n",
            "|      date|         avg_steps|\n",
            "+----------+------------------+\n",
            "|2023-07-02|           11000.0|\n",
            "|2023-07-03|           11000.0|\n",
            "|2023-07-01|11666.666666666666|\n",
            "+----------+------------------+\n",
            "\n"
          ]
        }
      ]
    },
    {
      "cell_type": "code",
      "source": [
        "# 8.Rank Users by Total Distance Travelled\n",
        "from pyspark.sql import functions as F\n",
        "from pyspark.sql.window import Window\n",
        "total_distance = data.groupBy(\"user_id\").agg(F.sum(\"distance_km\").alias(\"total_distance\"))\n",
        "window_spec = Window.orderBy(F.col(\"total_distance\").desc())\n",
        "ranked_users = total_distance.withColumn(\"rank\", F.rank().over(window_spec))\n",
        "print(\"Rank of the users based on distance travelled: \")\n",
        "ranked_users.show()"
      ],
      "metadata": {
        "colab": {
          "base_uri": "https://localhost:8080/"
        },
        "id": "dYMDZonrJ_08",
        "outputId": "9cf3d955-b30f-4832-cc3f-54f1988f7540"
      },
      "execution_count": 11,
      "outputs": [
        {
          "output_type": "stream",
          "name": "stdout",
          "text": [
            "Rank of the users based on distance travelled: \n",
            "+-------+------------------+----+\n",
            "|user_id|    total_distance|rank|\n",
            "+-------+------------------+----+\n",
            "|      3|              30.2|   1|\n",
            "|      1|              23.5|   2|\n",
            "|      2|16.700000000000003|   3|\n",
            "+-------+------------------+----+\n",
            "\n"
          ]
        }
      ]
    },
    {
      "cell_type": "code",
      "source": [
        "# 9. Find the Most Active User by Total Active Minutes\n",
        "most_active_user = data.groupBy(\"user_id\").agg(F.sum(\"active_minutes\").alias(\"total_active_minutes\"))\n",
        "most_active_user = most_active_user.orderBy(F.col(\"total_active_minutes\").desc())\n",
        "print(\"Most active user by total active minutes: \")\n",
        "most_active_user.show(1)"
      ],
      "metadata": {
        "colab": {
          "base_uri": "https://localhost:8080/"
        },
        "id": "rwUjwi7sKCGP",
        "outputId": "de84911c-9993-422e-9298-de82cc422e64"
      },
      "execution_count": 12,
      "outputs": [
        {
          "output_type": "stream",
          "name": "stdout",
          "text": [
            "Most active user by total active minutes: \n",
            "+-------+--------------------+\n",
            "|user_id|total_active_minutes|\n",
            "+-------+--------------------+\n",
            "|      3|                 350|\n",
            "+-------+--------------------+\n",
            "only showing top 1 row\n",
            "\n"
          ]
        }
      ]
    },
    {
      "cell_type": "code",
      "source": [
        "# 10. Create a New Column for Calories Burned per Kilometer\n",
        "data = data.withColumn(\"calories_per_km\", data[\"calories\"] / data[\"distance_km\"])\n",
        "print(\"New column for calories burned per kilometer\")\n",
        "data.show()"
      ],
      "metadata": {
        "colab": {
          "base_uri": "https://localhost:8080/"
        },
        "id": "PUrvbML2KDxL",
        "outputId": "efd3efe2-e002-40e0-dcb5-4387c357ea53"
      },
      "execution_count": 13,
      "outputs": [
        {
          "output_type": "stream",
          "name": "stdout",
          "text": [
            "New column for calories burned per kilometer\n",
            "+-------+----------+-----+--------+-----------+--------------+-----------------+\n",
            "|user_id|      date|steps|calories|distance_km|active_minutes|  calories_per_km|\n",
            "+-------+----------+-----+--------+-----------+--------------+-----------------+\n",
            "|      1|2023-07-01|12000|     500|        8.5|            90| 58.8235294117647|\n",
            "|      2|2023-07-01| 8000|     350|        5.6|            60|62.50000000000001|\n",
            "|      3|2023-07-01|15000|     600|       10.2|           120|58.82352941176471|\n",
            "|      1|2023-07-02|11000|     480|        7.9|            85|60.75949367088607|\n",
            "|      2|2023-07-02| 9000|     400|        6.2|            70|64.51612903225806|\n",
            "|      3|2023-07-02|13000|     520|        9.0|           100|57.77777777777778|\n",
            "|      1|2023-07-03|10000|     450|        7.1|            80|63.38028169014085|\n",
            "|      2|2023-07-03| 7000|     320|        4.9|            55| 65.3061224489796|\n",
            "|      3|2023-07-03|16000|     620|       11.0|           130|56.36363636363637|\n",
            "+-------+----------+-----+--------+-----------+--------------+-----------------+\n",
            "\n"
          ]
        }
      ]
    }
  ]
}