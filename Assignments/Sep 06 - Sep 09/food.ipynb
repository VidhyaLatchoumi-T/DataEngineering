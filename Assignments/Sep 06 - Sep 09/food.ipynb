{
  "nbformat": 4,
  "nbformat_minor": 0,
  "metadata": {
    "colab": {
      "provenance": []
    },
    "kernelspec": {
      "name": "python3",
      "display_name": "Python 3"
    },
    "language_info": {
      "name": "python"
    }
  },
  "cells": [
    {
      "cell_type": "code",
      "execution_count": 1,
      "metadata": {
        "colab": {
          "base_uri": "https://localhost:8080/"
        },
        "id": "8nAx_74DQ1Os",
        "outputId": "767b2638-3150-4745-89ce-9605721e0ab4"
      },
      "outputs": [
        {
          "output_type": "stream",
          "name": "stdout",
          "text": [
            "Collecting pyspark\n",
            "  Downloading pyspark-3.5.2.tar.gz (317.3 MB)\n",
            "\u001b[2K     \u001b[90m━━━━━━━━━━━━━━━━━━━━━━━━━━━━━━━━━━━━━━━━\u001b[0m \u001b[32m317.3/317.3 MB\u001b[0m \u001b[31m4.7 MB/s\u001b[0m eta \u001b[36m0:00:00\u001b[0m\n",
            "\u001b[?25h  Preparing metadata (setup.py) ... \u001b[?25l\u001b[?25hdone\n",
            "Requirement already satisfied: py4j==0.10.9.7 in /usr/local/lib/python3.10/dist-packages (from pyspark) (0.10.9.7)\n",
            "Building wheels for collected packages: pyspark\n",
            "  Building wheel for pyspark (setup.py) ... \u001b[?25l\u001b[?25hdone\n",
            "  Created wheel for pyspark: filename=pyspark-3.5.2-py2.py3-none-any.whl size=317812365 sha256=106ba89fe7cbc8d729f007b0556d8cb6acd668f3a0f99827cc3030e9ed9e78bd\n",
            "  Stored in directory: /root/.cache/pip/wheels/34/34/bd/03944534c44b677cd5859f248090daa9fb27b3c8f8e5f49574\n",
            "Successfully built pyspark\n",
            "Installing collected packages: pyspark\n",
            "Successfully installed pyspark-3.5.2\n"
          ]
        }
      ],
      "source": [
        "! pip install pyspark"
      ]
    },
    {
      "cell_type": "code",
      "source": [
        "from pyspark.sql import SparkSession\n",
        "from pyspark.sql.functions import col,avg,sum,max\n",
        "\n",
        "spark=SparkSession.builder.appName(\"FoodDelivery\").getOrCreate()\n",
        "\n",
        "food_delivert_df=spark.read.csv(\"/content/food_data.csv\", header=True,inferSchema=True)"
      ],
      "metadata": {
        "id": "mDLmY9FJWJRk"
      },
      "execution_count": 2,
      "outputs": []
    },
    {
      "cell_type": "code",
      "source": [
        "# 1. Calculate Total Revenue per Restaurant\n",
        "total_revenue_per_restaurant = food_delivert_df.withColumn(\"total_revenue\", col(\"price\") * col(\"quantity\")) \\\n",
        "    .groupBy(\"restaurant_name\").agg(sum(\"total_revenue\").alias(\"total_revenue\"))\n",
        "print(\"total revenue per restaurant: \")\n",
        "total_revenue_per_restaurant.show()"
      ],
      "metadata": {
        "colab": {
          "base_uri": "https://localhost:8080/"
        },
        "id": "Ri0e6aYuWvZ1",
        "outputId": "ebb5b0b0-de8b-49b4-9b24-065217c589d1"
      },
      "execution_count": 3,
      "outputs": [
        {
          "output_type": "stream",
          "name": "stdout",
          "text": [
            "total revenue per restaurant: \n",
            "+---------------+------------------+\n",
            "|restaurant_name|     total_revenue|\n",
            "+---------------+------------------+\n",
            "|         Subway|              13.0|\n",
            "|      Pizza Hut|             12.99|\n",
            "|    Burger King|              6.99|\n",
            "|            KFC|             35.96|\n",
            "|       Domino's|             23.98|\n",
            "|     McDonald's|20.950000000000003|\n",
            "|      Starbucks|              13.5|\n",
            "+---------------+------------------+\n",
            "\n"
          ]
        }
      ]
    },
    {
      "cell_type": "code",
      "source": [
        "# 2.  Find the Fastest Delivery\n",
        "fastest_delivery=food_delivert_df.orderBy(col(\"delivery_time_mins\").asc()).limit(1)\n",
        "print(\"fastest delivery: \")\n",
        "fastest_delivery.show()"
      ],
      "metadata": {
        "colab": {
          "base_uri": "https://localhost:8080/"
        },
        "id": "5tpLKyxUM219",
        "outputId": "2426ddc9-ea91-481a-ffd9-c7bdee9362c7"
      },
      "execution_count": 4,
      "outputs": [
        {
          "output_type": "stream",
          "name": "stdout",
          "text": [
            "fastest delivery: \n",
            "+--------+-----------+---------------+---------+--------+-----+------------------+----------+\n",
            "|order_id|customer_id|restaurant_name|food_item|quantity|price|delivery_time_mins|   order_d|\n",
            "+--------+-----------+---------------+---------+--------+-----+------------------+----------+\n",
            "|       6|        205|      Starbucks|   Coffee|       1|  4.5|                15|2023-06-18|\n",
            "+--------+-----------+---------------+---------+--------+-----+------------------+----------+\n",
            "\n"
          ]
        }
      ]
    },
    {
      "cell_type": "code",
      "source": [
        "# 3.Calculate Average Delivery Time per Restaurant\n",
        "avg_delivery_time=food_delivert_df.groupBy(\"restaurant_name\").agg(avg(\"delivery_time_mins\").alias(\"avg_delivery_time\"))\n",
        "print(\"average delivery time per restaurant: \")\n",
        "avg_delivery_time.show()"
      ],
      "metadata": {
        "colab": {
          "base_uri": "https://localhost:8080/"
        },
        "id": "GktI98YwM5cg",
        "outputId": "b2d0cf8d-17cb-4e33-b4d0-56cc43c44579"
      },
      "execution_count": 5,
      "outputs": [
        {
          "output_type": "stream",
          "name": "stdout",
          "text": [
            "average delivery time per restaurant: \n",
            "+---------------+-----------------+\n",
            "|restaurant_name|avg_delivery_time|\n",
            "+---------------+-----------------+\n",
            "|         Subway|             20.0|\n",
            "|      Pizza Hut|             45.0|\n",
            "|    Burger King|             30.0|\n",
            "|            KFC|             25.0|\n",
            "|       Domino's|             40.0|\n",
            "|     McDonald's|             22.5|\n",
            "|      Starbucks|             17.5|\n",
            "+---------------+-----------------+\n",
            "\n"
          ]
        }
      ]
    },
    {
      "cell_type": "code",
      "source": [
        "# 4. Filter Orders for a Specific Customer\n",
        "order_for_specific_customers=food_delivert_df.filter(col(\"customer_id\")==201)\n",
        "print(\"order for specific customers: \")\n",
        "order_for_specific_customers.show()"
      ],
      "metadata": {
        "colab": {
          "base_uri": "https://localhost:8080/"
        },
        "id": "V664dBFFM7eH",
        "outputId": "2d66600f-6239-49c2-8039-4717498d88c8"
      },
      "execution_count": 6,
      "outputs": [
        {
          "output_type": "stream",
          "name": "stdout",
          "text": [
            "order for specific customers: \n",
            "+--------+-----------+---------------+---------+--------+-----+------------------+----------+\n",
            "|order_id|customer_id|restaurant_name|food_item|quantity|price|delivery_time_mins|   order_d|\n",
            "+--------+-----------+---------------+---------+--------+-----+------------------+----------+\n",
            "|       1|        201|     McDonald's|   Burger|       2| 5.99|                30|2023-06-15|\n",
            "|       4|        201|         Subway| Sandwich|       2|  6.5|                20|2023-06-17|\n",
            "+--------+-----------+---------------+---------+--------+-----+------------------+----------+\n",
            "\n"
          ]
        }
      ]
    },
    {
      "cell_type": "code",
      "source": [
        "# 5. Find Orders Where Total Amount Spent is Greater Than $20\n",
        "orders_on_amount_spent=food_delivert_df.withColumn(\"total_amount\", col(\"price\") * col(\"quantity\")) \\\n",
        "    .filter(col(\"total_amount\") > 20)\n",
        "print(\"orders where total amount spent is greater than $20: \")\n",
        "orders_on_amount_spent.show()"
      ],
      "metadata": {
        "colab": {
          "base_uri": "https://localhost:8080/"
        },
        "id": "sJWy5NvtM9KQ",
        "outputId": "b279c3f0-dfbb-42e2-d544-4350f163b819"
      },
      "execution_count": 7,
      "outputs": [
        {
          "output_type": "stream",
          "name": "stdout",
          "text": [
            "orders where total amount spent is greater than $20: \n",
            "+--------+-----------+---------------+-------------+--------+-----+------------------+----------+------------+\n",
            "|order_id|customer_id|restaurant_name|    food_item|quantity|price|delivery_time_mins|   order_d|total_amount|\n",
            "+--------+-----------+---------------+-------------+--------+-----+------------------+----------+------------+\n",
            "|       3|        203|            KFC|Fried Chicken|       3| 8.99|                25|2023-06-17|       26.97|\n",
            "|       5|        204|       Domino's|        Pizza|       2|11.99|                40|2023-06-18|       23.98|\n",
            "+--------+-----------+---------------+-------------+--------+-----+------------------+----------+------------+\n",
            "\n"
          ]
        }
      ]
    },
    {
      "cell_type": "code",
      "source": [
        "# 6. Calculate the Total Quantity of Each Food Item Sold\n",
        "total_quantity_of_each_food_item=food_delivert_df.groupBy(\"food_item\").agg(sum(\"quantity\").alias(\"total_quantity\"))\n",
        "print(\"total quantity of each food item sold: \")\n",
        "total_quantity_of_each_food_item.show()"
      ],
      "metadata": {
        "colab": {
          "base_uri": "https://localhost:8080/"
        },
        "id": "pkF7pC75M_v7",
        "outputId": "a1866174-e06e-4eb5-abee-b89f5fea4d0d"
      },
      "execution_count": 8,
      "outputs": [
        {
          "output_type": "stream",
          "name": "stdout",
          "text": [
            "total quantity of each food item sold: \n",
            "+-------------+--------------+\n",
            "|    food_item|total_quantity|\n",
            "+-------------+--------------+\n",
            "|        Fries|             3|\n",
            "|       Burger|             3|\n",
            "|     Sandwich|             2|\n",
            "|        Pizza|             3|\n",
            "|       Coffee|             3|\n",
            "|Fried Chicken|             4|\n",
            "+-------------+--------------+\n",
            "\n"
          ]
        }
      ]
    },
    {
      "cell_type": "code",
      "source": [
        "# 7. Find the Top 3 Most Popular Restaurants by Number of Orders\n",
        "top_3_restaurants=food_delivert_df.groupBy(\"restaurant_name\").count().orderBy(col(\"count\").desc()).limit(3)\n",
        "print(\"top 3 most popular restaurants by number of orders: \")\n",
        "top_3_restaurants.show()"
      ],
      "metadata": {
        "colab": {
          "base_uri": "https://localhost:8080/"
        },
        "id": "gdPNmA2tNBNQ",
        "outputId": "28d78ee2-fefe-4f8d-a7cd-a938eceb2854"
      },
      "execution_count": 9,
      "outputs": [
        {
          "output_type": "stream",
          "name": "stdout",
          "text": [
            "top 3 most popular restaurants by number of orders: \n",
            "+---------------+-----+\n",
            "|restaurant_name|count|\n",
            "+---------------+-----+\n",
            "|            KFC|    2|\n",
            "|      Starbucks|    2|\n",
            "|     McDonald's|    2|\n",
            "+---------------+-----+\n",
            "\n"
          ]
        }
      ]
    },
    {
      "cell_type": "code",
      "source": [
        "# 8. Calculate Total Revenue per Day\n",
        "total_revenue_per_day=food_delivert_df.withColumn(\"total_revenue\", col(\"price\") * col(\"quantity\")) \\\n",
        "    .groupBy(\"order_d\").agg(sum(\"total_revenue\").alias(\"total_revenue\"))\n",
        "print(\"total revenue per day: \")\n",
        "total_revenue_per_day.show()"
      ],
      "metadata": {
        "colab": {
          "base_uri": "https://localhost:8080/"
        },
        "id": "qt5VCE-mNCqX",
        "outputId": "2dad3d7c-4734-4b50-8003-b5211848d406"
      },
      "execution_count": 10,
      "outputs": [
        {
          "output_type": "stream",
          "name": "stdout",
          "text": [
            "total revenue per day: \n",
            "+----------+-------------+\n",
            "|   order_d|total_revenue|\n",
            "+----------+-------------+\n",
            "|2023-06-18|        28.48|\n",
            "|2023-06-16|        12.99|\n",
            "|2023-06-15|        11.98|\n",
            "|2023-06-17|        39.97|\n",
            "|2023-06-20|        15.99|\n",
            "|2023-06-19|        17.96|\n",
            "+----------+-------------+\n",
            "\n"
          ]
        }
      ]
    },
    {
      "cell_type": "code",
      "source": [
        "# 9.  Find the Longest Delivery Time for Each Restaurant\n",
        "longest_delivery_time=food_delivert_df.groupBy(\"restaurant_name\").agg(max(\"delivery_time_mins\"))\n",
        "print(\"longest delivery time for each restaurant: \")\n",
        "longest_delivery_time.show()"
      ],
      "metadata": {
        "colab": {
          "base_uri": "https://localhost:8080/"
        },
        "id": "Kmy-Z2srNEWC",
        "outputId": "64554442-2af3-44fe-a913-756f9b5a762e"
      },
      "execution_count": 11,
      "outputs": [
        {
          "output_type": "stream",
          "name": "stdout",
          "text": [
            "longest delivery time for each restaurant: \n",
            "+---------------+-----------------------+\n",
            "|restaurant_name|max(delivery_time_mins)|\n",
            "+---------------+-----------------------+\n",
            "|         Subway|                     20|\n",
            "|      Pizza Hut|                     45|\n",
            "|    Burger King|                     30|\n",
            "|            KFC|                     25|\n",
            "|       Domino's|                     40|\n",
            "|     McDonald's|                     30|\n",
            "|      Starbucks|                     20|\n",
            "+---------------+-----------------------+\n",
            "\n"
          ]
        }
      ]
    },
    {
      "cell_type": "code",
      "source": [
        "# 10.  Create a New Column for Total Order Value\n",
        "total_order_value=food_delivert_df.withColumn(\"total_order_value\", col(\"price\") * col(\"quantity\"))\n",
        "print(\"new column for total order value: \")\n",
        "total_order_value.show()"
      ],
      "metadata": {
        "colab": {
          "base_uri": "https://localhost:8080/"
        },
        "id": "O-CplfuFNGRv",
        "outputId": "99701b6e-c132-49d4-d1d0-63da94cc9cd4"
      },
      "execution_count": 12,
      "outputs": [
        {
          "output_type": "stream",
          "name": "stdout",
          "text": [
            "new column for total order value: \n",
            "+--------+-----------+---------------+-------------+--------+-----+------------------+----------+-----------------+\n",
            "|order_id|customer_id|restaurant_name|    food_item|quantity|price|delivery_time_mins|   order_d|total_order_value|\n",
            "+--------+-----------+---------------+-------------+--------+-----+------------------+----------+-----------------+\n",
            "|       1|        201|     McDonald's|       Burger|       2| 5.99|                30|2023-06-15|            11.98|\n",
            "|       2|        202|      Pizza Hut|        Pizza|       1|12.99|                45|2023-06-16|            12.99|\n",
            "|       3|        203|            KFC|Fried Chicken|       3| 8.99|                25|2023-06-17|            26.97|\n",
            "|       4|        201|         Subway|     Sandwich|       2|  6.5|                20|2023-06-17|             13.0|\n",
            "|       5|        204|       Domino's|        Pizza|       2|11.99|                40|2023-06-18|            23.98|\n",
            "|       6|        205|      Starbucks|       Coffee|       1|  4.5|                15|2023-06-18|              4.5|\n",
            "|       7|        202|            KFC|Fried Chicken|       1| 8.99|                25|2023-06-19|             8.99|\n",
            "|       8|        206|     McDonald's|        Fries|       3| 2.99|                15|2023-06-19|             8.97|\n",
            "|       9|        207|    Burger King|       Burger|       1| 6.99|                30|2023-06-20|             6.99|\n",
            "|      10|        203|      Starbucks|       Coffee|       2|  4.5|                20|2023-06-20|              9.0|\n",
            "+--------+-----------+---------------+-------------+--------+-----+------------------+----------+-----------------+\n",
            "\n"
          ]
        }
      ]
    }
  ]
}