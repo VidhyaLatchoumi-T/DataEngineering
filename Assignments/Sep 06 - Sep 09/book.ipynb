{
  "nbformat": 4,
  "nbformat_minor": 0,
  "metadata": {
    "colab": {
      "provenance": []
    },
    "kernelspec": {
      "name": "python3",
      "display_name": "Python 3"
    },
    "language_info": {
      "name": "python"
    }
  },
  "cells": [
    {
      "cell_type": "code",
      "execution_count": 1,
      "metadata": {
        "colab": {
          "base_uri": "https://localhost:8080/"
        },
        "id": "5JC71i5jI4A3",
        "outputId": "561f458c-2464-4f01-8840-abd4ff60c99c"
      },
      "outputs": [
        {
          "output_type": "stream",
          "name": "stdout",
          "text": [
            "Collecting pyspark\n",
            "  Downloading pyspark-3.5.2.tar.gz (317.3 MB)\n",
            "\u001b[2K     \u001b[90m━━━━━━━━━━━━━━━━━━━━━━━━━━━━━━━━━━━━━━━━\u001b[0m \u001b[32m317.3/317.3 MB\u001b[0m \u001b[31m4.0 MB/s\u001b[0m eta \u001b[36m0:00:00\u001b[0m\n",
            "\u001b[?25h  Preparing metadata (setup.py) ... \u001b[?25l\u001b[?25hdone\n",
            "Requirement already satisfied: py4j==0.10.9.7 in /usr/local/lib/python3.10/dist-packages (from pyspark) (0.10.9.7)\n",
            "Building wheels for collected packages: pyspark\n",
            "  Building wheel for pyspark (setup.py) ... \u001b[?25l\u001b[?25hdone\n",
            "  Created wheel for pyspark: filename=pyspark-3.5.2-py2.py3-none-any.whl size=317812365 sha256=d661239d4ff56c73975eae169f9fdc0e1d82a94a119d6c1aee944149475dca65\n",
            "  Stored in directory: /root/.cache/pip/wheels/34/34/bd/03944534c44b677cd5859f248090daa9fb27b3c8f8e5f49574\n",
            "Successfully built pyspark\n",
            "Installing collected packages: pyspark\n",
            "Successfully installed pyspark-3.5.2\n"
          ]
        }
      ],
      "source": [
        "! pip install pyspark"
      ]
    },
    {
      "cell_type": "code",
      "source": [
        "from pyspark.sql import SparkSession\n",
        "from pyspark.sql.functions import max,sum,col\n",
        "# Initialize spark session\n",
        "spark=SparkSession.builder.appName(\"BookSales\").getOrCreate()\n",
        "# Load data\n",
        "book_sales_df=spark.read.csv(\"/content/book_data.csv\",header=True,inferSchema=True)"
      ],
      "metadata": {
        "id": "CUzJjwN0JN1W"
      },
      "execution_count": 2,
      "outputs": []
    },
    {
      "cell_type": "code",
      "source": [
        "# 1. Find Total Sales Revenue per Genre\n",
        "total_sales_revenue = book_sales_df.withColumn(\"total_sales\", col(\"sale_price\") * col(\"quantity\")) \\\n",
        "    .groupBy(\"genre\").agg(sum(\"total_sales\").alias(\"total_revenue\"))\n",
        "print(\"total sales revenue per genre\")\n",
        "total_sales_revenue.show()"
      ],
      "metadata": {
        "colab": {
          "base_uri": "https://localhost:8080/"
        },
        "id": "cSbNByWhJu8p",
        "outputId": "3a37e0a1-3e12-4d8c-b672-493e8ed63a64"
      },
      "execution_count": 3,
      "outputs": [
        {
          "output_type": "stream",
          "name": "stdout",
          "text": [
            "total sales revenue per genre\n",
            "+---------------+-----------------+\n",
            "|          genre|    total_revenue|\n",
            "+---------------+-----------------+\n",
            "|        Fiction|            135.9|\n",
            "|      Self-Help|            68.97|\n",
            "|Science Fiction|            25.99|\n",
            "|    Non-Fiction|             22.5|\n",
            "|      Biography|95.97999999999999|\n",
            "+---------------+-----------------+\n",
            "\n"
          ]
        }
      ]
    },
    {
      "cell_type": "code",
      "source": [
        "# 2. Filter Books Sold in the \"Fiction\" Genre\n",
        "total_books_sold=book_sales_df.filter(book_sales_df.genre==\"Fiction\")\n",
        "print(\"Books sold in fiction genre: \")\n",
        "total_books_sold.show()"
      ],
      "metadata": {
        "colab": {
          "base_uri": "https://localhost:8080/"
        },
        "id": "2cgGARgLK-n5",
        "outputId": "e3ffb8f2-d4e5-40e4-add9-4bf6e4210410"
      },
      "execution_count": 4,
      "outputs": [
        {
          "output_type": "stream",
          "name": "stdout",
          "text": [
            "Books sold in fiction genre: \n",
            "+-------+--------------------+-------------------+-------+----------+--------+----------+\n",
            "|sale_id|          book_title|             author|  genre|sale_price|quantity|      date|\n",
            "+-------+--------------------+-------------------+-------+----------+--------+----------+\n",
            "|      1|The Catcher in th...|      J.D. Salinger|Fiction|     15.99|       2|2023-01-05|\n",
            "|      2|To Kill a Mocking...|         Harper Lee|Fiction|     18.99|       1|2023-01-10|\n",
            "|      6|    The Great Gatsby|F. Scott Fitzgerald|Fiction|     10.99|       5|2023-03-15|\n",
            "|      9|                1984|      George Orwell|Fiction|     14.99|       2|2023-04-12|\n",
            "+-------+--------------------+-------------------+-------+----------+--------+----------+\n",
            "\n"
          ]
        }
      ]
    },
    {
      "cell_type": "code",
      "source": [
        "# 3. Find the Book with the Highest Sale Price\n",
        "book_with_highest_price=book_sales_df.orderBy(col(\"sale_price\").desc()).limit(1)\n",
        "print(\"Book with highest price: \")\n",
        "book_with_highest_price.show()"
      ],
      "metadata": {
        "colab": {
          "base_uri": "https://localhost:8080/"
        },
        "id": "OBljn_X3LA_Q",
        "outputId": "615645d7-3878-4df9-c8e6-77203e0aaf5d"
      },
      "execution_count": 5,
      "outputs": [
        {
          "output_type": "stream",
          "name": "stdout",
          "text": [
            "Book with highest price: \n",
            "+-------+----------+-------------+---------------+----------+--------+----------+\n",
            "|sale_id|book_title|       author|          genre|sale_price|quantity|      date|\n",
            "+-------+----------+-------------+---------------+----------+--------+----------+\n",
            "|      8|      Dune|Frank Herbert|Science Fiction|     25.99|       1|2023-04-10|\n",
            "+-------+----------+-------------+---------------+----------+--------+----------+\n",
            "\n"
          ]
        }
      ]
    },
    {
      "cell_type": "code",
      "source": [
        "# 4.Calculate Total Quantity of Books Sold by Author\n",
        "quantity_of_books_sold_by_author=book_sales_df.groupBy(\"author\").agg(sum(\"quantity\").alias(\"total_quantity\"))\n",
        "print(\"Quantity of books sold by author: \")\n",
        "quantity_of_books_sold_by_author.show()"
      ],
      "metadata": {
        "colab": {
          "base_uri": "https://localhost:8080/"
        },
        "id": "DKgRvw56LC8F",
        "outputId": "333546fe-ea6d-44ce-fabf-45cf720ecd38"
      },
      "execution_count": 6,
      "outputs": [
        {
          "output_type": "stream",
          "name": "stdout",
          "text": [
            "Quantity of books sold by author: \n",
            "+-------------------+--------------+\n",
            "|             author|total_quantity|\n",
            "+-------------------+--------------+\n",
            "|      Frank Herbert|             1|\n",
            "|         Harper Lee|             1|\n",
            "|      George Orwell|             2|\n",
            "|F. Scott Fitzgerald|             5|\n",
            "|     Michelle Obama|             3|\n",
            "|      J.D. Salinger|             2|\n",
            "|     Charles Duhigg|             1|\n",
            "|  Yuval Noah Harari|             1|\n",
            "|        James Clear|             3|\n",
            "|      Tara Westover|             2|\n",
            "+-------------------+--------------+\n",
            "\n"
          ]
        }
      ]
    },
    {
      "cell_type": "code",
      "source": [
        "# 5. Identify Sales Transactions Worth More Than $50\n",
        "sales_transaction=book_sales_df.withColumn(\"total_sales\", col(\"sale_price\") * col(\"quantity\")) \\\n",
        "    .filter(col(\"total_sales\") > 50)\n",
        "print(\"Sales transaction worth more than $50: \")\n",
        "sales_transaction.show()"
      ],
      "metadata": {
        "colab": {
          "base_uri": "https://localhost:8080/"
        },
        "id": "9m91EZRALFHf",
        "outputId": "77bcaa2c-035c-4e94-e98b-d4e38695d0b7"
      },
      "execution_count": 7,
      "outputs": [
        {
          "output_type": "stream",
          "name": "stdout",
          "text": [
            "Sales transaction worth more than $50: \n",
            "+-------+----------------+-------------------+---------+----------+--------+----------+-----------+\n",
            "|sale_id|      book_title|             author|    genre|sale_price|quantity|      date|total_sales|\n",
            "+-------+----------------+-------------------+---------+----------+--------+----------+-----------+\n",
            "|      3|        Becoming|     Michelle Obama|Biography|      20.0|       3|2023-02-12|       60.0|\n",
            "|      6|The Great Gatsby|F. Scott Fitzgerald|  Fiction|     10.99|       5|2023-03-15|      54.95|\n",
            "|      7|   Atomic Habits|        James Clear|Self-Help|     16.99|       3|2023-04-01|      50.97|\n",
            "+-------+----------------+-------------------+---------+----------+--------+----------+-----------+\n",
            "\n"
          ]
        }
      ]
    },
    {
      "cell_type": "code",
      "source": [
        "# 6. Find the Average Sale Price per Genre\n",
        "avg_sale_price_genre=book_sales_df.groupBy(\"genre\").agg(sum(\"sale_price\").alias(\"total_sales\"), sum(\"quantity\").alias(\"total_quantity\")) \\\n",
        "    .withColumn(\"average_sale_price\", col(\"total_sales\") / col(\"total_quantity\"))\n",
        "print(\"Average sale price per genre:\")\n",
        "avg_sale_price_genre.show()"
      ],
      "metadata": {
        "colab": {
          "base_uri": "https://localhost:8080/"
        },
        "id": "mzyFjln-LLRF",
        "outputId": "2f7cf8b9-2547-47d3-f3be-02f223dc8df1"
      },
      "execution_count": 8,
      "outputs": [
        {
          "output_type": "stream",
          "name": "stdout",
          "text": [
            "Average sale price per genre:\n",
            "+---------------+------------------+--------------+------------------+\n",
            "|          genre|       total_sales|total_quantity|average_sale_price|\n",
            "+---------------+------------------+--------------+------------------+\n",
            "|        Fiction|             60.96|            10|             6.096|\n",
            "|      Self-Help|34.989999999999995|             4| 8.747499999999999|\n",
            "|Science Fiction|             25.99|             1|             25.99|\n",
            "|    Non-Fiction|              22.5|             1|              22.5|\n",
            "|      Biography|37.989999999999995|             5| 7.597999999999999|\n",
            "+---------------+------------------+--------------+------------------+\n",
            "\n"
          ]
        }
      ]
    },
    {
      "cell_type": "code",
      "source": [
        "# 7. Count the Number of Unique Authors in the Dataset\n",
        "unique_authors=book_sales_df.select(\"author\").distinct().count()\n",
        "print(\"Number of unique authors: \",unique_authors)"
      ],
      "metadata": {
        "colab": {
          "base_uri": "https://localhost:8080/"
        },
        "id": "4D8vVhW1LNHO",
        "outputId": "24b881af-b27d-4ff0-f59b-1aeacf3ad3bb"
      },
      "execution_count": 9,
      "outputs": [
        {
          "output_type": "stream",
          "name": "stdout",
          "text": [
            "Number of unique authors:  10\n"
          ]
        }
      ]
    },
    {
      "cell_type": "code",
      "source": [
        "# 8. Find the Top 3 Best-Selling Books by Quantity\n",
        "top_selling_books=book_sales_df.orderBy(col(\"quantity\").desc()).limit(3)\n",
        "print(\"top 3 selling books:\")\n",
        "top_selling_books.show()"
      ],
      "metadata": {
        "colab": {
          "base_uri": "https://localhost:8080/"
        },
        "id": "l_gdf6hqLOwH",
        "outputId": "fa1ec8ef-54ae-4ed2-ada1-ff05eab3a4be"
      },
      "execution_count": 10,
      "outputs": [
        {
          "output_type": "stream",
          "name": "stdout",
          "text": [
            "top 3 selling books:\n",
            "+-------+----------------+-------------------+---------+----------+--------+----------+\n",
            "|sale_id|      book_title|             author|    genre|sale_price|quantity|      date|\n",
            "+-------+----------------+-------------------+---------+----------+--------+----------+\n",
            "|      6|The Great Gatsby|F. Scott Fitzgerald|  Fiction|     10.99|       5|2023-03-15|\n",
            "|      3|        Becoming|     Michelle Obama|Biography|      20.0|       3|2023-02-12|\n",
            "|      7|   Atomic Habits|        James Clear|Self-Help|     16.99|       3|2023-04-01|\n",
            "+-------+----------------+-------------------+---------+----------+--------+----------+\n",
            "\n"
          ]
        }
      ]
    },
    {
      "cell_type": "code",
      "source": [
        "# 9. Calculate Total Sales for Each Month\n",
        "from pyspark.sql.functions import date_format\n",
        "monthly_sales = book_sales_df.withColumn(\"month\", date_format(col(\"date\"), \"yyyy-MM\")) \\\n",
        "    .withColumn(\"total_sales\", col(\"sale_price\") * col(\"quantity\")) \\\n",
        "    .groupBy(\"month\").agg(sum(\"total_sales\").alias(\"total_revenue\"))\n",
        "monthly_sales.show()"
      ],
      "metadata": {
        "colab": {
          "base_uri": "https://localhost:8080/"
        },
        "id": "y3WHctQGLQhg",
        "outputId": "05508f8c-77eb-48e8-c024-f4377eb5726c"
      },
      "execution_count": 11,
      "outputs": [
        {
          "output_type": "stream",
          "name": "stdout",
          "text": [
            "+-------+-------------+\n",
            "|  month|total_revenue|\n",
            "+-------+-------------+\n",
            "|2023-03|        90.93|\n",
            "|2023-02|         82.5|\n",
            "|2023-04|       106.94|\n",
            "|2023-05|         18.0|\n",
            "|2023-01|        50.97|\n",
            "+-------+-------------+\n",
            "\n"
          ]
        }
      ]
    },
    {
      "cell_type": "code",
      "source": [
        "# 10. Create a New Column for Total Sales Amount\n",
        "total_sales_amt=book_sales_df.withColumn(\"total_sales\", col(\"sale_price\") * col(\"quantity\"))\n",
        "total_sales_amt.show()"
      ],
      "metadata": {
        "colab": {
          "base_uri": "https://localhost:8080/"
        },
        "id": "gK5hXOLwLSUm",
        "outputId": "f120554f-9d79-4951-b734-e678afd0f906"
      },
      "execution_count": 12,
      "outputs": [
        {
          "output_type": "stream",
          "name": "stdout",
          "text": [
            "+-------+--------------------+-------------------+---------------+----------+--------+----------+-----------+\n",
            "|sale_id|          book_title|             author|          genre|sale_price|quantity|      date|total_sales|\n",
            "+-------+--------------------+-------------------+---------------+----------+--------+----------+-----------+\n",
            "|      1|The Catcher in th...|      J.D. Salinger|        Fiction|     15.99|       2|2023-01-05|      31.98|\n",
            "|      2|To Kill a Mocking...|         Harper Lee|        Fiction|     18.99|       1|2023-01-10|      18.99|\n",
            "|      3|            Becoming|     Michelle Obama|      Biography|      20.0|       3|2023-02-12|       60.0|\n",
            "|      4|             Sapiens|  Yuval Noah Harari|    Non-Fiction|      22.5|       1|2023-02-15|       22.5|\n",
            "|      5|            Educated|      Tara Westover|      Biography|     17.99|       2|2023-03-10|      35.98|\n",
            "|      6|    The Great Gatsby|F. Scott Fitzgerald|        Fiction|     10.99|       5|2023-03-15|      54.95|\n",
            "|      7|       Atomic Habits|        James Clear|      Self-Help|     16.99|       3|2023-04-01|      50.97|\n",
            "|      8|                Dune|      Frank Herbert|Science Fiction|     25.99|       1|2023-04-10|      25.99|\n",
            "|      9|                1984|      George Orwell|        Fiction|     14.99|       2|2023-04-12|      29.98|\n",
            "|     10|  The Power of Habit|     Charles Duhigg|      Self-Help|      18.0|       1|2023-05-01|       18.0|\n",
            "+-------+--------------------+-------------------+---------------+----------+--------+----------+-----------+\n",
            "\n"
          ]
        }
      ]
    }
  ]
}