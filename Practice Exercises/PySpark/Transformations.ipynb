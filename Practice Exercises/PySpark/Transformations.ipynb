{
  "nbformat": 4,
  "nbformat_minor": 0,
  "metadata": {
    "colab": {
      "provenance": []
    },
    "kernelspec": {
      "name": "python3",
      "display_name": "Python 3"
    },
    "language_info": {
      "name": "python"
    }
  },
  "cells": [
    {
      "cell_type": "code",
      "execution_count": null,
      "metadata": {
        "colab": {
          "base_uri": "https://localhost:8080/"
        },
        "id": "gopaaG6N9AeM",
        "outputId": "75cfc922-5bdb-4f07-bbd9-98663db4ad8c"
      },
      "outputs": [
        {
          "output_type": "stream",
          "name": "stdout",
          "text": [
            "Collecting pyspark\n",
            "  Downloading pyspark-3.5.2.tar.gz (317.3 MB)\n",
            "\u001b[2K     \u001b[90m━━━━━━━━━━━━━━━━━━━━━━━━━━━━━━━━━━━━━━━━\u001b[0m \u001b[32m317.3/317.3 MB\u001b[0m \u001b[31m1.5 MB/s\u001b[0m eta \u001b[36m0:00:00\u001b[0m\n",
            "\u001b[?25h  Preparing metadata (setup.py) ... \u001b[?25l\u001b[?25hdone\n",
            "Requirement already satisfied: py4j==0.10.9.7 in /usr/local/lib/python3.10/dist-packages (from pyspark) (0.10.9.7)\n",
            "Building wheels for collected packages: pyspark\n",
            "  Building wheel for pyspark (setup.py) ... \u001b[?25l\u001b[?25hdone\n",
            "  Created wheel for pyspark: filename=pyspark-3.5.2-py2.py3-none-any.whl size=317812365 sha256=c98db1fe8d11043da8a604b93163426f43bc4f0ab28e5716620fde7842b3f97c\n",
            "  Stored in directory: /root/.cache/pip/wheels/34/34/bd/03944534c44b677cd5859f248090daa9fb27b3c8f8e5f49574\n",
            "Successfully built pyspark\n",
            "Installing collected packages: pyspark\n",
            "Successfully installed pyspark-3.5.2\n"
          ]
        }
      ],
      "source": [
        "! pip install pyspark"
      ]
    },
    {
      "cell_type": "code",
      "source": [
        "from pyspark.sql import SparkSession\n",
        "spark = SparkSession.builder.appName(\"MovieDataTransformations\").getOrCreate()\n",
        "movies_df = spark.read.csv(\"/content/sample_data/movie_data.csv\", header=True, inferSchema=True)\n",
        "movies_df.show()\n"
      ],
      "metadata": {
        "colab": {
          "base_uri": "https://localhost:8080/"
        },
        "id": "uKHbo-aF9TSZ",
        "outputId": "f8ba4856-a449-4828-cf1c-d8980ccd33e2"
      },
      "execution_count": null,
      "outputs": [
        {
          "output_type": "stream",
          "name": "stdout",
          "text": [
            "+--------+-----------------+---------+------+----------+----------+\n",
            "|movie_id|            title|    genre|rating|box_office|      date|\n",
            "+--------+-----------------+---------+------+----------+----------+\n",
            "|       1|        Inception|   Sci-Fi|   8.8| 830000000|2010-07-16|\n",
            "|       2|  The Dark Knight|   Action|   9.0|1004000000|2008-07-18|\n",
            "|       3|     Interstellar|   Sci-Fi|   8.6| 677000000|2014-11-07|\n",
            "|       4|Avengers: Endgame|   Action|   8.4|2797000000|2019-04-26|\n",
            "|       5|    The Lion King|Animation|   8.5|1657000000|1994-06-15|\n",
            "|       6|      Toy Story 4|Animation|   7.8|1073000000|2019-06-21|\n",
            "|       7|        Frozen II|Animation|   7.0|1450000000|2019-11-22|\n",
            "|       8|            Joker|    Drama|   8.5|1074000000|2019-10-04|\n",
            "|       9|         Parasite|    Drama|   8.6| 258000000|2019-05-30|\n",
            "+--------+-----------------+---------+------+----------+----------+\n",
            "\n"
          ]
        }
      ]
    },
    {
      "cell_type": "code",
      "source": [
        "sci_fi_movies = movies_df.filter(movies_df.genre == \"Sci-Fi\")\n",
        "sci_fi_movies.show()"
      ],
      "metadata": {
        "colab": {
          "base_uri": "https://localhost:8080/"
        },
        "id": "6jF84N0R9eRo",
        "outputId": "48906aef-c1c2-42ad-9833-fb28253b7a77"
      },
      "execution_count": null,
      "outputs": [
        {
          "output_type": "stream",
          "name": "stdout",
          "text": [
            "+--------+------------+------+------+----------+----------+\n",
            "|movie_id|       title| genre|rating|box_office|      date|\n",
            "+--------+------------+------+------+----------+----------+\n",
            "|       1|   Inception|Sci-Fi|   8.8| 830000000|2010-07-16|\n",
            "|       3|Interstellar|Sci-Fi|   8.6| 677000000|2014-11-07|\n",
            "+--------+------------+------+------+----------+----------+\n",
            "\n"
          ]
        }
      ]
    },
    {
      "cell_type": "code",
      "source": [
        "top_rated_movies = movies_df.orderBy(movies_df.rating.desc()).limit(3)\n",
        "top_rated_movies.show()"
      ],
      "metadata": {
        "colab": {
          "base_uri": "https://localhost:8080/"
        },
        "id": "mSjSAB1k9rNP",
        "outputId": "108ab6b2-6164-4fb3-bf56-f91564451281"
      },
      "execution_count": null,
      "outputs": [
        {
          "output_type": "stream",
          "name": "stdout",
          "text": [
            "+--------+---------------+------+------+----------+----------+\n",
            "|movie_id|          title| genre|rating|box_office|      date|\n",
            "+--------+---------------+------+------+----------+----------+\n",
            "|       2|The Dark Knight|Action|   9.0|1004000000|2008-07-18|\n",
            "|       1|      Inception|Sci-Fi|   8.8| 830000000|2010-07-16|\n",
            "|       3|   Interstellar|Sci-Fi|   8.6| 677000000|2014-11-07|\n",
            "+--------+---------------+------+------+----------+----------+\n",
            "\n"
          ]
        }
      ]
    },
    {
      "cell_type": "code",
      "source": [
        "from pyspark.sql.functions import year\n",
        "movies_after_2010 = movies_df.filter(year(movies_df.date) > 2010)\n",
        "movies_after_2010.show()"
      ],
      "metadata": {
        "colab": {
          "base_uri": "https://localhost:8080/"
        },
        "id": "tuAvjDnM9uKZ",
        "outputId": "24dc43fa-42a4-49f2-a386-8f453719551d"
      },
      "execution_count": null,
      "outputs": [
        {
          "output_type": "stream",
          "name": "stdout",
          "text": [
            "+--------+-----------------+---------+------+----------+----------+\n",
            "|movie_id|            title|    genre|rating|box_office|      date|\n",
            "+--------+-----------------+---------+------+----------+----------+\n",
            "|       3|     Interstellar|   Sci-Fi|   8.6| 677000000|2014-11-07|\n",
            "|       4|Avengers: Endgame|   Action|   8.4|2797000000|2019-04-26|\n",
            "|       6|      Toy Story 4|Animation|   7.8|1073000000|2019-06-21|\n",
            "|       7|        Frozen II|Animation|   7.0|1450000000|2019-11-22|\n",
            "|       8|            Joker|    Drama|   8.5|1074000000|2019-10-04|\n",
            "|       9|         Parasite|    Drama|   8.6| 258000000|2019-05-30|\n",
            "+--------+-----------------+---------+------+----------+----------+\n",
            "\n"
          ]
        }
      ]
    },
    {
      "cell_type": "code",
      "source": [
        "avg_box_office_by_genre = movies_df.groupBy(\"genre\").avg(\"box_office\").alias(\"average_box_office\")\n",
        "avg_box_office_by_genre.show()"
      ],
      "metadata": {
        "colab": {
          "base_uri": "https://localhost:8080/"
        },
        "id": "x10w4cuF93as",
        "outputId": "ca401dd3-da7f-462e-fa55-990681315469"
      },
      "execution_count": null,
      "outputs": [
        {
          "output_type": "stream",
          "name": "stdout",
          "text": [
            "+---------+--------------------+\n",
            "|    genre|     avg(box_office)|\n",
            "+---------+--------------------+\n",
            "|    Drama|              6.66E8|\n",
            "|Animation|1.3933333333333333E9|\n",
            "|   Action|            1.9005E9|\n",
            "|   Sci-Fi|             7.535E8|\n",
            "+---------+--------------------+\n",
            "\n"
          ]
        }
      ]
    },
    {
      "cell_type": "code",
      "source": [
        "movies_df = movies_df.withColumn(\"box_office_billion\", movies_df.box_office / 1e9)\n",
        "movies_df.show()"
      ],
      "metadata": {
        "colab": {
          "base_uri": "https://localhost:8080/"
        },
        "id": "gviNObGF9-Ur",
        "outputId": "99950255-cd92-490f-8334-55dc6c06a1c9"
      },
      "execution_count": null,
      "outputs": [
        {
          "output_type": "stream",
          "name": "stdout",
          "text": [
            "+--------+-----------------+---------+------+----------+----------+------------------+\n",
            "|movie_id|            title|    genre|rating|box_office|      date|box_office_billion|\n",
            "+--------+-----------------+---------+------+----------+----------+------------------+\n",
            "|       1|        Inception|   Sci-Fi|   8.8| 830000000|2010-07-16|              0.83|\n",
            "|       2|  The Dark Knight|   Action|   9.0|1004000000|2008-07-18|             1.004|\n",
            "|       3|     Interstellar|   Sci-Fi|   8.6| 677000000|2014-11-07|             0.677|\n",
            "|       4|Avengers: Endgame|   Action|   8.4|2797000000|2019-04-26|             2.797|\n",
            "|       5|    The Lion King|Animation|   8.5|1657000000|1994-06-15|             1.657|\n",
            "|       6|      Toy Story 4|Animation|   7.8|1073000000|2019-06-21|             1.073|\n",
            "|       7|        Frozen II|Animation|   7.0|1450000000|2019-11-22|              1.45|\n",
            "|       8|            Joker|    Drama|   8.5|1074000000|2019-10-04|             1.074|\n",
            "|       9|         Parasite|    Drama|   8.6| 258000000|2019-05-30|             0.258|\n",
            "+--------+-----------------+---------+------+----------+----------+------------------+\n",
            "\n"
          ]
        }
      ]
    },
    {
      "cell_type": "code",
      "source": [
        "sorted_by_box_office = movies_df.orderBy(movies_df.box_office.desc())\n",
        "sorted_by_box_office.show()"
      ],
      "metadata": {
        "colab": {
          "base_uri": "https://localhost:8080/"
        },
        "id": "neIUT4iZ-HuQ",
        "outputId": "7336ab09-c647-485b-b087-b8adcba17b75"
      },
      "execution_count": null,
      "outputs": [
        {
          "output_type": "stream",
          "name": "stdout",
          "text": [
            "+--------+-----------------+---------+------+----------+----------+------------------+\n",
            "|movie_id|            title|    genre|rating|box_office|      date|box_office_billion|\n",
            "+--------+-----------------+---------+------+----------+----------+------------------+\n",
            "|       4|Avengers: Endgame|   Action|   8.4|2797000000|2019-04-26|             2.797|\n",
            "|       5|    The Lion King|Animation|   8.5|1657000000|1994-06-15|             1.657|\n",
            "|       7|        Frozen II|Animation|   7.0|1450000000|2019-11-22|              1.45|\n",
            "|       8|            Joker|    Drama|   8.5|1074000000|2019-10-04|             1.074|\n",
            "|       6|      Toy Story 4|Animation|   7.8|1073000000|2019-06-21|             1.073|\n",
            "|       2|  The Dark Knight|   Action|   9.0|1004000000|2008-07-18|             1.004|\n",
            "|       1|        Inception|   Sci-Fi|   8.8| 830000000|2010-07-16|              0.83|\n",
            "|       3|     Interstellar|   Sci-Fi|   8.6| 677000000|2014-11-07|             0.677|\n",
            "|       9|         Parasite|    Drama|   8.6| 258000000|2019-05-30|             0.258|\n",
            "+--------+-----------------+---------+------+----------+----------+------------------+\n",
            "\n"
          ]
        }
      ]
    },
    {
      "cell_type": "code",
      "source": [
        "movies_count_by_genre = movies_df.groupBy(\"genre\").count()\n",
        "movies_count_by_genre.show()"
      ],
      "metadata": {
        "colab": {
          "base_uri": "https://localhost:8080/"
        },
        "id": "3rXC28Wv-KkR",
        "outputId": "41cb10f6-05d7-4189-e127-b8974425d9f0"
      },
      "execution_count": null,
      "outputs": [
        {
          "output_type": "stream",
          "name": "stdout",
          "text": [
            "+---------+-----+\n",
            "|    genre|count|\n",
            "+---------+-----+\n",
            "|    Drama|    2|\n",
            "|Animation|    3|\n",
            "|   Action|    2|\n",
            "|   Sci-Fi|    2|\n",
            "+---------+-----+\n",
            "\n"
          ]
        }
      ]
    }
  ]
}